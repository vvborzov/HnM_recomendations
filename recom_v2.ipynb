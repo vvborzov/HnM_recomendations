{
 "cells": [
  {
   "cell_type": "code",
   "execution_count": null,
   "outputs": [],
   "source": [
    "import pandas as pd\n",
    "import numpy as np\n",
    "import datetime\n",
    "import tensorflow as tf\n",
    "from tensorflow import keras\n",
    "from sklearn import preprocessing\n",
    "import gc\n",
    "import sys\n",
    "import time\n",
    "import pickle\n",
    "import tensorflow_datasets as tfds\n",
    "import random"
   ],
   "metadata": {
    "collapsed": false,
    "pycharm": {
     "name": "#%%\n"
    }
   }
  },
  {
   "cell_type": "code",
   "execution_count": null,
   "outputs": [],
   "source": [
    "from sklearn import metrics\n",
    "import matplotlib.pyplot as plt"
   ],
   "metadata": {
    "collapsed": false,
    "pycharm": {
     "name": "#%%\n"
    }
   }
  },
  {
   "cell_type": "code",
   "execution_count": null,
   "outputs": [],
   "source": [
    "CURRENT_PATH = './'"
   ],
   "metadata": {
    "collapsed": false,
    "pycharm": {
     "name": "#%%\n"
    }
   }
  },
  {
   "cell_type": "code",
   "execution_count": null,
   "outputs": [],
   "source": [
    "tf.config.run_functions_eagerly(False)"
   ],
   "metadata": {
    "collapsed": false,
    "pycharm": {
     "name": "#%%\n"
    }
   }
  },
  {
   "cell_type": "code",
   "execution_count": 1108,
   "outputs": [],
   "source": [
    "articles = pd.read_csv(''.join([CURRENT_PATH, 'articles.csv']), dtype=str)\n",
    "customers = pd.read_csv(''.join([CURRENT_PATH, 'customers.csv']), dtype=str)"
   ],
   "metadata": {
    "collapsed": false,
    "pycharm": {
     "name": "#%%\n"
    }
   }
  },
  {
   "cell_type": "code",
   "execution_count": null,
   "outputs": [],
   "source": [
    "df_customers_ids = pd.DataFrame({\n",
    "    \"customer_id\": customers.customer_id,\n",
    "    \"customer_num\": np.array(customers.index)\n",
    "})"
   ],
   "metadata": {
    "collapsed": false,
    "pycharm": {
     "name": "#%%\n"
    }
   }
  },
  {
   "cell_type": "code",
   "execution_count": 1109,
   "outputs": [],
   "source": [
    "df_articles_ids = pd.DataFrame({\n",
    "    \"article_id\": articles.article_id,\n",
    "    \"article_num\": np.array(articles.index)\n",
    "})"
   ],
   "metadata": {
    "collapsed": false,
    "pycharm": {
     "name": "#%%\n"
    }
   }
  },
  {
   "cell_type": "code",
   "execution_count": null,
   "outputs": [],
   "source": [
    "s = [\n",
    "    \"product_type_name\",\n",
    "    \"product_group_name\",\n",
    "    \"graphical_appearance_name\",\n",
    "    \"colour_group_name\",\n",
    "    \"perceived_colour_value_name\",\n",
    "    \"perceived_colour_master_name\",\n",
    "    \"section_name\",\n",
    "    \"garment_group_name\",\n",
    "    \"index_group_name\",\n",
    "    \"index_name\"\n",
    "]\n",
    "for i in s:\n",
    "    articles[i] = articles[i].astype('category')"
   ],
   "metadata": {
    "collapsed": false,
    "pycharm": {
     "name": "#%%\n"
    }
   }
  },
  {
   "cell_type": "code",
   "execution_count": null,
   "outputs": [],
   "source": [
    "def prepare_data_set(data_df):\n",
    "    category_features = data_df.select_dtypes('category').columns\n",
    "    #numeric_features = data_df.select_dtypes('number').columns\n",
    "    df = pd.DataFrame()\n",
    "    for col in category_features:\n",
    "        encoder = preprocessing.LabelEncoder()\n",
    "        df[col] = encoder.fit_transform(data_df[col])\n",
    "    return df"
   ],
   "metadata": {
    "collapsed": false,
    "pycharm": {
     "name": "#%%\n"
    }
   }
  },
  {
   "cell_type": "code",
   "execution_count": null,
   "outputs": [],
   "source": [
    "articles_processed = prepare_data_set(articles)"
   ],
   "metadata": {
    "collapsed": false,
    "pycharm": {
     "name": "#%%\n"
    }
   }
  },
  {
   "cell_type": "code",
   "execution_count": null,
   "outputs": [],
   "source": [
    "[(column, customers[column].nunique()) for column in customers.columns]"
   ],
   "metadata": {
    "collapsed": false,
    "pycharm": {
     "name": "#%%\n"
    }
   }
  },
  {
   "cell_type": "code",
   "execution_count": null,
   "outputs": [],
   "source": [
    "s = [\n",
    "    \"FN\",\n",
    "    \"Active\",\n",
    "    \"club_member_status\",\n",
    "    \"fashion_news_frequency\",\n",
    "    \"age\"\n",
    "]\n",
    "for i in s:\n",
    "    customers[i] = customers[i].astype('category')"
   ],
   "metadata": {
    "collapsed": false,
    "pycharm": {
     "name": "#%%\n"
    }
   }
  },
  {
   "cell_type": "code",
   "execution_count": null,
   "outputs": [],
   "source": [
    "customers_processed = prepare_data_set(customers)"
   ],
   "metadata": {
    "collapsed": false,
    "pycharm": {
     "name": "#%%\n"
    }
   }
  },
  {
   "cell_type": "markdown",
   "source": [
    "# Embedding'и для articles"
   ],
   "metadata": {
    "collapsed": false
   }
  },
  {
   "cell_type": "markdown",
   "source": [
    "### строим и обучаем модель embedding'ов"
   ],
   "metadata": {
    "collapsed": false
   }
  },
  {
   "cell_type": "code",
   "execution_count": null,
   "outputs": [],
   "source": [
    "def articles_embedding_data_build(articles_processed=articles_processed):\n",
    "    data_in = {}\n",
    "    data_out = {}\n",
    "\n",
    "    for cat in articles_processed.columns:\n",
    "        data_in['_'.join([\"input\", cat])] = articles_processed[cat]\n",
    "        data_out['_'.join([\"output\", cat])] = articles_processed[cat]\n",
    "\n",
    "    return tf.data.Dataset.from_tensor_slices((data_in, data_out))"
   ],
   "metadata": {
    "collapsed": false,
    "pycharm": {
     "name": "#%%\n"
    }
   }
  },
  {
   "cell_type": "code",
   "execution_count": null,
   "outputs": [],
   "source": [
    "def articles_embedding_model_build():\n",
    "    models = []\n",
    "    inputs = []\n",
    "    for cat in articles_processed.columns:\n",
    "        vocab_size = articles_processed[cat].nunique()\n",
    "        inpt = keras.layers.Input(shape=(1,),\n",
    "                                  name='_'.join([\"input\", cat]))\n",
    "        embed = keras.layers.Embedding(vocab_size, max([min([200, int(vocab_size * 2 / 3)]), 1]),trainable=True,\n",
    "                                       embeddings_initializer=tf.initializers.random_normal)(inpt)\n",
    "        embed_reshaped = keras.layers.Flatten()(embed)\n",
    "        models.append(embed_reshaped)\n",
    "        inputs.append(inpt)\n",
    "    merge_models= tf.keras.layers.concatenate(models)\n",
    "    pre_preds = keras.layers.Dense(64, name=\"core_embeddings\")(merge_models)\n",
    "    preds = []\n",
    "    for cat in articles_processed.columns:\n",
    "       vocab_size = articles[cat].nunique()\n",
    "       preds.append(keras.layers.Dense(vocab_size, name='_'.join([\"output\", cat]))(pre_preds))\n",
    "    return tf.keras.models.Model(inputs= inputs, outputs= preds)"
   ],
   "metadata": {
    "collapsed": false,
    "pycharm": {
     "name": "#%%\n"
    }
   }
  },
  {
   "cell_type": "code",
   "execution_count": null,
   "outputs": [],
   "source": [
    "model_full = articles_embedding_model_build()\n",
    "\n",
    "model_full.compile(loss={'_'.join([\"output\", cat]): keras.losses.SparseCategoricalCrossentropy() for cat in articles_processed.columns},\n",
    "                   metrics={'_'.join([\"output\", cat]): ['accuracy'] for cat in articles_processed.columns},\n",
    "                   optimizer='adam')\n",
    "\n",
    "model_full.summary()"
   ],
   "metadata": {
    "collapsed": false,
    "pycharm": {
     "name": "#%%\n"
    }
   }
  },
  {
   "cell_type": "code",
   "execution_count": null,
   "outputs": [],
   "source": [
    "articles_embedding_data_train = articles_embedding_data_build()\n",
    "articles_embedding_data_train = articles_embedding_data_train.shuffle(articles_processed.shape[0] // 10)\n",
    "articles_embedding_data_train = articles_embedding_data_train.batch(64)\n",
    "\n",
    "model_full.fit(\n",
    "    articles_embedding_data_train,\n",
    "    validation_data=articles_embedding_data_train,\n",
    "    epochs=2\n",
    ")"
   ],
   "metadata": {
    "collapsed": false,
    "pycharm": {
     "name": "#%%\n"
    }
   }
  },
  {
   "cell_type": "code",
   "execution_count": null,
   "outputs": [],
   "source": [
    "history = model_full.fit(\n",
    "    articles_embedding_data_train,\n",
    "    validation_data=articles_embedding_data_train,\n",
    "    epochs=10\n",
    ")"
   ],
   "metadata": {
    "collapsed": false,
    "pycharm": {
     "name": "#%%\n"
    }
   }
  },
  {
   "cell_type": "code",
   "execution_count": null,
   "outputs": [],
   "source": [
    "articles_embeddings_model = keras.Model(model_full.inputs, model_full.get_layer('core_embeddings').output)"
   ],
   "metadata": {
    "collapsed": false,
    "pycharm": {
     "name": "#%%\n"
    }
   }
  },
  {
   "cell_type": "code",
   "execution_count": null,
   "outputs": [],
   "source": [
    "articles_embeddings = articles_embeddings_model.predict(articles_embedding_data_build().batch(64))"
   ],
   "metadata": {
    "collapsed": false,
    "pycharm": {
     "name": "#%%\n"
    }
   }
  },
  {
   "cell_type": "markdown",
   "source": [
    "#### протестируем и сохраним"
   ],
   "metadata": {
    "collapsed": false
   }
  },
  {
   "cell_type": "code",
   "execution_count": null,
   "outputs": [],
   "source": [
    "simple_model = keras.models.Sequential([\n",
    "    tf.keras.layers.Dense(articles_processed.iloc[:, 2].nunique(), input_shape=(64,))\n",
    "])\n",
    "\n",
    "simple_model.compile(optimizer='adam',\n",
    "              loss='sparse_categorical_crossentropy',\n",
    "              metrics=['accuracy'])\n",
    "\n",
    "simple_model.fit(articles_embeddings, articles_processed.iloc[:, 2], batch_size=64, epochs = 10)"
   ],
   "metadata": {
    "collapsed": false,
    "pycharm": {
     "name": "#%%\n"
    }
   }
  },
  {
   "cell_type": "code",
   "execution_count": null,
   "outputs": [],
   "source": [
    "articles_embeddings_model.save(''.join([CURRENT_PATH, 'articles_embeddings_model2']))"
   ],
   "metadata": {
    "collapsed": false,
    "pycharm": {
     "name": "#%%\n"
    }
   }
  },
  {
   "cell_type": "code",
   "execution_count": null,
   "outputs": [],
   "source": [
    "with open(''.join([CURRENT_PATH, 'articles_embeddings2.pkl']), 'wb') as outp:\n",
    "    pickle.dump(articles_embeddings, outp, pickle.HIGHEST_PROTOCOL)"
   ],
   "metadata": {
    "collapsed": false,
    "pycharm": {
     "name": "#%%\n"
    }
   }
  },
  {
   "cell_type": "markdown",
   "source": [
    "#### В случае предобученной модели выполняем только эти строки"
   ],
   "metadata": {
    "collapsed": false
   }
  },
  {
   "cell_type": "code",
   "execution_count": null,
   "outputs": [],
   "source": [
    "with open(''.join([CURRENT_PATH, 'articles_embeddings2.pkl']), 'rb') as handle:\n",
    "    articles_embeddings = pickle.load(handle)"
   ],
   "metadata": {
    "collapsed": false,
    "pycharm": {
     "name": "#%%\n"
    }
   }
  },
  {
   "cell_type": "markdown",
   "source": [
    "# Работаем с входным сетом"
   ],
   "metadata": {
    "collapsed": false
   }
  },
  {
   "cell_type": "code",
   "execution_count": null,
   "outputs": [],
   "source": [
    "transactions_train = pd.read_csv(''.join([CURRENT_PATH, 'transactions_train.csv']))"
   ],
   "metadata": {
    "collapsed": false,
    "pycharm": {
     "name": "#%%\n"
    }
   }
  },
  {
   "cell_type": "code",
   "execution_count": null,
   "outputs": [],
   "source": [
    "n = gc.collect()\n",
    "print(\"Number of unreachable objects collected by GC:\", n)"
   ],
   "metadata": {
    "collapsed": false,
    "pycharm": {
     "name": "#%%\n"
    }
   }
  },
  {
   "cell_type": "code",
   "execution_count": null,
   "outputs": [],
   "source": [
    "df_dates = pd.DataFrame({'t_dat': np.array(transactions_train.groupby(by=['t_dat']).count().index.tolist())})\n",
    "\n",
    "df_dates[\"t_dat_date\"] = np.array([datetime.datetime.strptime(date, \"%Y-%m-%d\").date() for date in df_dates.t_dat])\n",
    "date_max = np.max(df_dates[\"t_dat_date\"])\n",
    "df_dates[\"t_weekn\"] = np.array([int(s.days / 7) for s in date_max-df_dates[\"t_dat_date\"]])\n",
    "df_dates[\"t_weekn\"] = np.max(df_dates[\"t_weekn\"]) - df_dates[\"t_weekn\"]"
   ],
   "metadata": {
    "collapsed": false,
    "pycharm": {
     "name": "#%%\n"
    }
   }
  },
  {
   "cell_type": "code",
   "execution_count": null,
   "outputs": [],
   "source": [
    "transactions_train = transactions_train.merge(df_dates, on=['t_dat'])[['t_dat', 'customer_id', 'article_id', 't_weekn', 'price', 'sales_channel_id']]"
   ],
   "metadata": {
    "collapsed": false,
    "pycharm": {
     "name": "#%%\n"
    }
   }
  },
  {
   "cell_type": "code",
   "execution_count": null,
   "outputs": [],
   "source": [
    "transactions_train = transactions_train.merge(df_customers_ids, on=['customer_id'])[['t_dat', 'customer_num', 'article_id', 't_weekn', 'price', 'sales_channel_id']]"
   ],
   "metadata": {
    "collapsed": false,
    "pycharm": {
     "name": "#%%\n"
    }
   }
  },
  {
   "cell_type": "code",
   "execution_count": null,
   "outputs": [],
   "source": [
    "transactions_train = transactions_train.merge(df_articles_ids, on=['article_id'])[['t_dat', 'customer_num', 'article_num', 't_weekn', 'price', 'sales_channel_id']]"
   ],
   "metadata": {
    "collapsed": false,
    "pycharm": {
     "name": "#%%\n"
    }
   }
  },
  {
   "cell_type": "code",
   "execution_count": null,
   "outputs": [],
   "source": [
    "transactions_train.sort_values(by = ['customer_num', 't_weekn'], inplace=True)"
   ],
   "metadata": {
    "collapsed": false,
    "pycharm": {
     "name": "#%%\n"
    }
   }
  },
  {
   "cell_type": "code",
   "execution_count": null,
   "outputs": [],
   "source": [
    "df_weeks = pd.DataFrame({\"t_weekn\": np.array(df_dates[\"t_weekn\"].unique())})\n",
    "n_weeks = np.max(df_weeks.t_weekn)"
   ],
   "metadata": {
    "collapsed": false,
    "pycharm": {
     "name": "#%%\n"
    }
   }
  },
  {
   "cell_type": "code",
   "execution_count": null,
   "outputs": [],
   "source": [
    "def cross_join_dfs(df1, df2):\n",
    "    df1_temp = df1.copy()\n",
    "    df2_temp = df2.copy()\n",
    "    df1_temp['key'] = 0\n",
    "    df2_temp['key'] = 0\n",
    "    df_new = pd.merge(df1_temp, df2_temp, on = 'key', how='outer')\n",
    "    df_new.pop('key')\n",
    "    return df_new"
   ],
   "metadata": {
    "collapsed": false,
    "pycharm": {
     "name": "#%%\n"
    }
   }
  },
  {
   "cell_type": "code",
   "execution_count": null,
   "outputs": [],
   "source": [
    "n = gc.collect()\n",
    "print(\"Number of unreachable objects collected by GC:\", n)"
   ],
   "metadata": {
    "collapsed": false,
    "pycharm": {
     "name": "#%%\n"
    }
   }
  },
  {
   "cell_type": "markdown",
   "source": [
    "# Предсказываем число покупок по каждому артикулу"
   ],
   "metadata": {
    "collapsed": false
   }
  },
  {
   "cell_type": "code",
   "execution_count": null,
   "outputs": [],
   "source": [
    "def construct_articles_dataset_v1(current_week = n_weeks - 1, n_treshold = 10):\n",
    "    df_dataset = pd.merge(\n",
    "        df_articles_ids,\n",
    "        transactions_train[transactions_train[\"t_weekn\"] == current_week].groupby(\"article_num\")[\"customer_num\"].nunique(),\n",
    "        how=\"left\", left_index=True, right_index=True\n",
    "    )[[\"article_num\", \"customer_num\"]]\n",
    "    df_dataset[\"target_val\"] = np.array(np.nan_to_num(df_dataset[\"customer_num\"] > n_treshold, 0), dtype=int)\n",
    "\n",
    "    articles_history = cross_join_dfs(\n",
    "        df_dataset,\n",
    "        df_weeks[df_weeks[\"t_weekn\"] < current_week]\n",
    "    )[[\"article_num\", \"t_weekn\"]]\n",
    "\n",
    "    articles_history = pd.merge(\n",
    "        articles_history,\n",
    "        transactions_train[transactions_train[\"t_weekn\"] < current_week].groupby(by=[\"article_num\", 't_weekn'])[\"customer_num\"].nunique(),\n",
    "        how='left', left_on=[\"article_num\", 't_weekn'], right_index=True\n",
    "    )\n",
    "\n",
    "    articles_history[\"customer_num\"].fillna(0, inplace=True)\n",
    "\n",
    "    articles_history.sort_values(by=['article_num', 't_weekn'], inplace=True)\n",
    "\n",
    "    x = {\"input_articles_history\": np.reshape(np.array(articles_history[\"customer_num\"]), (df_dataset.shape[0], articles_history.shape[0] // df_dataset.shape[0]))}\n",
    "    y = {\"target_val\": df_dataset[\"target_val\"]}\n",
    "\n",
    "    return x, y"
   ],
   "metadata": {
    "collapsed": false,
    "pycharm": {
     "name": "#%%\n"
    }
   }
  },
  {
   "cell_type": "code",
   "execution_count": null,
   "outputs": [],
   "source": [
    "def construct_articles_model_v1():\n",
    "    input_layer = keras.layers.Input(shape=(None, 1), name = 'input_articles_history')\n",
    "    x = keras.layers.GRU(8, activation='relu')(input_layer)\n",
    "    x = keras.layers.Dense(1, activation='sigmoid', name='target_val')(x)\n",
    "    return keras.models.Model(inputs = [input_layer], outputs = [x])"
   ],
   "metadata": {
    "collapsed": false,
    "pycharm": {
     "name": "#%%\n"
    }
   }
  },
  {
   "cell_type": "code",
   "execution_count": null,
   "outputs": [],
   "source": [
    "articles_model = construct_articles_model_v1()\n",
    "\n",
    "articles_model.summary()"
   ],
   "metadata": {
    "collapsed": false,
    "pycharm": {
     "name": "#%%\n"
    }
   }
  },
  {
   "cell_type": "code",
   "execution_count": null,
   "outputs": [],
   "source": [
    "articles_model.compile(\n",
    "    loss={\"target_val\": keras.losses.BinaryCrossentropy(from_logits=False)},\n",
    "    optimizer=tf.keras.optimizers.Adam(learning_rate=.0001),\n",
    "    metrics={\"target_val\": [\"accuracy\"]}\n",
    ")"
   ],
   "metadata": {
    "collapsed": false,
    "pycharm": {
     "name": "#%%\n"
    }
   }
  },
  {
   "cell_type": "code",
   "execution_count": null,
   "outputs": [],
   "source": [
    "articles_dataset = construct_articles_dataset_v1(n_weeks-10)"
   ],
   "metadata": {
    "collapsed": false,
    "pycharm": {
     "name": "#%%\n"
    }
   }
  },
  {
   "cell_type": "code",
   "execution_count": null,
   "outputs": [],
   "source": [
    "SAMPLE_SIZE = articles_dataset[1][\"target_val\"].shape[0]\n",
    "tf_dataset = tf.data.Dataset.from_tensor_slices(articles_dataset)\n",
    "tf_dataset = tf_dataset.shuffle(int(SAMPLE_SIZE / 100))\n",
    "test_dataset = tf_dataset.take(int(SAMPLE_SIZE * 0.2))\n",
    "train_dataset = tf_dataset.skip(int(SAMPLE_SIZE * 0.2))\n",
    "test_dataset = test_dataset.batch(256)\n",
    "train_dataset = train_dataset.batch(256)\n",
    "history = articles_model.fit(\n",
    "    train_dataset,\n",
    "    validation_data=test_dataset,\n",
    "    epochs=2\n",
    ")"
   ],
   "metadata": {
    "collapsed": false,
    "pycharm": {
     "name": "#%%\n"
    }
   }
  },
  {
   "cell_type": "code",
   "execution_count": null,
   "outputs": [],
   "source": [
    "articles_g10_probabilities = {}\n",
    "for current_week in range(n_weeks-10, n_weeks+1):\n",
    "    articles_dataset = construct_articles_dataset_v1(current_week)\n",
    "    articles_g10_probabilities[current_week] = articles_model.predict(tf.data.Dataset.from_tensor_slices(articles_dataset).batch(256))"
   ],
   "metadata": {
    "collapsed": false,
    "pycharm": {
     "name": "#%%\n"
    }
   }
  },
  {
   "cell_type": "code",
   "execution_count": null,
   "outputs": [],
   "source": [
    "articles_model.save(CURRENT_PATH + \"articles_g10_model\")"
   ],
   "metadata": {
    "collapsed": false,
    "pycharm": {
     "name": "#%%\n"
    }
   }
  },
  {
   "cell_type": "code",
   "execution_count": 1148,
   "outputs": [
    {
     "name": "stdout",
     "output_type": "stream",
     "text": [
      "Epoch 1/2\n",
      "330/330 [==============================] - 12s 36ms/step - loss: 0.0044 - accuracy: 0.9990 - val_loss: 5.9434e-04 - val_accuracy: 0.9999\n",
      "Epoch 2/2\n",
      "330/330 [==============================] - 11s 33ms/step - loss: 0.0021 - accuracy: 0.9996 - val_loss: 4.9567e-04 - val_accuracy: 1.0000\n",
      "Epoch 1/2\n",
      "330/330 [==============================] - 15s 35ms/step - loss: 0.0025 - accuracy: 0.9994 - val_loss: 7.5756e-04 - val_accuracy: 0.9999\n",
      "Epoch 2/2\n",
      "330/330 [==============================] - 11s 34ms/step - loss: 0.0024 - accuracy: 0.9994 - val_loss: 7.3320e-04 - val_accuracy: 0.9999\n"
     ]
    },
    {
     "ename": "KeyboardInterrupt",
     "evalue": "",
     "output_type": "error",
     "traceback": [
      "\u001B[0;31m---------------------------------------------------------------------------\u001B[0m",
      "\u001B[0;31mKeyboardInterrupt\u001B[0m                         Traceback (most recent call last)",
      "\u001B[0;32m/var/folders/8q/pnrnrzxs48133m1ggwh8dlhc0000gp/T/ipykernel_34521/1856451680.py\u001B[0m in \u001B[0;36m<module>\u001B[0;34m\u001B[0m\n\u001B[1;32m      1\u001B[0m \u001B[0;32mfor\u001B[0m \u001B[0mcurrent_week\u001B[0m \u001B[0;32min\u001B[0m \u001B[0mrange\u001B[0m\u001B[0;34m(\u001B[0m\u001B[0mn_weeks\u001B[0m\u001B[0;34m-\u001B[0m\u001B[0;36m10\u001B[0m\u001B[0;34m,\u001B[0m \u001B[0mn_weeks\u001B[0m\u001B[0;34m)\u001B[0m\u001B[0;34m:\u001B[0m\u001B[0;34m\u001B[0m\u001B[0;34m\u001B[0m\u001B[0m\n\u001B[0;32m----> 2\u001B[0;31m     \u001B[0marticles_dataset\u001B[0m \u001B[0;34m=\u001B[0m \u001B[0mconstruct_articles_dataset_v1\u001B[0m\u001B[0;34m(\u001B[0m\u001B[0mcurrent_week\u001B[0m\u001B[0;34m,\u001B[0m \u001B[0mn_treshold\u001B[0m\u001B[0;34m=\u001B[0m\u001B[0;36m200\u001B[0m\u001B[0;34m)\u001B[0m\u001B[0;34m\u001B[0m\u001B[0;34m\u001B[0m\u001B[0m\n\u001B[0m\u001B[1;32m      3\u001B[0m     \u001B[0mSAMPLE_SIZE\u001B[0m \u001B[0;34m=\u001B[0m \u001B[0marticles_dataset\u001B[0m\u001B[0;34m[\u001B[0m\u001B[0;36m1\u001B[0m\u001B[0;34m]\u001B[0m\u001B[0;34m[\u001B[0m\u001B[0;34m\"target_val\"\u001B[0m\u001B[0;34m]\u001B[0m\u001B[0;34m.\u001B[0m\u001B[0mshape\u001B[0m\u001B[0;34m[\u001B[0m\u001B[0;36m0\u001B[0m\u001B[0;34m]\u001B[0m\u001B[0;34m\u001B[0m\u001B[0;34m\u001B[0m\u001B[0m\n\u001B[1;32m      4\u001B[0m     \u001B[0mtf_dataset\u001B[0m \u001B[0;34m=\u001B[0m \u001B[0mtf\u001B[0m\u001B[0;34m.\u001B[0m\u001B[0mdata\u001B[0m\u001B[0;34m.\u001B[0m\u001B[0mDataset\u001B[0m\u001B[0;34m.\u001B[0m\u001B[0mfrom_tensor_slices\u001B[0m\u001B[0;34m(\u001B[0m\u001B[0marticles_dataset\u001B[0m\u001B[0;34m)\u001B[0m\u001B[0;34m\u001B[0m\u001B[0;34m\u001B[0m\u001B[0m\n\u001B[1;32m      5\u001B[0m     \u001B[0mtf_dataset\u001B[0m \u001B[0;34m=\u001B[0m \u001B[0mtf_dataset\u001B[0m\u001B[0;34m.\u001B[0m\u001B[0mshuffle\u001B[0m\u001B[0;34m(\u001B[0m\u001B[0mint\u001B[0m\u001B[0;34m(\u001B[0m\u001B[0mSAMPLE_SIZE\u001B[0m \u001B[0;34m/\u001B[0m \u001B[0;36m100\u001B[0m\u001B[0;34m)\u001B[0m\u001B[0;34m)\u001B[0m\u001B[0;34m\u001B[0m\u001B[0;34m\u001B[0m\u001B[0m\n",
      "\u001B[0;32m/var/folders/8q/pnrnrzxs48133m1ggwh8dlhc0000gp/T/ipykernel_34521/3147792095.py\u001B[0m in \u001B[0;36mconstruct_articles_dataset_v1\u001B[0;34m(current_week, n_treshold)\u001B[0m\n\u001B[1;32m     14\u001B[0m     articles_history = pd.merge(\n\u001B[1;32m     15\u001B[0m         \u001B[0marticles_history\u001B[0m\u001B[0;34m,\u001B[0m\u001B[0;34m\u001B[0m\u001B[0;34m\u001B[0m\u001B[0m\n\u001B[0;32m---> 16\u001B[0;31m         \u001B[0mtransactions_train\u001B[0m\u001B[0;34m[\u001B[0m\u001B[0mtransactions_train\u001B[0m\u001B[0;34m[\u001B[0m\u001B[0;34m\"t_weekn\"\u001B[0m\u001B[0;34m]\u001B[0m \u001B[0;34m<\u001B[0m \u001B[0mcurrent_week\u001B[0m\u001B[0;34m]\u001B[0m\u001B[0;34m.\u001B[0m\u001B[0mgroupby\u001B[0m\u001B[0;34m(\u001B[0m\u001B[0mby\u001B[0m\u001B[0;34m=\u001B[0m\u001B[0;34m[\u001B[0m\u001B[0;34m\"article_num\"\u001B[0m\u001B[0;34m,\u001B[0m \u001B[0;34m't_weekn'\u001B[0m\u001B[0;34m]\u001B[0m\u001B[0;34m)\u001B[0m\u001B[0;34m[\u001B[0m\u001B[0;34m\"customer_num\"\u001B[0m\u001B[0;34m]\u001B[0m\u001B[0;34m.\u001B[0m\u001B[0mnunique\u001B[0m\u001B[0;34m(\u001B[0m\u001B[0;34m)\u001B[0m\u001B[0;34m,\u001B[0m\u001B[0;34m\u001B[0m\u001B[0;34m\u001B[0m\u001B[0m\n\u001B[0m\u001B[1;32m     17\u001B[0m         \u001B[0mhow\u001B[0m\u001B[0;34m=\u001B[0m\u001B[0;34m'left'\u001B[0m\u001B[0;34m,\u001B[0m \u001B[0mleft_on\u001B[0m\u001B[0;34m=\u001B[0m\u001B[0;34m[\u001B[0m\u001B[0;34m\"article_num\"\u001B[0m\u001B[0;34m,\u001B[0m \u001B[0;34m't_weekn'\u001B[0m\u001B[0;34m]\u001B[0m\u001B[0;34m,\u001B[0m \u001B[0mright_index\u001B[0m\u001B[0;34m=\u001B[0m\u001B[0;32mTrue\u001B[0m\u001B[0;34m\u001B[0m\u001B[0;34m\u001B[0m\u001B[0m\n\u001B[1;32m     18\u001B[0m     )\n",
      "\u001B[0;32m~/opt/anaconda3/lib/python3.9/site-packages/pandas/core/groupby/generic.py\u001B[0m in \u001B[0;36mnunique\u001B[0;34m(self, dropna)\u001B[0m\n\u001B[1;32m    629\u001B[0m             \u001B[0mNumber\u001B[0m \u001B[0mof\u001B[0m \u001B[0munique\u001B[0m \u001B[0mvalues\u001B[0m \u001B[0mwithin\u001B[0m \u001B[0meach\u001B[0m \u001B[0mgroup\u001B[0m\u001B[0;34m.\u001B[0m\u001B[0;34m\u001B[0m\u001B[0;34m\u001B[0m\u001B[0m\n\u001B[1;32m    630\u001B[0m         \"\"\"\n\u001B[0;32m--> 631\u001B[0;31m         \u001B[0mids\u001B[0m\u001B[0;34m,\u001B[0m \u001B[0m_\u001B[0m\u001B[0;34m,\u001B[0m \u001B[0m_\u001B[0m \u001B[0;34m=\u001B[0m \u001B[0mself\u001B[0m\u001B[0;34m.\u001B[0m\u001B[0mgrouper\u001B[0m\u001B[0;34m.\u001B[0m\u001B[0mgroup_info\u001B[0m\u001B[0;34m\u001B[0m\u001B[0;34m\u001B[0m\u001B[0m\n\u001B[0m\u001B[1;32m    632\u001B[0m \u001B[0;34m\u001B[0m\u001B[0m\n\u001B[1;32m    633\u001B[0m         \u001B[0mval\u001B[0m \u001B[0;34m=\u001B[0m \u001B[0mself\u001B[0m\u001B[0;34m.\u001B[0m\u001B[0mobj\u001B[0m\u001B[0;34m.\u001B[0m\u001B[0m_values\u001B[0m\u001B[0;34m\u001B[0m\u001B[0;34m\u001B[0m\u001B[0m\n",
      "\u001B[0;32m~/opt/anaconda3/lib/python3.9/site-packages/pandas/_libs/properties.pyx\u001B[0m in \u001B[0;36mpandas._libs.properties.CachedProperty.__get__\u001B[0;34m()\u001B[0m\n",
      "\u001B[0;32m~/opt/anaconda3/lib/python3.9/site-packages/pandas/core/groupby/ops.py\u001B[0m in \u001B[0;36mgroup_info\u001B[0;34m(self)\u001B[0m\n\u001B[1;32m    898\u001B[0m     \u001B[0;34m@\u001B[0m\u001B[0mcache_readonly\u001B[0m\u001B[0;34m\u001B[0m\u001B[0;34m\u001B[0m\u001B[0m\n\u001B[1;32m    899\u001B[0m     \u001B[0;32mdef\u001B[0m \u001B[0mgroup_info\u001B[0m\u001B[0;34m(\u001B[0m\u001B[0mself\u001B[0m\u001B[0;34m)\u001B[0m\u001B[0;34m:\u001B[0m\u001B[0;34m\u001B[0m\u001B[0;34m\u001B[0m\u001B[0m\n\u001B[0;32m--> 900\u001B[0;31m         \u001B[0mcomp_ids\u001B[0m\u001B[0;34m,\u001B[0m \u001B[0mobs_group_ids\u001B[0m \u001B[0;34m=\u001B[0m \u001B[0mself\u001B[0m\u001B[0;34m.\u001B[0m\u001B[0m_get_compressed_codes\u001B[0m\u001B[0;34m(\u001B[0m\u001B[0;34m)\u001B[0m\u001B[0;34m\u001B[0m\u001B[0;34m\u001B[0m\u001B[0m\n\u001B[0m\u001B[1;32m    901\u001B[0m \u001B[0;34m\u001B[0m\u001B[0m\n\u001B[1;32m    902\u001B[0m         \u001B[0mngroups\u001B[0m \u001B[0;34m=\u001B[0m \u001B[0mlen\u001B[0m\u001B[0;34m(\u001B[0m\u001B[0mobs_group_ids\u001B[0m\u001B[0;34m)\u001B[0m\u001B[0;34m\u001B[0m\u001B[0;34m\u001B[0m\u001B[0m\n",
      "\u001B[0;32m~/opt/anaconda3/lib/python3.9/site-packages/pandas/core/groupby/ops.py\u001B[0m in \u001B[0;36m_get_compressed_codes\u001B[0;34m(self)\u001B[0m\n\u001B[1;32m    919\u001B[0m         \u001B[0;32mif\u001B[0m \u001B[0mlen\u001B[0m\u001B[0;34m(\u001B[0m\u001B[0mself\u001B[0m\u001B[0;34m.\u001B[0m\u001B[0mgroupings\u001B[0m\u001B[0;34m)\u001B[0m \u001B[0;34m>\u001B[0m \u001B[0;36m1\u001B[0m\u001B[0;34m:\u001B[0m\u001B[0;34m\u001B[0m\u001B[0;34m\u001B[0m\u001B[0m\n\u001B[1;32m    920\u001B[0m             \u001B[0mgroup_index\u001B[0m \u001B[0;34m=\u001B[0m \u001B[0mget_group_index\u001B[0m\u001B[0;34m(\u001B[0m\u001B[0mself\u001B[0m\u001B[0;34m.\u001B[0m\u001B[0mcodes\u001B[0m\u001B[0;34m,\u001B[0m \u001B[0mself\u001B[0m\u001B[0;34m.\u001B[0m\u001B[0mshape\u001B[0m\u001B[0;34m,\u001B[0m \u001B[0msort\u001B[0m\u001B[0;34m=\u001B[0m\u001B[0;32mTrue\u001B[0m\u001B[0;34m,\u001B[0m \u001B[0mxnull\u001B[0m\u001B[0;34m=\u001B[0m\u001B[0;32mTrue\u001B[0m\u001B[0;34m)\u001B[0m\u001B[0;34m\u001B[0m\u001B[0;34m\u001B[0m\u001B[0m\n\u001B[0;32m--> 921\u001B[0;31m             \u001B[0;32mreturn\u001B[0m \u001B[0mcompress_group_index\u001B[0m\u001B[0;34m(\u001B[0m\u001B[0mgroup_index\u001B[0m\u001B[0;34m,\u001B[0m \u001B[0msort\u001B[0m\u001B[0;34m=\u001B[0m\u001B[0mself\u001B[0m\u001B[0;34m.\u001B[0m\u001B[0m_sort\u001B[0m\u001B[0;34m)\u001B[0m\u001B[0;34m\u001B[0m\u001B[0;34m\u001B[0m\u001B[0m\n\u001B[0m\u001B[1;32m    922\u001B[0m \u001B[0;34m\u001B[0m\u001B[0m\n\u001B[1;32m    923\u001B[0m         \u001B[0mping\u001B[0m \u001B[0;34m=\u001B[0m \u001B[0mself\u001B[0m\u001B[0;34m.\u001B[0m\u001B[0mgroupings\u001B[0m\u001B[0;34m[\u001B[0m\u001B[0;36m0\u001B[0m\u001B[0;34m]\u001B[0m\u001B[0;34m\u001B[0m\u001B[0;34m\u001B[0m\u001B[0m\n",
      "\u001B[0;32m~/opt/anaconda3/lib/python3.9/site-packages/pandas/core/sorting.py\u001B[0m in \u001B[0;36mcompress_group_index\u001B[0;34m(group_index, sort)\u001B[0m\n\u001B[1;32m    659\u001B[0m \u001B[0;34m\u001B[0m\u001B[0m\n\u001B[1;32m    660\u001B[0m     \u001B[0;31m# note, group labels come out ascending (ie, 1,2,3 etc)\u001B[0m\u001B[0;34m\u001B[0m\u001B[0;34m\u001B[0m\u001B[0m\n\u001B[0;32m--> 661\u001B[0;31m     \u001B[0mcomp_ids\u001B[0m\u001B[0;34m,\u001B[0m \u001B[0mobs_group_ids\u001B[0m \u001B[0;34m=\u001B[0m \u001B[0mtable\u001B[0m\u001B[0;34m.\u001B[0m\u001B[0mget_labels_groupby\u001B[0m\u001B[0;34m(\u001B[0m\u001B[0mgroup_index\u001B[0m\u001B[0;34m)\u001B[0m\u001B[0;34m\u001B[0m\u001B[0;34m\u001B[0m\u001B[0m\n\u001B[0m\u001B[1;32m    662\u001B[0m \u001B[0;34m\u001B[0m\u001B[0m\n\u001B[1;32m    663\u001B[0m     \u001B[0;32mif\u001B[0m \u001B[0msort\u001B[0m \u001B[0;32mand\u001B[0m \u001B[0mlen\u001B[0m\u001B[0;34m(\u001B[0m\u001B[0mobs_group_ids\u001B[0m\u001B[0;34m)\u001B[0m \u001B[0;34m>\u001B[0m \u001B[0;36m0\u001B[0m\u001B[0;34m:\u001B[0m\u001B[0;34m\u001B[0m\u001B[0;34m\u001B[0m\u001B[0m\n",
      "\u001B[0;32mpandas/_libs/hashtable_class_helper.pxi\u001B[0m in \u001B[0;36mpandas._libs.hashtable.Int64HashTable.get_labels_groupby\u001B[0;34m()\u001B[0m\n",
      "\u001B[0;32m~/opt/anaconda3/lib/python3.9/site-packages/numpy/core/_asarray.py\u001B[0m in \u001B[0;36masarray\u001B[0;34m(a, dtype, order, like)\u001B[0m\n\u001B[1;32m     21\u001B[0m \u001B[0;34m\u001B[0m\u001B[0m\n\u001B[1;32m     22\u001B[0m \u001B[0;34m\u001B[0m\u001B[0m\n\u001B[0;32m---> 23\u001B[0;31m \u001B[0;34m@\u001B[0m\u001B[0mset_array_function_like_doc\u001B[0m\u001B[0;34m\u001B[0m\u001B[0;34m\u001B[0m\u001B[0m\n\u001B[0m\u001B[1;32m     24\u001B[0m \u001B[0;34m@\u001B[0m\u001B[0mset_module\u001B[0m\u001B[0;34m(\u001B[0m\u001B[0;34m'numpy'\u001B[0m\u001B[0;34m)\u001B[0m\u001B[0;34m\u001B[0m\u001B[0;34m\u001B[0m\u001B[0m\n\u001B[1;32m     25\u001B[0m \u001B[0;32mdef\u001B[0m \u001B[0masarray\u001B[0m\u001B[0;34m(\u001B[0m\u001B[0ma\u001B[0m\u001B[0;34m,\u001B[0m \u001B[0mdtype\u001B[0m\u001B[0;34m=\u001B[0m\u001B[0;32mNone\u001B[0m\u001B[0;34m,\u001B[0m \u001B[0morder\u001B[0m\u001B[0;34m=\u001B[0m\u001B[0;32mNone\u001B[0m\u001B[0;34m,\u001B[0m \u001B[0;34m*\u001B[0m\u001B[0;34m,\u001B[0m \u001B[0mlike\u001B[0m\u001B[0;34m=\u001B[0m\u001B[0;32mNone\u001B[0m\u001B[0;34m)\u001B[0m\u001B[0;34m:\u001B[0m\u001B[0;34m\u001B[0m\u001B[0;34m\u001B[0m\u001B[0m\n",
      "\u001B[0;31mKeyboardInterrupt\u001B[0m: "
     ]
    }
   ],
   "source": [
    "for current_week in range(n_weeks-10, n_weeks):\n",
    "    articles_dataset = construct_articles_dataset_v1(current_week, n_treshold=200)\n",
    "    SAMPLE_SIZE = articles_dataset[1][\"target_val\"].shape[0]\n",
    "    tf_dataset = tf.data.Dataset.from_tensor_slices(articles_dataset)\n",
    "    tf_dataset = tf_dataset.shuffle(int(SAMPLE_SIZE / 100))\n",
    "    test_dataset = tf_dataset.take(int(SAMPLE_SIZE * 0.2))\n",
    "    train_dataset = tf_dataset.skip(int(SAMPLE_SIZE * 0.2))\n",
    "    test_dataset = test_dataset.batch(256)\n",
    "    train_dataset = train_dataset.batch(256)\n",
    "    history = articles_model.fit(\n",
    "        train_dataset,\n",
    "        validation_data=test_dataset,\n",
    "        epochs=2\n",
    "    )"
   ],
   "metadata": {
    "collapsed": false,
    "pycharm": {
     "name": "#%%\n"
    }
   }
  },
  {
   "cell_type": "code",
   "execution_count": null,
   "outputs": [],
   "source": [
    "articles_g50_probabilities = {}\n",
    "for current_week in range(n_weeks-10, n_weeks+2):\n",
    "    articles_dataset = construct_articles_dataset_v1(current_week, n_treshold=50)\n",
    "    articles_g50_probabilities[current_week] = articles_model.predict(tf.data.Dataset.from_tensor_slices(articles_dataset).batch(256))"
   ],
   "metadata": {
    "collapsed": false,
    "pycharm": {
     "name": "#%%\n"
    }
   }
  },
  {
   "cell_type": "code",
   "execution_count": 1150,
   "outputs": [],
   "source": [
    "articles_g200_probabilities = {}\n",
    "for current_week in range(n_weeks-10, n_weeks+2):\n",
    "    articles_dataset = construct_articles_dataset_v1(current_week, n_treshold=200)\n",
    "    articles_g200_probabilities[current_week] = articles_model.predict(tf.data.Dataset.from_tensor_slices(articles_dataset).batch(256))\n",
    "    print(\"week_n =\", current_week, \"is done\")"
   ],
   "metadata": {
    "collapsed": false,
    "pycharm": {
     "name": "#%%\n"
    }
   }
  },
  {
   "cell_type": "code",
   "execution_count": 1151,
   "outputs": [
    {
     "name": "stdout",
     "output_type": "stream",
     "text": [
      "INFO:tensorflow:Assets written to: ./articles_g200_model/assets\n"
     ]
    },
    {
     "name": "stderr",
     "output_type": "stream",
     "text": [
      "INFO:tensorflow:Assets written to: ./articles_g200_model/assets\n",
      "WARNING:absl:<keras.layers.recurrent.GRUCell object at 0x7f8d0afc5a90> has the same name 'GRUCell' as a built-in Keras object. Consider renaming <class 'keras.layers.recurrent.GRUCell'> to avoid naming conflicts when loading with `tf.keras.models.load_model`. If renaming is not possible, pass the object in the `custom_objects` parameter of the load function.\n"
     ]
    }
   ],
   "source": [
    "articles_model.save(CURRENT_PATH + \"articles_g200_model\")"
   ],
   "metadata": {
    "collapsed": false,
    "pycharm": {
     "name": "#%%\n"
    }
   }
  },
  {
   "cell_type": "markdown",
   "source": [
    "# Предсказываем кросс-зависимость"
   ],
   "metadata": {
    "collapsed": false
   }
  },
  {
   "cell_type": "code",
   "execution_count": null,
   "outputs": [],
   "source": [
    "def construct_dataset_rnn(current_week = n_weeks - 1, multiplier = 10, last_n_transactions = 50, test_data = None):\n",
    "    target_dataset = pd.DataFrame()\n",
    "\n",
    "    if test_data is not None:\n",
    "        target_dataset = test_data.copy()\n",
    "        target_dataset[\"target_val\"] = 0\n",
    "    else:\n",
    "        transactions_target = transactions_train[transactions_train[\"t_weekn\"] == current_week].copy()\n",
    "        transactions_target[\"target_val\"] = 1\n",
    "        articles_target = transactions_target.groupby(by=\"article_num\").count()\n",
    "        articles_target = pd.DataFrame({\"article_num\": articles_target.index, \"frequency\": articles_target[\"customer_num\"]})\n",
    "        articles_target[\"frequency\"] = articles_target[\"frequency\"] / np.sum(articles_target[\"frequency\"])\n",
    "        articles_target.index = range(articles_target.shape[0])\n",
    "        articles_target[\"article_target_num\"] = articles_target.index\n",
    "        target_dataset = pd.DataFrame({\n",
    "            \"customer_num\": random.choices(transactions_target[\"customer_num\"].unique(), k=transactions_target.shape[0] * multiplier),\n",
    "            \"article_num\": random.choices(articles_target[\"article_num\"], weights=articles_target[\"frequency\"],\n",
    "                                      k=transactions_target.shape[0] * multiplier)\n",
    "        })\n",
    "        target_dataset = pd.merge(target_dataset, transactions_target, on=[\"customer_num\", \"article_num\"], how=\"left\")\n",
    "        target_dataset = target_dataset[target_dataset[\"t_dat\"].isnull()][[\"customer_num\", \"article_num\"]]\n",
    "        target_dataset[\"target_val\"] = 0\n",
    "        target_dataset = pd.concat([target_dataset, transactions_target[[\"customer_num\", \"article_num\", \"target_val\"]]])\n",
    "\n",
    "    articles_target = target_dataset.groupby(by=\"article_num\").count()\n",
    "    articles_target = pd.DataFrame({\"article_num\": articles_target.index})\n",
    "    articles_target.index = range(articles_target.shape[0])\n",
    "    articles_target[\"article_target_num\"] = articles_target.index\n",
    "\n",
    "    customers_target = pd.DataFrame({\"customer_num\": target_dataset.groupby(by='customer_num').count().index})\n",
    "    customers_target[\"customer_target_num\"] = customers_target.index\n",
    "\n",
    "    target_dataset = pd.merge(target_dataset, customers_target, on=\"customer_num\")\n",
    "    target_dataset = target_dataset.sort_values(by=\"customer_num\")\n",
    "    target_articles_embeddings = articles_embeddings[target_dataset[\"article_num\"]]\n",
    "    target_purchases = pd.merge(transactions_train[transactions_train[\"t_weekn\"] < current_week], customers_target,\n",
    "                                on=\"customer_num\").sort_values(by=[\"customer_num\", \"t_dat\"])\n",
    "    target_purchases = pd.concat([\n",
    "        target_purchases,\n",
    "        cross_join_dfs(\n",
    "            pd.DataFrame({\"customer_num\": customers_target[\"customer_num\"].unique()}),\n",
    "            pd.DataFrame({\"t_weekn\": range(-last_n_transactions, 0)})\n",
    "        )])\n",
    "    target_purchases[\"t_weekn\"] = current_week - target_purchases[\"t_weekn\"]\n",
    "    target_purchases.sort_values(by=[\"customer_num\", \"t_weekn\"], inplace=True)\n",
    "    target_purchases[\"purchase_num\"] = target_purchases.groupby(by=[\"customer_num\"])[\"t_weekn\"].cumcount() + 1\n",
    "    target_purchases = target_purchases[target_purchases[\"purchase_num\"] <= last_n_transactions].copy()\n",
    "    target_purchases[\"purchase_num\"] = last_n_transactions - target_purchases[\"purchase_num\"]\n",
    "    target_purchases[\"article_num\"].fillna(-1, inplace=True)\n",
    "    target_purchases_embeddings = np.array(\n",
    "        target_purchases.pivot(index=\"customer_num\", columns=\"purchase_num\", values=\"article_num\"), dtype=int)\n",
    "    target_purchases_is_purchase = np.sign(target_purchases_embeddings + 1)\n",
    "    target_purchases_embeddings_shape = target_purchases_embeddings.shape\n",
    "    target_purchases_embeddings = np.reshape(target_purchases_embeddings,\n",
    "                                             target_purchases_embeddings_shape[0] * target_purchases_embeddings_shape[1])\n",
    "    target_purchases_embeddings = np.reshape(\n",
    "        articles_embeddings[target_purchases_embeddings] * np.sign(target_purchases_embeddings + 1)[..., None]\n",
    "        , target_purchases_embeddings_shape + (articles_embeddings.shape[1],))\n",
    "    target_purchases_week_dist = np.array(\n",
    "        target_purchases.pivot(index=\"customer_num\", columns=\"purchase_num\", values=\"t_weekn\"), dtype=int)\n",
    "    x = {\n",
    "        \"input_customer_num\": np.array(target_dataset[\"customer_num\"]),\n",
    "        \"input_customer_FN\": customers_processed[\"FN\"][target_dataset[\"customer_num\"]],\n",
    "        \"input_customer_Active\": customers_processed[\"Active\"][target_dataset[\"customer_num\"]],\n",
    "        \"input_customer_club_member_status\": customers_processed[\"club_member_status\"][target_dataset[\"customer_num\"]],\n",
    "        \"input_customer_fashion_news_frequency\": customers_processed[\"fashion_news_frequency\"][target_dataset[\"customer_num\"]],\n",
    "        \"input_customer_age\": customers_processed[\"age\"][target_dataset[\"customer_num\"]],\n",
    "        \"input_article_num\": np.array(target_dataset[\"article_num\"]),\n",
    "        \"input_purchases_embeddings\": target_purchases_embeddings[target_dataset[\"customer_target_num\"]],\n",
    "        \"input_purchases_is_purchase\": target_purchases_is_purchase[target_dataset[\"customer_target_num\"]],\n",
    "        \"input_purchases_week_dist\": target_purchases_week_dist[target_dataset[\"customer_target_num\"]] / n_weeks,\n",
    "        \"input_articles_embeddings\": target_articles_embeddings\n",
    "    }\n",
    "    y = {\n",
    "        \"output_target_val\": np.array(target_dataset[\"target_val\"])\n",
    "    }\n",
    "    return x, y"
   ],
   "metadata": {
    "collapsed": false,
    "pycharm": {
     "name": "#%%\n"
    }
   }
  },
  {
   "cell_type": "code",
   "execution_count": null,
   "outputs": [],
   "source": [
    "def construct_dataset_plain(current_week = n_weeks - 1, multiplier = 10, test_data = None):\n",
    "    target_dataset = pd.DataFrame()\n",
    "\n",
    "    if test_data is not None:\n",
    "        target_dataset = test_data.copy()\n",
    "        target_dataset[\"target_val\"] = 0\n",
    "    else:\n",
    "        transactions_target = transactions_train[transactions_train[\"t_weekn\"] == current_week].copy()\n",
    "        transactions_target[\"target_val\"] = 1\n",
    "        articles_target = transactions_target.groupby(by=\"article_num\").count()\n",
    "        articles_target = pd.DataFrame({\"article_num\": articles_target.index, \"frequency\": articles_target[\"customer_num\"]})\n",
    "        articles_target[\"frequency\"] = articles_target[\"frequency\"] / np.sum(articles_target[\"frequency\"])\n",
    "        articles_target.index = range(articles_target.shape[0])\n",
    "        articles_target[\"article_target_num\"] = articles_target.index\n",
    "        target_dataset = pd.DataFrame({\n",
    "            \"customer_num\": random.choices(transactions_target[\"customer_num\"].unique(), k=transactions_target.shape[0] * multiplier),\n",
    "            \"article_num\": random.choices(articles_target[\"article_num\"], weights=articles_target[\"frequency\"],\n",
    "                                          k=transactions_target.shape[0] * multiplier)\n",
    "        })\n",
    "        target_dataset = pd.merge(target_dataset, transactions_target, on=[\"customer_num\", \"article_num\"], how=\"left\")\n",
    "        target_dataset = target_dataset[target_dataset[\"t_dat\"].isnull()][[\"customer_num\", \"article_num\"]]\n",
    "        target_dataset[\"target_val\"] = 0\n",
    "        target_dataset = pd.concat([target_dataset, transactions_target[[\"customer_num\", \"article_num\", \"target_val\"]]])\n",
    "\n",
    "    articles_target = target_dataset.groupby(by=\"article_num\").count()\n",
    "    articles_target = pd.DataFrame({\"article_num\": articles_target.index})\n",
    "    articles_target.index = range(articles_target.shape[0])\n",
    "    articles_target[\"article_target_num\"] = articles_target.index\n",
    "\n",
    "    customers_target = pd.DataFrame({\"customer_num\": target_dataset.groupby(by='customer_num').count().index})\n",
    "    customers_target[\"customer_target_num\"] = customers_target.index\n",
    "\n",
    "    target_dataset = pd.merge(target_dataset, customers_target, on=\"customer_num\")\n",
    "    target_dataset = target_dataset.sort_values(by=\"customer_num\")\n",
    "\n",
    "    last_purchases = pd.merge(\n",
    "        customers_target,\n",
    "        transactions_train[transactions_train[\"t_weekn\"] < current_week],\n",
    "        how=\"left\",\n",
    "        on=\"customer_num\")\n",
    "    last_purchases = last_purchases.groupby(by=\"customer_num\").last()\n",
    "    last_purchases = pd.merge(\n",
    "        last_purchases,\n",
    "        articles_processed,\n",
    "        how=\"left\",\n",
    "        left_on=\"article_num\",\n",
    "        right_index=True\n",
    "    )\n",
    "    last_purchases[\"logprice\"] = np.log(last_purchases[\"price\"] + 1e-07)\n",
    "\n",
    "\n",
    "    x = {\n",
    "        \"input_customer_num\": np.array(target_dataset[\"customer_num\"], dtype=int),\n",
    "        \"input_article_num\": np.array(target_dataset[\"article_num\"], dtype=int),\n",
    "    }\n",
    "    for customer_feature in customers_processed.columns:\n",
    "        x['_'.join([\"input_customer\", customer_feature])] = np.array(\n",
    "            customers_processed[customer_feature][target_dataset[\"customer_num\"]],\n",
    "            dtype=int)\n",
    "    for articles_feature in articles_processed.columns:\n",
    "        x['_'.join([\"input_article\", articles_feature])] = np.array(\n",
    "            articles_processed[articles_feature][target_dataset[\"article_num\"]],\n",
    "            dtype=int)\n",
    "    for articles_feature in articles_processed.columns:\n",
    "        x['_'.join([\"input_purchase\", articles_feature])] = np.array(\n",
    "            last_purchases[articles_feature][target_dataset[\"customer_num\"]].fillna(-1),\n",
    "            dtype=int) + 1\n",
    "    x[\"input_purchase_logprice\"] = np.array(\n",
    "        last_purchases[\"logprice\"][target_dataset[\"customer_num\"]].fillna(0),\n",
    "        dtype=float)\n",
    "    x[\"input_purchase_sales_channel_id\"] = np.array(\n",
    "        last_purchases[\"sales_channel_id\"][target_dataset[\"customer_num\"]].fillna(0),\n",
    "        dtype=int)\n",
    "\n",
    "    y = {\n",
    "        \"output_target_val\": np.array(target_dataset[\"target_val\"])\n",
    "    }\n",
    "    return x, y"
   ],
   "metadata": {
    "collapsed": false,
    "pycharm": {
     "name": "#%%\n"
    }
   }
  },
  {
   "cell_type": "code",
   "execution_count": null,
   "outputs": [],
   "source": [
    "def construct_dataset_plain_v2(current_week = n_weeks - 1, multiplier = 10, test_data = None):\n",
    "    target_dataset = pd.DataFrame()\n",
    "\n",
    "    if test_data is not None:\n",
    "        target_dataset = test_data.copy()\n",
    "        target_dataset[\"target_val\"] = 0\n",
    "    else:\n",
    "        transactions_target = transactions_train[transactions_train[\"t_weekn\"] == current_week].copy()\n",
    "        transactions_target[\"target_val\"] = 1\n",
    "        articles_target = transactions_target.groupby(by=\"article_num\").count()\n",
    "        articles_target = pd.DataFrame({\"article_num\": articles_target.index, \"frequency\": articles_target[\"customer_num\"]})\n",
    "        articles_target[\"frequency\"] = articles_target[\"frequency\"] / np.sum(articles_target[\"frequency\"])\n",
    "        articles_target.index = range(articles_target.shape[0])\n",
    "        articles_target[\"article_target_num\"] = articles_target.index\n",
    "        target_dataset = pd.DataFrame({\n",
    "            \"customer_num\": random.choices(transactions_target[\"customer_num\"].unique(), k=transactions_target.shape[0] * multiplier),\n",
    "            \"article_num\": random.choices(articles_target[\"article_num\"],\n",
    "                                          #weights=articles_target[\"frequency\"],\n",
    "                                          k=transactions_target.shape[0] * multiplier)\n",
    "        })\n",
    "        target_dataset = pd.merge(target_dataset, transactions_target, on=[\"customer_num\", \"article_num\"], how=\"left\")\n",
    "        target_dataset = target_dataset[target_dataset[\"t_dat\"].isnull()][[\"customer_num\", \"article_num\"]]\n",
    "        target_dataset[\"target_val\"] = 0\n",
    "        target_dataset = pd.concat([target_dataset, transactions_target[[\"customer_num\", \"article_num\", \"target_val\"]]])\n",
    "\n",
    "    articles_target = target_dataset.groupby(by=\"article_num\").count()\n",
    "    articles_target = pd.DataFrame({\"article_num\": articles_target.index})\n",
    "    articles_target.index = range(articles_target.shape[0])\n",
    "    articles_target[\"article_target_num\"] = articles_target.index\n",
    "\n",
    "    customers_target = pd.DataFrame({\"customer_num\": target_dataset.groupby(by='customer_num').count().index})\n",
    "    customers_target[\"customer_target_num\"] = customers_target.index\n",
    "\n",
    "    target_dataset = pd.merge(target_dataset, customers_target, on=\"customer_num\")\n",
    "    target_dataset = target_dataset.sort_values(by=\"customer_num\")\n",
    "\n",
    "    last_purchases = pd.merge(\n",
    "        customers_target,\n",
    "        transactions_train[transactions_train[\"t_weekn\"] < current_week],\n",
    "        how=\"left\",\n",
    "        on=\"customer_num\")\n",
    "    last_purchases = last_purchases.groupby(by=\"customer_num\").last()\n",
    "    last_purchases = pd.merge(\n",
    "        last_purchases,\n",
    "        articles_processed,\n",
    "        how=\"left\",\n",
    "        left_on=\"article_num\",\n",
    "        right_index=True\n",
    "    )\n",
    "    last_purchases[\"logprice\"] = np.log(last_purchases[\"price\"] + 1e-07)\n",
    "\n",
    "    articles_history = transactions_train[transactions_train[\"t_weekn\"] < current_week].groupby(\"article_num\")[[\"price\", \"sales_channel_id\"]].mean()\n",
    "    articles_history[\"sales_channel_id\"] = articles_history[\"sales_channel_id\"] - 1\n",
    "    articles_history[\"popularity\"] = transactions_train[transactions_train[\"t_weekn\"] < current_week].groupby(\"article_num\")[\"customer_num\"].nunique() / customers_processed.shape[0]\n",
    "    articles_history[\"batchlike\"] = transactions_train[transactions_train[\"t_weekn\"] < current_week].groupby(\"article_num\")[\"customer_num\"].count() / transactions_train[transactions_train[\"t_weekn\"] < current_week].groupby(\"article_num\")[\"customer_num\"].nunique()\n",
    "    articles_history[\"logprice\"]  = np.log(articles_history[\"price\"])\n",
    "    articles_history.drop(columns=[\"price\"], inplace=True)\n",
    "    articles_history = pd.merge(\n",
    "        articles_target,\n",
    "        articles_history,\n",
    "        how = \"left\", left_on = \"article_num\", right_index= True\n",
    "    )\n",
    "    articles_history.fillna(0., inplace=True)\n",
    "    articles_history.index = articles_history[\"article_num\"]\n",
    "    articles_history.drop(columns=[\"article_num\"], inplace=True)\n",
    "    articles_history.drop(columns=[\"article_target_num\"], inplace=True)\n",
    "\n",
    "    x = {\n",
    "        \"input_customer_num\": np.array(target_dataset[\"customer_num\"], dtype=int),\n",
    "        \"input_article_num\": np.array(target_dataset[\"article_num\"], dtype=int),\n",
    "    }\n",
    "    for customer_feature in customers_processed.columns:\n",
    "        x['_'.join([\"input_customer\", customer_feature])] = np.array(\n",
    "            customers_processed[customer_feature][target_dataset[\"customer_num\"]],\n",
    "            dtype=int)\n",
    "    for articles_feature in articles_processed.columns:\n",
    "        x['_'.join([\"input_article\", articles_feature])] = np.array(\n",
    "            articles_processed[articles_feature][target_dataset[\"article_num\"]],\n",
    "            dtype=int)\n",
    "    for articles_feature in articles_processed.columns:\n",
    "        x['_'.join([\"input_purchase\", articles_feature])] = np.array(\n",
    "            last_purchases[articles_feature][target_dataset[\"customer_num\"]].fillna(-1),\n",
    "            dtype=int) + 1\n",
    "    x[\"input_purchase_logprice\"] = np.array(\n",
    "        last_purchases[\"logprice\"][target_dataset[\"customer_num\"]].fillna(0),\n",
    "        dtype=float)\n",
    "    x[\"input_purchase_sales_channel_id\"] = np.array(\n",
    "        last_purchases[\"sales_channel_id\"][target_dataset[\"customer_num\"]].fillna(0),\n",
    "        dtype=int)\n",
    "    for article_history_feature in articles_history.columns:\n",
    "        x['_'.join([\"input_article_history\", article_history_feature])] = np.array(\n",
    "            articles_history[article_history_feature][target_dataset[\"article_num\"]],\n",
    "            dtype=float\n",
    "        )\n",
    "\n",
    "    y = {\n",
    "        \"output_target_val\": np.array(target_dataset[\"target_val\"])\n",
    "    }\n",
    "    return x, y"
   ],
   "metadata": {
    "collapsed": false,
    "pycharm": {
     "name": "#%%\n"
    }
   }
  },
  {
   "cell_type": "code",
   "execution_count": null,
   "outputs": [],
   "source": [
    "def construct_dataset_v3(current_week = n_weeks - 1, multiplier = 10, last_n_transactions = 50, test_data = None):\n",
    "    target_dataset = pd.DataFrame()\n",
    "\n",
    "    if test_data is not None:\n",
    "        target_dataset = test_data.copy()\n",
    "        target_dataset[\"target_val\"] = 0\n",
    "    else:\n",
    "        transactions_target = transactions_train[transactions_train[\"t_weekn\"] == current_week].copy()\n",
    "        transactions_target[\"target_val\"] = 1\n",
    "        articles_target = transactions_target.groupby(by=\"article_num\").count()\n",
    "        articles_target = pd.DataFrame({\"article_num\": articles_target.index, \"frequency\": articles_target[\"customer_num\"]})\n",
    "        articles_target[\"frequency\"] = articles_target[\"frequency\"] / np.sum(articles_target[\"frequency\"])\n",
    "        articles_target.index = range(articles_target.shape[0])\n",
    "        articles_target[\"article_target_num\"] = articles_target.index\n",
    "        target_dataset = pd.DataFrame({\n",
    "            \"customer_num\": random.choices(transactions_target[\"customer_num\"].unique(), k=transactions_target.shape[0] * multiplier),\n",
    "            \"article_num\": random.choices(articles_target[\"article_num\"],\n",
    "                                          weights=articles_target[\"frequency\"],\n",
    "                                          k=transactions_target.shape[0] * multiplier)\n",
    "        })\n",
    "        target_dataset = pd.merge(target_dataset, transactions_target, on=[\"customer_num\", \"article_num\"], how=\"left\")\n",
    "        target_dataset = target_dataset[target_dataset[\"t_dat\"].isnull()][[\"customer_num\", \"article_num\"]]\n",
    "        target_dataset[\"target_val\"] = 0\n",
    "        target_dataset = pd.concat([target_dataset, transactions_target[[\"customer_num\", \"article_num\", \"target_val\"]]])\n",
    "\n",
    "    articles_target = target_dataset.groupby(by=\"article_num\").count()\n",
    "    articles_target = pd.DataFrame({\"article_num\": articles_target.index})\n",
    "    articles_target.index = range(articles_target.shape[0])\n",
    "    articles_target[\"article_target_num\"] = articles_target.index\n",
    "\n",
    "    customers_target = pd.DataFrame({\"customer_num\": target_dataset.groupby(by='customer_num').count().index})\n",
    "    customers_target[\"customer_target_num\"] = customers_target.index\n",
    "\n",
    "    target_dataset = pd.merge(target_dataset, customers_target, on=\"customer_num\")\n",
    "    target_dataset = target_dataset.sort_values(by=\"customer_num\")\n",
    "\n",
    "    last_purchases = pd.merge(\n",
    "        customers_target,\n",
    "        transactions_train[transactions_train[\"t_weekn\"] < current_week],\n",
    "        on=\"customer_num\")\n",
    "    last_purchases_dummy = customers_target.copy()\n",
    "    for key in [key for key in transactions_train.columns if key != \"customer_num\"]:\n",
    "        last_purchases_dummy[key] = -1.\n",
    "    last_purchases_dummy[\"price\"] = np.mean(last_purchases[\"price\"])\n",
    "    last_purchases_dummy[\"sales_channel_id\"] = 0\n",
    "    last_purchases = pd.concat([\n",
    "        last_purchases_dummy.loc[last_purchases_dummy.index.repeat(last_n_transactions)],\n",
    "        last_purchases\n",
    "    ])\n",
    "    last_purchases = last_purchases.groupby(by=\"customer_num\").tail(last_n_transactions)\n",
    "    last_purchases[\"logprice\"] = np.log(last_purchases[\"price\"] + 1e-07)\n",
    "    last_purchases[\"rand\"] = np.random.rand(last_purchases.shape[0])\n",
    "    last_purchases.sort_values(by=[\"customer_num\", \"t_weekn\", \"t_dat\", \"rand\"], inplace=True)\n",
    "    last_purchases[\"rank\"] = last_purchases.groupby(\"customer_num\")[\"article_num\"].cumcount()\n",
    "    article_processed_with_dummy = articles_processed.append(\n",
    "        pd.DataFrame([[-1 for key in articles_processed.columns]], columns=articles_processed.columns, index=[-1])\n",
    "    )\n",
    "\n",
    "    articles_history = transactions_train[transactions_train[\"t_weekn\"] < current_week].groupby(\"article_num\")[[\"price\", \"sales_channel_id\"]].mean()\n",
    "    articles_history[\"sales_channel_id\"] = articles_history[\"sales_channel_id\"] - 1\n",
    "    articles_history[\"popularity\"] = transactions_train[transactions_train[\"t_weekn\"] < current_week].groupby(\"article_num\")[\"customer_num\"].nunique() / customers_processed.shape[0]\n",
    "    articles_history[\"batchlike\"] = transactions_train[transactions_train[\"t_weekn\"] < current_week].groupby(\"article_num\")[\"customer_num\"].count() / transactions_train[transactions_train[\"t_weekn\"] < current_week].groupby(\"article_num\")[\"customer_num\"].nunique()\n",
    "    articles_history[\"logprice\"]  = np.log(articles_history[\"price\"])\n",
    "    articles_history.drop(columns=[\"price\"], inplace=True)\n",
    "    articles_history = pd.merge(\n",
    "        articles_target,\n",
    "        articles_history,\n",
    "        how = \"left\", left_on = \"article_num\", right_index= True\n",
    "    )\n",
    "    articles_history.fillna(0., inplace=True)\n",
    "    articles_history.index = articles_history[\"article_num\"]\n",
    "    articles_history.drop(columns=[\"article_num\"], inplace=True)\n",
    "    articles_history.drop(columns=[\"article_target_num\"], inplace=True)\n",
    "\n",
    "    x = {\n",
    "        \"input_customer_num\": np.array(target_dataset[\"customer_num\"], dtype=int),\n",
    "        \"input_article_num\": np.array(target_dataset[\"article_num\"], dtype=int),\n",
    "    }\n",
    "\n",
    "    for customer_feature in customers_processed.columns:\n",
    "        x['_'.join([\"input_customer\", customer_feature])] = np.array(\n",
    "            customers_processed[customer_feature][target_dataset[\"customer_num\"]],\n",
    "            dtype=int)\n",
    "\n",
    "    for articles_feature in articles_processed.columns:\n",
    "        x['_'.join([\"input_article\", articles_feature])] = np.array(\n",
    "            articles_processed[articles_feature][target_dataset[\"article_num\"]],\n",
    "            dtype=int)\n",
    "\n",
    "    df_purchases_articles = last_purchases.pivot(index=\"customer_num\", columns=\"rank\", values=\"article_num\")\n",
    "    df_purchases_articles = np.reshape(np.array(df_purchases_articles.loc[target_dataset[\"customer_num\"]], dtype=int), (last_n_transactions * target_dataset.shape[0],))\n",
    "    for articles_feature in articles_processed.columns:\n",
    "        x['_'.join([\"input_purchase\", articles_feature])] = np.reshape(\n",
    "            np.array(article_processed_with_dummy[articles_feature][df_purchases_articles], dtype=int) + 1,\n",
    "            (target_dataset.shape[0], last_n_transactions)\n",
    "        )\n",
    "    df_purchases_logprice = last_purchases.pivot(index=\"customer_num\", columns=\"rank\", values=\"logprice\")\n",
    "    x[\"input_purchase_logprice\"] = np.array(\n",
    "        df_purchases_logprice.loc[target_dataset[\"customer_num\"]],\n",
    "        dtype=float)\n",
    "    df_purchases_sales_channel_id = last_purchases.pivot(index=\"customer_num\", columns=\"rank\", values=\"sales_channel_id\")\n",
    "    x[\"input_purchase_sales_channel_id\"] = np.array(\n",
    "        df_purchases_sales_channel_id.loc[target_dataset[\"customer_num\"]],\n",
    "        dtype=int)\n",
    "\n",
    "    for article_history_feature in articles_history.columns:\n",
    "        x['_'.join([\"input_article_history\", article_history_feature])] = np.array(\n",
    "            articles_history[article_history_feature][target_dataset[\"article_num\"]],\n",
    "            dtype=float\n",
    "        )\n",
    "\n",
    "    y = {\n",
    "        \"output_target_val\": np.array(target_dataset[\"target_val\"])\n",
    "    }\n",
    "    return x, y"
   ],
   "metadata": {
    "collapsed": false,
    "pycharm": {
     "name": "#%%\n"
    }
   }
  },
  {
   "cell_type": "code",
   "execution_count": null,
   "outputs": [],
   "source": [
    "def construct_dataset_v4(current_week = n_weeks - 1, multiplier = 10, last_n_transactions = 50, test_data = None):\n",
    "    target_dataset = pd.DataFrame()\n",
    "\n",
    "    if test_data is not None:\n",
    "        target_dataset = test_data.copy()\n",
    "        target_dataset[\"target_val\"] = 0\n",
    "    else:\n",
    "        transactions_target = transactions_train[transactions_train[\"t_weekn\"] == current_week].copy()\n",
    "        transactions_target[\"target_val\"] = 1\n",
    "        articles_target = transactions_target.groupby(by=\"article_num\").count()\n",
    "        articles_target = pd.DataFrame({\"article_num\": articles_target.index, \"frequency\": articles_target[\"customer_num\"]})\n",
    "        articles_target[\"frequency\"] = articles_target[\"frequency\"] / np.sum(articles_target[\"frequency\"])\n",
    "        articles_target.index = range(articles_target.shape[0])\n",
    "        articles_target[\"article_target_num\"] = articles_target.index\n",
    "        target_dataset = pd.DataFrame({\n",
    "            \"customer_num\": random.choices(transactions_target[\"customer_num\"].unique(), k=transactions_target.shape[0] * multiplier),\n",
    "            \"article_num\": random.choices(df_articles_ids[\"article_num\"],\n",
    "                                          weights=articles_g10_probabilities[current_week] / np.sum(articles_g10_probabilities[current_week]),\n",
    "                                          k=transactions_target.shape[0] * multiplier)\n",
    "        })\n",
    "        target_dataset = pd.merge(target_dataset, transactions_target, on=[\"customer_num\", \"article_num\"], how=\"left\")\n",
    "        target_dataset = target_dataset[target_dataset[\"t_dat\"].isnull()][[\"customer_num\", \"article_num\"]]\n",
    "        target_dataset[\"target_val\"] = 0\n",
    "        target_dataset = pd.concat([target_dataset, transactions_target[[\"customer_num\", \"article_num\", \"target_val\"]]])\n",
    "\n",
    "    articles_target = target_dataset.groupby(by=\"article_num\").count()\n",
    "    articles_target = pd.DataFrame({\"article_num\": articles_target.index})\n",
    "    articles_target.index = range(articles_target.shape[0])\n",
    "    articles_target[\"article_target_num\"] = articles_target.index\n",
    "\n",
    "    customers_target = pd.DataFrame({\"customer_num\": target_dataset.groupby(by='customer_num').count().index})\n",
    "    customers_target[\"customer_target_num\"] = customers_target.index\n",
    "\n",
    "    target_dataset = pd.merge(target_dataset, customers_target, on=\"customer_num\")\n",
    "    target_dataset = target_dataset.sort_values(by=\"customer_num\")\n",
    "\n",
    "    last_purchases = pd.merge(\n",
    "        customers_target,\n",
    "        transactions_train[transactions_train[\"t_weekn\"] < current_week],\n",
    "        on=\"customer_num\")\n",
    "    last_purchases_dummy = customers_target.copy()\n",
    "    for key in [key for key in transactions_train.columns if key != \"customer_num\"]:\n",
    "        last_purchases_dummy[key] = -1.\n",
    "    last_purchases_dummy[\"price\"] = np.mean(last_purchases[\"price\"])\n",
    "    last_purchases_dummy[\"sales_channel_id\"] = 0\n",
    "    last_purchases = pd.concat([\n",
    "        last_purchases_dummy.loc[last_purchases_dummy.index.repeat(last_n_transactions)],\n",
    "        last_purchases\n",
    "    ])\n",
    "    last_purchases = last_purchases.groupby(by=\"customer_num\").tail(last_n_transactions)\n",
    "    last_purchases[\"logprice\"] = np.log(last_purchases[\"price\"] + 1e-07)\n",
    "    last_purchases[\"rand\"] = np.random.rand(last_purchases.shape[0])\n",
    "    last_purchases.sort_values(by=[\"customer_num\", \"t_weekn\", \"t_dat\", \"rand\"], inplace=True)\n",
    "    last_purchases[\"rank\"] = last_purchases.groupby(\"customer_num\")[\"article_num\"].cumcount()\n",
    "    article_processed_with_dummy = articles_processed.append(\n",
    "        pd.DataFrame([[-1 for key in articles_processed.columns]], columns=articles_processed.columns, index=[-1])\n",
    "    )\n",
    "\n",
    "    articles_history = transactions_train[transactions_train[\"t_weekn\"] < current_week].groupby(\"article_num\")[[\"price\", \"sales_channel_id\"]].mean()\n",
    "    articles_history[\"sales_channel_id\"] = articles_history[\"sales_channel_id\"] - 1\n",
    "    articles_history[\"popularity\"] = transactions_train[transactions_train[\"t_weekn\"] < current_week].groupby(\"article_num\")[\"customer_num\"].nunique() / customers_processed.shape[0]\n",
    "    articles_history[\"batchlike\"] = transactions_train[transactions_train[\"t_weekn\"] < current_week].groupby(\"article_num\")[\"customer_num\"].count() / transactions_train[transactions_train[\"t_weekn\"] < current_week].groupby(\"article_num\")[\"customer_num\"].nunique()\n",
    "    articles_history[\"logprice\"]  = np.log(articles_history[\"price\"])\n",
    "    articles_history.drop(columns=[\"price\"], inplace=True)\n",
    "    articles_history = pd.merge(\n",
    "        articles_target,\n",
    "        articles_history,\n",
    "        how = \"left\", left_on = \"article_num\", right_index= True\n",
    "    )\n",
    "    articles_history.fillna(0., inplace=True)\n",
    "    articles_history.index = articles_history[\"article_num\"]\n",
    "    articles_history.drop(columns=[\"article_num\"], inplace=True)\n",
    "    articles_history.drop(columns=[\"article_target_num\"], inplace=True)\n",
    "\n",
    "    x = {\n",
    "        \"input_customer_num\": np.array(target_dataset[\"customer_num\"], dtype=int),\n",
    "        \"input_article_num\": np.array(target_dataset[\"article_num\"], dtype=int),\n",
    "    }\n",
    "\n",
    "    for customer_feature in customers_processed.columns:\n",
    "        x['_'.join([\"input_customer\", customer_feature])] = np.array(\n",
    "            customers_processed[customer_feature][target_dataset[\"customer_num\"]],\n",
    "            dtype=int)\n",
    "\n",
    "    for articles_feature in articles_processed.columns:\n",
    "        x['_'.join([\"input_article\", articles_feature])] = np.array(\n",
    "            articles_processed[articles_feature][target_dataset[\"article_num\"]],\n",
    "            dtype=int)\n",
    "\n",
    "    df_purchases_articles = last_purchases.pivot(index=\"customer_num\", columns=\"rank\", values=\"article_num\")\n",
    "    df_purchases_articles = np.reshape(np.array(df_purchases_articles.loc[target_dataset[\"customer_num\"]], dtype=int), (last_n_transactions * target_dataset.shape[0],))\n",
    "    for articles_feature in articles_processed.columns:\n",
    "        x['_'.join([\"input_purchase\", articles_feature])] = np.reshape(\n",
    "            np.array(article_processed_with_dummy[articles_feature][df_purchases_articles], dtype=int) + 1,\n",
    "            (target_dataset.shape[0], last_n_transactions)\n",
    "        )\n",
    "    df_purchases_logprice = last_purchases.pivot(index=\"customer_num\", columns=\"rank\", values=\"logprice\")\n",
    "    x[\"input_purchase_logprice\"] = np.array(\n",
    "        df_purchases_logprice.loc[target_dataset[\"customer_num\"]],\n",
    "        dtype=float)\n",
    "    df_purchases_sales_channel_id = last_purchases.pivot(index=\"customer_num\", columns=\"rank\", values=\"sales_channel_id\")\n",
    "    x[\"input_purchase_sales_channel_id\"] = np.array(\n",
    "        df_purchases_sales_channel_id.loc[target_dataset[\"customer_num\"]],\n",
    "        dtype=int)\n",
    "\n",
    "    for article_history_feature in articles_history.columns:\n",
    "        x['_'.join([\"input_article_history\", article_history_feature])] = np.array(\n",
    "            articles_history[article_history_feature][target_dataset[\"article_num\"]],\n",
    "            dtype=float\n",
    "        )\n",
    "\n",
    "    y = {\n",
    "        \"output_target_val\": np.array(target_dataset[\"target_val\"])\n",
    "    }\n",
    "    return x, y"
   ],
   "metadata": {
    "collapsed": false,
    "pycharm": {
     "name": "#%%\n"
    }
   }
  },
  {
   "cell_type": "code",
   "execution_count": null,
   "outputs": [],
   "source": [
    "def construct_dataset_v5(current_week = n_weeks - 1, multiplier = 10, last_n_transactions = 50, test_data = None, max_size = -1):\n",
    "    target_dataset = pd.DataFrame()\n",
    "\n",
    "    if test_data is not None:\n",
    "        target_dataset = test_data.copy()\n",
    "        target_dataset[\"target_val\"] = 0\n",
    "    else:\n",
    "        transactions_target = transactions_train[transactions_train[\"t_weekn\"] == current_week].copy()\n",
    "        transactions_target = pd.merge(\n",
    "            transactions_target,\n",
    "            df_articles_ids[\"article_num\"][[i for i, x in enumerate(articles_g10_probabilities[current_week]>0.5) if x]],\n",
    "            on=\"article_num\"\n",
    "        )\n",
    "        if max_size > 0:\n",
    "            transactions_target = transactions_target.sample(min(transactions_target.shape[0], int(max_size / (multiplier + 1))))\n",
    "        transactions_target[\"target_val\"] = 1\n",
    "        target_dataset = pd.DataFrame({\n",
    "            \"customer_num\": random.choices(transactions_target[\"customer_num\"].unique(), k=transactions_target.shape[0] * multiplier),\n",
    "            \"article_num\": random.choices(df_articles_ids[\"article_num\"],\n",
    "                                          weights=(articles_g10_probabilities[current_week] > 0.5) / np.sum(articles_g10_probabilities[current_week]),\n",
    "                                          k=transactions_target.shape[0] * multiplier)\n",
    "        })\n",
    "        target_dataset = pd.merge(target_dataset, transactions_target, on=[\"customer_num\", \"article_num\"], how=\"left\")\n",
    "        target_dataset = target_dataset[target_dataset[\"t_dat\"].isnull()][[\"customer_num\", \"article_num\"]]\n",
    "        target_dataset[\"target_val\"] = 0\n",
    "        target_dataset = pd.concat([target_dataset, transactions_target[[\"customer_num\", \"article_num\", \"target_val\"]]])\n",
    "\n",
    "    articles_target = target_dataset.groupby(by=\"article_num\").count()\n",
    "    articles_target = pd.DataFrame({\"article_num\": articles_target.index})\n",
    "    articles_target.index = range(articles_target.shape[0])\n",
    "    articles_target[\"article_target_num\"] = articles_target.index\n",
    "\n",
    "    customers_target = pd.DataFrame({\"customer_num\": target_dataset.groupby(by='customer_num').count().index})\n",
    "    customers_target[\"customer_target_num\"] = customers_target.index\n",
    "\n",
    "    target_dataset = pd.merge(target_dataset, customers_target, on=\"customer_num\")\n",
    "    target_dataset = target_dataset.sort_values(by=\"customer_num\")\n",
    "\n",
    "    last_purchases = pd.merge(\n",
    "        customers_target,\n",
    "        transactions_train[transactions_train[\"t_weekn\"] < current_week],\n",
    "        on=\"customer_num\")\n",
    "    last_purchases_dummy = customers_target.copy()\n",
    "    for key in [key for key in transactions_train.columns if key != \"customer_num\"]:\n",
    "        last_purchases_dummy[key] = -1.\n",
    "    last_purchases_dummy[\"price\"] = np.mean(last_purchases[\"price\"])\n",
    "    last_purchases_dummy[\"sales_channel_id\"] = 0\n",
    "    last_purchases = pd.concat([\n",
    "        last_purchases_dummy.loc[last_purchases_dummy.index.repeat(last_n_transactions)],\n",
    "        last_purchases\n",
    "    ])\n",
    "    last_purchases = last_purchases.groupby(by=\"customer_num\").tail(last_n_transactions)\n",
    "    last_purchases[\"logprice\"] = np.log(last_purchases[\"price\"] + 1e-07)\n",
    "    last_purchases[\"rand\"] = np.random.rand(last_purchases.shape[0])\n",
    "    last_purchases.sort_values(by=[\"customer_num\", \"t_weekn\", \"t_dat\", \"rand\"], inplace=True)\n",
    "    last_purchases[\"rank\"] = last_purchases.groupby(\"customer_num\")[\"article_num\"].cumcount()\n",
    "    article_processed_with_dummy = articles_processed.append(\n",
    "        pd.DataFrame([[-1 for key in articles_processed.columns]], columns=articles_processed.columns, index=[-1])\n",
    "    )\n",
    "\n",
    "    articles_history =cross_join_dfs(\n",
    "        articles_target,\n",
    "        df_weeks[df_weeks[\"t_weekn\"] < current_week]\n",
    "    )[[\"article_num\", \"t_weekn\"]]\n",
    "    articles_history = pd.merge(\n",
    "        articles_history,\n",
    "        transactions_train[transactions_train[\"t_weekn\"] < current_week].groupby(by=[\"article_num\", \"t_weekn\"])[[\"price\", \"sales_channel_id\"]].mean(),\n",
    "        how='left', left_on=[\"article_num\", \"t_weekn\"], right_index=True\n",
    "    )\n",
    "    articles_history[\"logprice\"]  = np.log(articles_history[\"price\"].fillna(0.0)+1.0e-07)\n",
    "    articles_history[\"sales_channel_id\"] = (articles_history[\"sales_channel_id\"] - 1).fillna(0.5)\n",
    "    articles_history.drop(columns=[\"price\"], inplace=True)\n",
    "    # присобачиваем число кастомеров\n",
    "    articles_history = pd.merge(\n",
    "        articles_history,\n",
    "        transactions_train[transactions_train[\"t_weekn\"] < current_week].groupby(by=[\"article_num\", \"t_weekn\"])[\"customer_num\"].nunique(),\n",
    "        how='left', left_on=[\"article_num\", \"t_weekn\"], right_index=True\n",
    "    )\n",
    "    articles_history[\"customer_popularity\"] = articles_history[\"customer_num\"].fillna(0) / df_customers_ids.shape[0]\n",
    "    articles_history.drop(columns=[\"customer_num\"], inplace=True)\n",
    "    articles_history = pd.merge(\n",
    "        articles_history,\n",
    "        transactions_train[transactions_train[\"t_weekn\"] < current_week].groupby(by=[\"article_num\", \"t_weekn\"])[\"customer_num\"].count(),\n",
    "        how='left', left_on=[\"article_num\", \"t_weekn\"], right_index=True\n",
    "    )\n",
    "    articles_history[\"total_popularity\"] = articles_history[\"customer_num\"].fillna(0) / df_customers_ids.shape[0]\n",
    "    articles_history.drop(columns=[\"customer_num\"], inplace=True)\n",
    "\n",
    "    x = {\n",
    "        \"input_customer_num\": np.array(target_dataset[\"customer_num\"], dtype=int),\n",
    "        \"input_article_num\": np.array(target_dataset[\"article_num\"], dtype=int),\n",
    "    }\n",
    "\n",
    "    for customer_feature in customers_processed.columns:\n",
    "        x['_'.join([\"input_customer\", customer_feature])] = np.array(\n",
    "            customers_processed[customer_feature][target_dataset[\"customer_num\"]],\n",
    "            dtype=int)\n",
    "\n",
    "    for articles_feature in articles_processed.columns:\n",
    "        x['_'.join([\"input_article\", articles_feature])] = np.array(\n",
    "            articles_processed[articles_feature][target_dataset[\"article_num\"]],\n",
    "            dtype=int)\n",
    "\n",
    "    df_purchases_articles = last_purchases.pivot(index=\"customer_num\", columns=\"rank\", values=\"article_num\")\n",
    "    df_purchases_articles = np.reshape(np.array(df_purchases_articles.loc[target_dataset[\"customer_num\"]], dtype=int), (last_n_transactions * target_dataset.shape[0],))\n",
    "    for articles_feature in articles_processed.columns:\n",
    "        x['_'.join([\"input_purchase\", articles_feature])] = np.reshape(\n",
    "            np.array(article_processed_with_dummy[articles_feature][df_purchases_articles], dtype=int) + 1,\n",
    "            (target_dataset.shape[0], last_n_transactions)\n",
    "        )\n",
    "    df_purchases_logprice = last_purchases.pivot(index=\"customer_num\", columns=\"rank\", values=\"logprice\")\n",
    "    x[\"input_purchase_logprice\"] = np.array(\n",
    "        df_purchases_logprice.loc[target_dataset[\"customer_num\"]],\n",
    "        dtype=float)\n",
    "    df_purchases_sales_channel_id = last_purchases.pivot(index=\"customer_num\", columns=\"rank\", values=\"sales_channel_id\")\n",
    "    x[\"input_purchase_sales_channel_id\"] = np.array(\n",
    "        df_purchases_sales_channel_id.loc[target_dataset[\"customer_num\"]],\n",
    "        dtype=int)\n",
    "\n",
    "    for article_history_feature in [key for key in articles_history.columns if key not in [\"customer_num\", \"article_num\"]]:\n",
    "        df_articles_pivot = articles_history.pivot(index=\"article_num\", columns=\"t_weekn\", values=article_history_feature)\n",
    "        x['_'.join([\"input_article_history\", article_history_feature])] = np.array(\n",
    "            df_articles_pivot.loc[target_dataset[\"article_num\"]],\n",
    "            dtype=float\n",
    "        )\n",
    "\n",
    "    y = {\n",
    "        \"output_target_val\": np.array(target_dataset[\"target_val\"])\n",
    "    }\n",
    "    return x, y"
   ],
   "metadata": {
    "collapsed": false,
    "pycharm": {
     "name": "#%%\n"
    }
   }
  },
  {
   "cell_type": "code",
   "execution_count": 994,
   "outputs": [],
   "source": [
    "def construct_dataset_v7(current_week = n_weeks - 1, multiplier = 10, last_n_transactions = 50, test_data = None, max_size = -1,articles_probabilities = articles_g10_probabilities):\n",
    "    target_dataset = pd.DataFrame()\n",
    "\n",
    "    if test_data is not None:\n",
    "        target_dataset = test_data.copy()\n",
    "        target_dataset[\"target_val\"] = 0\n",
    "    else:\n",
    "        transactions_target = transactions_train[transactions_train[\"t_weekn\"] == current_week].copy()\n",
    "        transactions_target = pd.merge(\n",
    "            transactions_target,\n",
    "            df_articles_ids[\"article_num\"][[i for i, x in enumerate(articles_probabilities[current_week]>0.5) if x]],\n",
    "            on=\"article_num\"\n",
    "        )\n",
    "        if max_size > 0:\n",
    "            transactions_target = transactions_target.sample(min(transactions_target.shape[0], int(max_size / (multiplier + 1))))\n",
    "        transactions_target[\"target_val\"] = 1\n",
    "        target_dataset = pd.DataFrame({\n",
    "            \"customer_num\": random.choices(transactions_target[\"customer_num\"].unique(), k=transactions_target.shape[0] * multiplier),\n",
    "            \"article_num\": random.choices(df_articles_ids[\"article_num\"],\n",
    "                                          weights=(articles_probabilities[current_week] > 0.5) / np.sum(articles_probabilities[current_week]),\n",
    "                                          k=transactions_target.shape[0] * multiplier)\n",
    "        })\n",
    "        target_dataset = pd.merge(target_dataset, transactions_target, on=[\"customer_num\", \"article_num\"], how=\"left\")\n",
    "        target_dataset = target_dataset[target_dataset[\"t_dat\"].isnull()][[\"customer_num\", \"article_num\"]]\n",
    "        target_dataset[\"target_val\"] = 0\n",
    "        target_dataset = pd.concat([target_dataset, transactions_target[[\"customer_num\", \"article_num\", \"target_val\"]]])\n",
    "\n",
    "    articles_target = target_dataset.groupby(by=\"article_num\").count()\n",
    "    articles_target = pd.DataFrame({\"article_num\": articles_target.index})\n",
    "    articles_target.index = range(articles_target.shape[0])\n",
    "    articles_target[\"article_target_num\"] = articles_target.index\n",
    "\n",
    "    customers_target = pd.DataFrame({\"customer_num\": target_dataset.groupby(by='customer_num').count().index})\n",
    "    customers_target[\"customer_target_num\"] = customers_target.index\n",
    "\n",
    "    target_dataset = pd.merge(target_dataset, customers_target, on=\"customer_num\")\n",
    "    target_dataset = target_dataset.sort_values(by=\"customer_num\")\n",
    "\n",
    "    last_purchases = pd.merge(\n",
    "        customers_target,\n",
    "        transactions_train[transactions_train[\"t_weekn\"] < current_week],\n",
    "        on=\"customer_num\")\n",
    "    last_purchases_dummy = customers_target.copy()\n",
    "    for key in [key for key in transactions_train.columns if key != \"customer_num\"]:\n",
    "        last_purchases_dummy[key] = -1.\n",
    "    last_purchases_dummy[\"price\"] = np.mean(last_purchases[\"price\"])\n",
    "    last_purchases_dummy[\"sales_channel_id\"] = 0\n",
    "    last_purchases = pd.concat([\n",
    "        last_purchases_dummy.loc[last_purchases_dummy.index.repeat(last_n_transactions)],\n",
    "        last_purchases\n",
    "    ])\n",
    "    last_purchases = last_purchases.groupby(by=\"customer_num\").tail(last_n_transactions)\n",
    "    last_purchases[\"logprice\"] = np.log(last_purchases[\"price\"] + 1e-07)\n",
    "    last_purchases[\"rand\"] = np.random.rand(last_purchases.shape[0])\n",
    "    last_purchases.sort_values(by=[\"customer_num\", \"t_weekn\", \"t_dat\", \"rand\"], inplace=True)\n",
    "    last_purchases[\"rank\"] = last_purchases.groupby(\"customer_num\")[\"article_num\"].cumcount()\n",
    "    article_processed_with_dummy = articles_processed.append(\n",
    "        pd.DataFrame([[-1 for key in articles_processed.columns]], columns=articles_processed.columns, index=[-1])\n",
    "    )\n",
    "\n",
    "    articles_history =cross_join_dfs(\n",
    "        articles_target,\n",
    "        df_weeks[df_weeks[\"t_weekn\"] < current_week]\n",
    "    )[[\"article_num\", \"t_weekn\"]]\n",
    "    articles_history = pd.merge(\n",
    "        articles_history,\n",
    "        transactions_train[transactions_train[\"t_weekn\"] < current_week].groupby(by=[\"article_num\", \"t_weekn\"])[[\"price\", \"sales_channel_id\"]].mean(),\n",
    "        how='left', left_on=[\"article_num\", \"t_weekn\"], right_index=True\n",
    "    )\n",
    "    articles_history[\"logprice\"]  = np.log(articles_history[\"price\"].fillna(0.0)+1.0e-07)\n",
    "    articles_history[\"sales_channel_id\"] = (articles_history[\"sales_channel_id\"] - 1).fillna(0.5)\n",
    "    articles_history.drop(columns=[\"price\"], inplace=True)\n",
    "    # присобачиваем число кастомеров\n",
    "    articles_history = pd.merge(\n",
    "        articles_history,\n",
    "        transactions_train[transactions_train[\"t_weekn\"] < current_week].groupby(by=[\"article_num\", \"t_weekn\"])[\"customer_num\"].nunique(),\n",
    "        how='left', left_on=[\"article_num\", \"t_weekn\"], right_index=True\n",
    "    )\n",
    "    articles_history[\"customer_popularity\"] = articles_history[\"customer_num\"].fillna(0) / 400\n",
    "    articles_history.drop(columns=[\"customer_num\"], inplace=True)\n",
    "    articles_history = pd.merge(\n",
    "        articles_history,\n",
    "        transactions_train[transactions_train[\"t_weekn\"] < current_week].groupby(by=[\"article_num\", \"t_weekn\"])[\"customer_num\"].count(),\n",
    "        how='left', left_on=[\"article_num\", \"t_weekn\"], right_index=True\n",
    "    )\n",
    "    articles_history[\"total_popularity\"] = articles_history[\"customer_num\"].fillna(0) / 400\n",
    "    articles_history.drop(columns=[\"customer_num\"], inplace=True)\n",
    "\n",
    "    x = {\n",
    "        \"input_customer_num\": np.array(target_dataset[\"customer_num\"], dtype=int),\n",
    "        \"input_article_num\": np.array(target_dataset[\"article_num\"], dtype=int),\n",
    "    }\n",
    "\n",
    "    for customer_feature in customers_processed.columns:\n",
    "        x['_'.join([\"input_customer\", customer_feature])] = np.array(\n",
    "            customers_processed[customer_feature][target_dataset[\"customer_num\"]],\n",
    "            dtype=int)\n",
    "\n",
    "    for articles_feature in articles_processed.columns:\n",
    "        x['_'.join([\"input_article\", articles_feature])] = np.array(\n",
    "            articles_processed[articles_feature][target_dataset[\"article_num\"]],\n",
    "            dtype=int)\n",
    "\n",
    "    df_purchases_articles = last_purchases.pivot(index=\"customer_num\", columns=\"rank\", values=\"article_num\")\n",
    "    df_purchases_articles = np.reshape(np.array(df_purchases_articles.loc[target_dataset[\"customer_num\"]], dtype=int), (last_n_transactions * target_dataset.shape[0],))\n",
    "\n",
    "    for articles_feature in articles_processed.columns:\n",
    "        x['_'.join([\"input_purchase\", articles_feature])] = np.reshape(\n",
    "            np.array(article_processed_with_dummy[articles_feature][df_purchases_articles], dtype=int) + 1,\n",
    "            (target_dataset.shape[0], last_n_transactions)\n",
    "        )\n",
    "    df_purchases_logprice = last_purchases.pivot(index=\"customer_num\", columns=\"rank\", values=\"logprice\")\n",
    "    x[\"input_purchase_logprice\"] = np.array(\n",
    "        df_purchases_logprice.loc[target_dataset[\"customer_num\"]],\n",
    "        dtype=float)\n",
    "    df_purchases_sales_channel_id = last_purchases.pivot(index=\"customer_num\", columns=\"rank\", values=\"sales_channel_id\")\n",
    "    x[\"input_purchase_sales_channel_id\"] = np.array(\n",
    "        df_purchases_sales_channel_id.loc[target_dataset[\"customer_num\"]],\n",
    "        dtype=int)\n",
    "\n",
    "    for article_history_feature in [key for key in articles_history.columns if key not in [\"customer_num\", \"article_num\"]]:\n",
    "        df_articles_pivot = articles_history.pivot(index=\"article_num\", columns=\"t_weekn\", values=article_history_feature)\n",
    "        x['_'.join([\"input_article_history\", article_history_feature])] = np.array(\n",
    "            df_articles_pivot.loc[target_dataset[\"article_num\"]],\n",
    "            dtype=float\n",
    "        )[:, -54:]\n",
    "\n",
    "    y = {\n",
    "        \"output_target_val\": np.array(target_dataset[\"target_val\"])\n",
    "    }\n",
    "    return x, y"
   ],
   "metadata": {
    "collapsed": false,
    "pycharm": {
     "name": "#%%\n"
    }
   }
  },
  {
   "cell_type": "code",
   "execution_count": 1022,
   "outputs": [],
   "source": [
    "dataset = construct_dataset_v7(current_week=n_weeks, multiplier=4, max_size = 100000, articles_probabilities=articles_g50_probabilities)"
   ],
   "metadata": {
    "collapsed": false,
    "pycharm": {
     "name": "#%%\n"
    }
   }
  },
  {
   "cell_type": "code",
   "execution_count": 1023,
   "outputs": [
    {
     "name": "stderr",
     "output_type": "stream",
     "text": [
      "/Users/vvborzov/opt/anaconda3/lib/python3.9/site-packages/keras/engine/functional.py:559: UserWarning: Input dict contained keys ['input_customer_num', 'input_article_num', 'input_article_history_t_weekn'] which did not match any model input. They will be ignored by the model.\n",
      "  inputs = self._flatten_to_reference_inputs(inputs)\n"
     ]
    }
   ],
   "source": [
    "df_temp = pd.DataFrame({\n",
    "    \"article_num\": dataset[0][\"input_article_num\"],\n",
    "    \"predict\": model.predict(tf.data.Dataset.from_tensor_slices(dataset).batch(256))[:, 0],\n",
    "    \"y\": dataset[1][\"output_target_val\"]\n",
    "})\n",
    "\n",
    "df_temp = pd.merge(\n",
    "    df_temp,\n",
    "    transactions_train[transactions_train[\"t_weekn\"] == n_weeks - 1].groupby(\"article_num\")[\"customer_num\"].nunique(),\n",
    "    how=\"left\", on=\"article_num\"\n",
    ")\n",
    "\n",
    "df_temp[\"customer_num\"].fillna(0, inplace=True)"
   ],
   "metadata": {
    "collapsed": false,
    "pycharm": {
     "name": "#%%\n"
    }
   }
  },
  {
   "cell_type": "code",
   "execution_count": 1024,
   "outputs": [
    {
     "name": "stdout",
     "output_type": "stream",
     "text": [
      "gini our model = 0.43304907975844453\n",
      "gini naive model = 0.2398229327453143\n"
     ]
    },
    {
     "data": {
      "text/plain": "<Figure size 432x288 with 1 Axes>",
      "image/png": "[encoded data removed]"
     },
     "metadata": {
      "needs_background": "light"
     },
     "output_type": "display_data"
    }
   ],
   "source": [
    "fpr, tpr, _ = metrics.roc_curve(\n",
    "    df_temp[\"y\"]\n",
    "    ,  df_temp[\"predict\"]\n",
    ")\n",
    "\n",
    "print(\"gini our model =\", metrics.auc(fpr, tpr)*2 - 1)\n",
    "\n",
    "fpr2, tpr2, _ = metrics.roc_curve(\n",
    "    df_temp[\"y\"]\n",
    "    ,  df_temp[\"customer_num\"]\n",
    ")\n",
    "\n",
    "print(\"gini naive model =\", metrics.auc(fpr2, tpr2)*2 - 1)\n",
    "#create ROC curve\n",
    "plt.plot(fpr,tpr)\n",
    "plt.plot(fpr2,tpr2, \"r\")\n",
    "plt.ylabel('True Positive Rate')\n",
    "plt.xlabel('False Positive Rate')\n",
    "plt.show()"
   ],
   "metadata": {
    "collapsed": false,
    "pycharm": {
     "name": "#%%\n"
    }
   }
  },
  {
   "cell_type": "code",
   "execution_count": 1025,
   "outputs": [],
   "source": [
    "del fpr, tpr, dataset, df_temp"
   ],
   "metadata": {
    "collapsed": false,
    "pycharm": {
     "name": "#%%\n"
    }
   }
  },
  {
   "cell_type": "code",
   "execution_count": 1026,
   "outputs": [
    {
     "data": {
      "text/plain": "106641"
     },
     "execution_count": 1026,
     "metadata": {},
     "output_type": "execute_result"
    }
   ],
   "source": [
    "gc.collect()"
   ],
   "metadata": {
    "collapsed": false,
    "pycharm": {
     "name": "#%%\n"
    }
   }
  },
  {
   "cell_type": "markdown",
   "source": [
    "#### конструируем модель"
   ],
   "metadata": {
    "collapsed": false
   }
  },
  {
   "cell_type": "code",
   "execution_count": null,
   "outputs": [],
   "source": [
    "def customer_embedding_model_build_rnn():\n",
    "    input_layer1 = keras.layers.Input(shape=(None, 64), name=\"input_purchases_embeddings\")\n",
    "    input_layer2 = keras.layers.Input(shape=(None, 1), name=\"input_purchases_is_purchase\")\n",
    "    input_layer3 = keras.layers.Input(shape=(None, 1), name=\"input_purchases_week_dist\")\n",
    "    input_layer4 = keras.layers.Input(shape=(64,), name=\"input_articles_embeddings\")\n",
    "\n",
    "    input_layers = [input_layer1, input_layer2, input_layer3, input_layer4]\n",
    "\n",
    "    customer_embedding_layers = []\n",
    "    for key in customers_processed.keys():\n",
    "        vocab_size = customers_processed[key].nunique()\n",
    "        input_layer = keras.layers.Input(shape=(1,), name='_'.join([\"input_customer\", key]))\n",
    "        input_layers.append(input_layer)\n",
    "        embedding_layer = keras.layers.Embedding(\n",
    "            vocab_size, int(vocab_size * 2 / 3),\n",
    "            trainable=True,\n",
    "            embeddings_initializer=tf.initializers.random_normal)(input_layer)\n",
    "        embedding_layer = keras.layers.Flatten()(embedding_layer)\n",
    "        customer_embedding_layers.append(embedding_layer)\n",
    "    embedding_layer_concatenated = tf.keras.layers.concatenate(customer_embedding_layers)\n",
    "\n",
    "    x = tf.keras.layers.concatenate([input_layer1, input_layer2, input_layer3])\n",
    "    x = keras.layers.GRU(128, return_sequences=False, name = \"gru_embedding\")(x)\n",
    "\n",
    "    x = tf.keras.layers.concatenate([\n",
    "        x,\n",
    "        embedding_layer_concatenated,\n",
    "        input_layer4\n",
    "    ])\n",
    "\n",
    "    x = tf.keras.layers.Dense(32, activation = 'relu')(x)\n",
    "    x = tf.keras.layers.Dense(32, activation = 'tanh')(x)\n",
    "\n",
    "    outputs = [tf.keras.layers.Dense(1, name=\"output_target_val\")(x)]\n",
    "\n",
    "    return keras.models.Model(inputs = input_layers, outputs = outputs)"
   ],
   "metadata": {
    "collapsed": false,
    "pycharm": {
     "name": "#%%\n"
    }
   }
  },
  {
   "cell_type": "code",
   "execution_count": null,
   "outputs": [],
   "source": [
    "def customer_embedding_model_build_plain():\n",
    "    input_layers = list()\n",
    "\n",
    "    customer_encode_layers = list()\n",
    "    for customer_feature in customers_processed.columns:\n",
    "        vocab_size = customers_processed[customer_feature].nunique()\n",
    "        customer_input_layer = keras.layers.Input(shape=(1,), name='_'.join([\"input_customer\", customer_feature]))\n",
    "        customer_encode_layer = tf.keras.layers.CategoryEncoding(num_tokens=vocab_size, output_mode=\"one_hot\")(customer_input_layer)\n",
    "        input_layers.append(customer_input_layer)\n",
    "        customer_encode_layers.append(customer_encode_layer)\n",
    "\n",
    "    customer_encode_layer_concatenated = tf.keras.layers.concatenate(customer_encode_layers)\n",
    "    customer_embedding_layer = tf.keras.layers.Dense(64, activation = 'relu')(customer_encode_layer_concatenated)\n",
    "\n",
    "    articles_encode_layers = list()\n",
    "    for article_feature in articles_processed.columns:\n",
    "        vocab_size = articles_processed[article_feature].nunique()\n",
    "        article_input_layer = keras.layers.Input(shape=(1,), name='_'.join([\"input_article\", article_feature]))\n",
    "        article_encode_layer = tf.keras.layers.CategoryEncoding(num_tokens=vocab_size, output_mode=\"one_hot\")(article_input_layer)\n",
    "        input_layers.append(article_input_layer)\n",
    "        articles_encode_layers.append(article_encode_layer)\n",
    "\n",
    "    article_encode_layer_concatenated = tf.keras.layers.concatenate(articles_encode_layers)\n",
    "    article_embedding_layer = tf.keras.layers.Dense(128, activation = 'relu')(article_encode_layer_concatenated)\n",
    "    article_embedding_layer = tf.keras.layers.Dense(64, activation = 'relu')(article_embedding_layer)\n",
    "\n",
    "    customer_purchases_layers = list()\n",
    "    for article_feature in articles_processed.columns:\n",
    "        vocab_size = articles_processed[article_feature].nunique()\n",
    "        purchase_input_layer = keras.layers.Input(shape=(1,), name='_'.join([\"input_purchase\", article_feature]))\n",
    "        purchase_encode_layer = tf.keras.layers.CategoryEncoding(num_tokens=vocab_size+1, output_mode=\"one_hot\")(purchase_input_layer)\n",
    "        input_layers.append(purchase_input_layer)\n",
    "        customer_purchases_layers.append(purchase_encode_layer)\n",
    "    purchase_input_layer = keras.layers.Input(shape=(1,), name=\"input_purchase_logprice\")\n",
    "    input_layers.append(purchase_input_layer)\n",
    "    customer_purchases_layers.append(purchase_input_layer)\n",
    "    purchase_input_layer = keras.layers.Input(shape=(1,), name=\"input_purchase_sales_channel_id\")\n",
    "    purchase_encode_layer = tf.keras.layers.CategoryEncoding(num_tokens=3, output_mode=\"one_hot\")(purchase_input_layer)\n",
    "    input_layers.append(purchase_input_layer)\n",
    "    customer_purchases_layers.append(purchase_encode_layer)\n",
    "\n",
    "    purchase_encode_layer_concatenated = tf.keras.layers.concatenate(customer_purchases_layers)\n",
    "    purchase_embedding_layer = tf.keras.layers.Dense(128, activation = 'relu')(purchase_encode_layer_concatenated)\n",
    "    purchase_embedding_layer = tf.keras.layers.Dense(64, activation = 'relu')(purchase_embedding_layer)\n",
    "\n",
    "    x = tf.keras.layers.concatenate([\n",
    "        customer_embedding_layer,\n",
    "        article_embedding_layer,\n",
    "        purchase_embedding_layer\n",
    "    ])\n",
    "\n",
    "    x = tf.keras.layers.Dense(64, activation = 'relu')(x)\n",
    "    x = tf.keras.layers.Dense(32, activation = 'relu')(x)\n",
    "    x = tf.keras.layers.Dense(16, activation = 'relu')(x)\n",
    "\n",
    "    outputs = [tf.keras.layers.Dense(1, name=\"output_target_val\")(x)]\n",
    "\n",
    "    return keras.models.Model(inputs = input_layers, outputs = outputs)"
   ],
   "metadata": {
    "collapsed": false,
    "pycharm": {
     "name": "#%%\n"
    }
   }
  },
  {
   "cell_type": "code",
   "execution_count": null,
   "outputs": [],
   "source": [
    "def customer_embedding_model_build_plain_v2():\n",
    "    input_layers = list()\n",
    "\n",
    "    customer_encode_layers = list()\n",
    "    for customer_feature in customers_processed.columns:\n",
    "        vocab_size = customers_processed[customer_feature].nunique()\n",
    "        customer_input_layer = keras.layers.Input(shape=(1,), name='_'.join([\"input_customer\", customer_feature]))\n",
    "        customer_encode_layer = tf.keras.layers.CategoryEncoding(num_tokens=vocab_size, output_mode=\"one_hot\")(customer_input_layer)\n",
    "        input_layers.append(customer_input_layer)\n",
    "        customer_encode_layers.append(customer_encode_layer)\n",
    "\n",
    "    customer_encode_layer_concatenated = tf.keras.layers.concatenate(customer_encode_layers)\n",
    "    customer_embedding_layer = tf.keras.layers.Dense(32, activation = 'relu', name = 'dense_customer_l0')(customer_encode_layer_concatenated)\n",
    "\n",
    "    articles_encode_layers = list()\n",
    "    for article_feature in articles_processed.columns:\n",
    "        vocab_size = articles_processed[article_feature].nunique()\n",
    "        article_input_layer = keras.layers.Input(shape=(1,), name='_'.join([\"input_article\", article_feature]))\n",
    "        article_encode_layer = tf.keras.layers.CategoryEncoding(num_tokens=vocab_size, output_mode=\"one_hot\")(article_input_layer)\n",
    "        input_layers.append(article_input_layer)\n",
    "        articles_encode_layers.append(article_encode_layer)\n",
    "\n",
    "    article_encode_layer_concatenated = tf.keras.layers.concatenate(articles_encode_layers)\n",
    "    article_embedding_layer = tf.keras.layers.Dense(64, activation = 'relu', name = 'dense_article_l0')(article_encode_layer_concatenated)\n",
    "    article_embedding_layer = tf.keras.layers.Dense(64, activation = 'relu', name = 'dense_article_l1')(article_embedding_layer)\n",
    "\n",
    "    customer_purchases_layers = list()\n",
    "    for article_feature in articles_processed.columns:\n",
    "        vocab_size = articles_processed[article_feature].nunique()\n",
    "        purchase_input_layer = keras.layers.Input(shape=(1,), name='_'.join([\"input_purchase\", article_feature]))\n",
    "        purchase_encode_layer = tf.keras.layers.CategoryEncoding(num_tokens=vocab_size+1, output_mode=\"one_hot\")(purchase_input_layer)\n",
    "        input_layers.append(purchase_input_layer)\n",
    "        customer_purchases_layers.append(purchase_encode_layer)\n",
    "    purchase_input_layer = keras.layers.Input(shape=(1,), name=\"input_purchase_logprice\")\n",
    "    input_layers.append(purchase_input_layer)\n",
    "    customer_purchases_layers.append(purchase_input_layer)\n",
    "    purchase_input_layer = keras.layers.Input(shape=(1,), name=\"input_purchase_sales_channel_id\")\n",
    "    purchase_encode_layer = tf.keras.layers.CategoryEncoding(num_tokens=3, output_mode=\"one_hot\")(purchase_input_layer)\n",
    "    input_layers.append(purchase_input_layer)\n",
    "    customer_purchases_layers.append(purchase_encode_layer)\n",
    "\n",
    "    purchase_encode_layer_concatenated = tf.keras.layers.concatenate(customer_purchases_layers)\n",
    "    purchase_embedding_layer = tf.keras.layers.Dense(64, activation = 'relu', name = 'dense_purchase_history_l0')(purchase_encode_layer_concatenated)\n",
    "    purchase_embedding_layer = tf.keras.layers.Dense(64, activation = 'relu', name = 'dense_purchase_history_l1')(purchase_embedding_layer)\n",
    "\n",
    "    articles_history_encode_layers = list()\n",
    "    for article_history_feature in [\"sales_channel_id\", \"popularity\", \"batchlike\", \"logprice\"]:\n",
    "        article_history_input_layer = keras.layers.Input(shape=(1,), name='_'.join([\"input_article_history\", article_history_feature]))\n",
    "        input_layers.append(article_history_input_layer)\n",
    "        articles_history_encode_layers.append(article_history_input_layer)\n",
    "\n",
    "    articles_history_concatenated = tf.keras.layers.concatenate(articles_history_encode_layers)\n",
    "    articles_history_embedding_layer = tf.keras.layers.Dense(8, activation = 'relu', name = 'dense_article_history_l0')(articles_history_concatenated)\n",
    "\n",
    "    x = tf.keras.layers.concatenate([\n",
    "        customer_embedding_layer,\n",
    "        article_embedding_layer,\n",
    "        purchase_embedding_layer,\n",
    "        articles_history_embedding_layer\n",
    "    ])\n",
    "\n",
    "    x = tf.keras.layers.Dense(64, activation = 'relu', name = 'dense_t3')(x)\n",
    "    x = tf.keras.layers.Dense(32, activation = 'relu', name = 'dense_t2')(x)\n",
    "    x = tf.keras.layers.Dense(16, activation = 'relu', name = \"dense_t1\")(x)\n",
    "\n",
    "    outputs = [tf.keras.layers.Dense(1, name=\"output_target_val\")(x)]\n",
    "\n",
    "    return keras.models.Model(inputs = input_layers, outputs = outputs)"
   ],
   "metadata": {
    "collapsed": false,
    "pycharm": {
     "name": "#%%\n"
    }
   }
  },
  {
   "cell_type": "code",
   "execution_count": null,
   "outputs": [],
   "source": [
    "def customer_embedding_model_build_v3():\n",
    "    input_layers = list()\n",
    "\n",
    "    customer_encode_layers = list()\n",
    "    for customer_feature in customers_processed.columns:\n",
    "        vocab_size = customers_processed[customer_feature].nunique()\n",
    "        customer_input_layer = keras.layers.Input(shape=(1,), name='_'.join([\"input_customer\", customer_feature]))\n",
    "        customer_encode_layer = tf.keras.layers.CategoryEncoding(num_tokens=vocab_size, output_mode=\"one_hot\")(customer_input_layer)\n",
    "        input_layers.append(customer_input_layer)\n",
    "        customer_encode_layers.append(customer_encode_layer)\n",
    "\n",
    "    customer_encode_layer_concatenated = tf.keras.layers.concatenate(customer_encode_layers)\n",
    "    customer_embedding_layer = tf.keras.layers.Dense(32, activation = 'relu', name = 'dense_customer_l0')(customer_encode_layer_concatenated)\n",
    "\n",
    "    articles_encode_layers = list()\n",
    "    for article_feature in articles_processed.columns:\n",
    "        vocab_size = articles_processed[article_feature].nunique()\n",
    "        article_input_layer = keras.layers.Input(shape=(1,), name='_'.join([\"input_article\", article_feature]))\n",
    "        article_encode_layer = tf.keras.layers.CategoryEncoding(num_tokens=vocab_size, output_mode=\"one_hot\")(article_input_layer)\n",
    "        input_layers.append(article_input_layer)\n",
    "        articles_encode_layers.append(article_encode_layer)\n",
    "\n",
    "    article_encode_layer_concatenated = tf.keras.layers.concatenate(articles_encode_layers)\n",
    "    article_embedding_layer = tf.keras.layers.Dense(64, activation = 'relu', name = 'dense_article_l0')(article_encode_layer_concatenated)\n",
    "    article_embedding_layer = tf.keras.layers.Dense(64, activation = 'relu', name = 'dense_article_l1')(article_embedding_layer)\n",
    "\n",
    "    customer_purchases_layers = list()\n",
    "    for article_feature in articles_processed.columns:\n",
    "        vocab_size = articles_processed[article_feature].nunique()+1\n",
    "        purchase_input_layer = keras.layers.Input(shape=(None, ), name='_'.join([\"input_purchase\", article_feature]))\n",
    "        purchase_encode_layer = tf.keras.layers.Embedding(input_dim=vocab_size, output_dim=int(vocab_size*2.0/3))(purchase_input_layer)\n",
    "        input_layers.append(purchase_input_layer)\n",
    "        customer_purchases_layers.append(purchase_encode_layer)\n",
    "    purchase_input_layer = keras.layers.Input(shape=(None, 1), name=\"input_purchase_logprice\")\n",
    "    input_layers.append(purchase_input_layer)\n",
    "    customer_purchases_layers.append(purchase_input_layer)\n",
    "    purchase_input_layer = keras.layers.Input(shape=(None, ), name=\"input_purchase_sales_channel_id\")\n",
    "    purchase_encode_layer = tf.keras.layers.Embedding(input_dim=3, output_dim=2)(purchase_input_layer)\n",
    "    input_layers.append(purchase_input_layer)\n",
    "    customer_purchases_layers.append(purchase_encode_layer)\n",
    "\n",
    "    purchase_encode_layer_concatenated = tf.keras.layers.concatenate(customer_purchases_layers)\n",
    "    purchase_embedding_layer = tf.keras.layers.GRU(64, activation = 'relu', name = 'GRU_purchase_history_l0')(purchase_encode_layer_concatenated)\n",
    "\n",
    "    articles_history_encode_layers = list()\n",
    "    for article_history_feature in [\"sales_channel_id\", \"popularity\", \"batchlike\", \"logprice\"]:\n",
    "        article_history_input_layer = keras.layers.Input(shape=(1,), name='_'.join([\"input_article_history\", article_history_feature]))\n",
    "        input_layers.append(article_history_input_layer)\n",
    "        articles_history_encode_layers.append(article_history_input_layer)\n",
    "\n",
    "    articles_history_concatenated = tf.keras.layers.concatenate(articles_history_encode_layers)\n",
    "    articles_history_embedding_layer = tf.keras.layers.Dense(8, activation = 'relu', name = 'dense_article_history_l0')(articles_history_concatenated)\n",
    "\n",
    "    x = tf.keras.layers.concatenate([\n",
    "        customer_embedding_layer,\n",
    "        article_embedding_layer,\n",
    "        purchase_embedding_layer,\n",
    "        articles_history_embedding_layer\n",
    "    ])\n",
    "\n",
    "    x = tf.keras.layers.Dense(64, activation = 'relu', name = 'dense_t3')(x)\n",
    "    x = tf.keras.layers.Dense(32, activation = 'relu', name = 'dense_t2')(x)\n",
    "    x = tf.keras.layers.Dense(16, activation = 'relu', name = \"dense_t1\")(x)\n",
    "\n",
    "    outputs = [tf.keras.layers.Dense(1, name=\"output_target_val\")(x)]\n",
    "\n",
    "    return keras.models.Model(inputs = input_layers, outputs = outputs)"
   ],
   "metadata": {
    "collapsed": false,
    "pycharm": {
     "name": "#%%\n"
    }
   }
  },
  {
   "cell_type": "code",
   "execution_count": null,
   "outputs": [],
   "source": [
    "def customer_embedding_model_build_v5():\n",
    "    input_layers = list()\n",
    "\n",
    "    customer_encode_layers = list()\n",
    "    for customer_feature in customers_processed.columns:\n",
    "        vocab_size = customers_processed[customer_feature].nunique()\n",
    "        customer_input_layer = keras.layers.Input(shape=(1,), name='_'.join([\"input_customer\", customer_feature]))\n",
    "        customer_encode_layer = tf.keras.layers.CategoryEncoding(num_tokens=vocab_size, output_mode=\"one_hot\")(customer_input_layer)\n",
    "        input_layers.append(customer_input_layer)\n",
    "        customer_encode_layers.append(customer_encode_layer)\n",
    "\n",
    "    customer_encode_layer_concatenated = tf.keras.layers.concatenate(customer_encode_layers)\n",
    "    customer_embedding_layer = tf.keras.layers.Dense(32, activation = 'relu', name = 'dense_customer_l0')(customer_encode_layer_concatenated)\n",
    "\n",
    "    articles_encode_layers = list()\n",
    "    for article_feature in articles_processed.columns:\n",
    "        vocab_size = articles_processed[article_feature].nunique()\n",
    "        article_input_layer = keras.layers.Input(shape=(1,), name='_'.join([\"input_article\", article_feature]))\n",
    "        article_encode_layer = tf.keras.layers.CategoryEncoding(num_tokens=vocab_size, output_mode=\"one_hot\")(article_input_layer)\n",
    "        input_layers.append(article_input_layer)\n",
    "        articles_encode_layers.append(article_encode_layer)\n",
    "\n",
    "    article_encode_layer_concatenated = tf.keras.layers.concatenate(articles_encode_layers)\n",
    "    article_embedding_layer = tf.keras.layers.Dense(64, activation = 'relu', name = 'dense_article_l0')(article_encode_layer_concatenated)\n",
    "    article_embedding_layer = tf.keras.layers.Dense(64, activation = 'relu', name = 'dense_article_l1')(article_embedding_layer)\n",
    "\n",
    "    customer_purchases_layers = list()\n",
    "    for article_feature in articles_processed.columns:\n",
    "        vocab_size = articles_processed[article_feature].nunique()+1\n",
    "        purchase_input_layer = keras.layers.Input(shape=(None, ), name='_'.join([\"input_purchase\", article_feature]))\n",
    "        purchase_encode_layer = tf.keras.layers.Embedding(input_dim=vocab_size, output_dim=int(vocab_size*2.0/3))(purchase_input_layer)\n",
    "        input_layers.append(purchase_input_layer)\n",
    "        customer_purchases_layers.append(purchase_encode_layer)\n",
    "    purchase_input_layer = keras.layers.Input(shape=(None, 1), name=\"input_purchase_logprice\")\n",
    "    input_layers.append(purchase_input_layer)\n",
    "    customer_purchases_layers.append(purchase_input_layer)\n",
    "    purchase_input_layer = keras.layers.Input(shape=(None, ), name=\"input_purchase_sales_channel_id\")\n",
    "    purchase_encode_layer = tf.keras.layers.Embedding(input_dim=3, output_dim=2)(purchase_input_layer)\n",
    "    input_layers.append(purchase_input_layer)\n",
    "    customer_purchases_layers.append(purchase_encode_layer)\n",
    "\n",
    "    purchase_encode_layer_concatenated = tf.keras.layers.concatenate(customer_purchases_layers)\n",
    "    purchase_embedding_layer = tf.keras.layers.BatchNormalization()(purchase_encode_layer_concatenated)\n",
    "    purchase_embedding_layer = tf.keras.layers.GRU(64, activation = 'relu', name = 'GRU_purchase_history_l0')(purchase_embedding_layer)\n",
    "\n",
    "    articles_history_encode_layers = list()\n",
    "    for article_history_feature in [\"sales_channel_id\", \"customer_popularity\", \"total_popularity\", \"logprice\"]:\n",
    "        article_history_input_layer = keras.layers.Input(shape=(None, 1), name='_'.join([\"input_article_history\", article_history_feature]))\n",
    "        input_layers.append(article_history_input_layer)\n",
    "        articles_history_encode_layers.append(article_history_input_layer)\n",
    "\n",
    "    articles_history_concatenated = tf.keras.layers.concatenate(articles_history_encode_layers)\n",
    "    articles_history_embedding_layer = tf.keras.layers.GRU(8, activation = 'relu', name = 'GRU_articles_history_l0')(articles_history_concatenated)\n",
    "\n",
    "    x = tf.keras.layers.concatenate([\n",
    "        customer_embedding_layer,\n",
    "        article_embedding_layer,\n",
    "        purchase_embedding_layer,\n",
    "        articles_history_embedding_layer\n",
    "    ])\n",
    "\n",
    "    x = tf.keras.layers.Dense(64, activation = 'relu', name = 'dense_t3')(x)\n",
    "    x = tf.keras.layers.Dense(32, activation = 'relu', name = 'dense_t2')(x)\n",
    "    x = tf.keras.layers.Dense(16, activation = 'relu', name = \"dense_t1\")(x)\n",
    "\n",
    "    outputs = [tf.keras.layers.Dense(1, name=\"output_target_val\")(x)]\n",
    "\n",
    "    return keras.models.Model(inputs = input_layers, outputs = outputs)"
   ],
   "metadata": {
    "collapsed": false,
    "pycharm": {
     "name": "#%%\n"
    }
   }
  },
  {
   "cell_type": "code",
   "execution_count": null,
   "outputs": [],
   "source": [
    "def customer_embedding_model_build_v6():\n",
    "    #############\n",
    "    ## Добавил прямой доступ из GRU по articles в итоговый слой\n",
    "    #######################################################\n",
    "    input_layers = list()\n",
    "\n",
    "    customer_encode_layers = list()\n",
    "    for customer_feature in customers_processed.columns:\n",
    "        vocab_size = customers_processed[customer_feature].nunique()\n",
    "        customer_input_layer = keras.layers.Input(shape=(1,), name='_'.join([\"input_customer\", customer_feature]))\n",
    "        customer_encode_layer = tf.keras.layers.CategoryEncoding(num_tokens=vocab_size, output_mode=\"one_hot\")(customer_input_layer)\n",
    "        input_layers.append(customer_input_layer)\n",
    "        customer_encode_layers.append(customer_encode_layer)\n",
    "\n",
    "    customer_encode_layer_concatenated = tf.keras.layers.concatenate(customer_encode_layers)\n",
    "    customer_embedding_layer = tf.keras.layers.Dense(32, activation = 'relu', name = 'dense_customer_l0')(customer_encode_layer_concatenated)\n",
    "\n",
    "    articles_encode_layers = list()\n",
    "    for article_feature in articles_processed.columns:\n",
    "        vocab_size = articles_processed[article_feature].nunique()\n",
    "        article_input_layer = keras.layers.Input(shape=(1,), name='_'.join([\"input_article\", article_feature]))\n",
    "        article_encode_layer = tf.keras.layers.CategoryEncoding(num_tokens=vocab_size, output_mode=\"one_hot\")(article_input_layer)\n",
    "        input_layers.append(article_input_layer)\n",
    "        articles_encode_layers.append(article_encode_layer)\n",
    "\n",
    "    article_encode_layer_concatenated = tf.keras.layers.concatenate(articles_encode_layers)\n",
    "    article_embedding_layer = tf.keras.layers.Dense(64, activation = 'relu', name = 'dense_article_l0')(article_encode_layer_concatenated)\n",
    "    article_embedding_layer = tf.keras.layers.Dense(64, activation = 'relu', name = 'dense_article_l1')(article_embedding_layer)\n",
    "\n",
    "    customer_purchases_layers = list()\n",
    "    for article_feature in articles_processed.columns:\n",
    "        vocab_size = articles_processed[article_feature].nunique()+1\n",
    "        purchase_input_layer = keras.layers.Input(shape=(None, ), name='_'.join([\"input_purchase\", article_feature]))\n",
    "        purchase_encode_layer = tf.keras.layers.Embedding(input_dim=vocab_size, output_dim=int(vocab_size*2.0/3))(purchase_input_layer)\n",
    "        input_layers.append(purchase_input_layer)\n",
    "        customer_purchases_layers.append(purchase_encode_layer)\n",
    "    purchase_input_layer = keras.layers.Input(shape=(None, 1), name=\"input_purchase_logprice\")\n",
    "    input_layers.append(purchase_input_layer)\n",
    "    customer_purchases_layers.append(purchase_input_layer)\n",
    "    purchase_input_layer = keras.layers.Input(shape=(None, ), name=\"input_purchase_sales_channel_id\")\n",
    "    purchase_encode_layer = tf.keras.layers.Embedding(input_dim=3, output_dim=2)(purchase_input_layer)\n",
    "    input_layers.append(purchase_input_layer)\n",
    "    customer_purchases_layers.append(purchase_encode_layer)\n",
    "\n",
    "    purchase_encode_layer_concatenated = tf.keras.layers.concatenate(customer_purchases_layers)\n",
    "    purchase_embedding_layer = tf.keras.layers.BatchNormalization()(purchase_encode_layer_concatenated)\n",
    "    purchase_embedding_layer = tf.keras.layers.GRU(64, activation = 'relu', name = 'GRU_purchase_history_l0')(purchase_embedding_layer)\n",
    "\n",
    "    articles_history_encode_layers = list()\n",
    "    for article_history_feature in [\"sales_channel_id\", \"customer_popularity\", \"total_popularity\", \"logprice\"]:\n",
    "        article_history_input_layer = keras.layers.Input(shape=(None, 1), name='_'.join([\"input_article_history\", article_history_feature]))\n",
    "        input_layers.append(article_history_input_layer)\n",
    "        articles_history_encode_layers.append(article_history_input_layer)\n",
    "\n",
    "    articles_history_concatenated = tf.keras.layers.concatenate(articles_history_encode_layers)\n",
    "    articles_history_embedding_layer = tf.keras.layers.GRU(8, activation = 'relu', name = 'GRU_articles_history_l0')(articles_history_concatenated)\n",
    "\n",
    "    x = tf.keras.layers.concatenate([\n",
    "        customer_embedding_layer,\n",
    "        article_embedding_layer,\n",
    "        purchase_embedding_layer,\n",
    "        articles_history_embedding_layer\n",
    "    ])\n",
    "\n",
    "    x = tf.keras.layers.Dense(64, activation = 'relu', name = 'dense_t3')(x)\n",
    "    x = tf.keras.layers.Dense(32, activation = 'relu', name = 'dense_t2')(x)\n",
    "    x = tf.keras.layers.Dense(16, activation = 'relu', name = \"dense_t1\")(x)\n",
    "\n",
    "    x = tf.keras.layers.concatenate([\n",
    "        x,\n",
    "        tf.keras.layers.Dense(1, activation = 'relu')(purchase_embedding_layer)\n",
    "    ])\n",
    "\n",
    "    outputs = [tf.keras.layers.Dense(1, activation = 'sigmoid', name=\"output_target_val\")(x)]\n",
    "\n",
    "    return keras.models.Model(inputs = input_layers, outputs = outputs)"
   ],
   "metadata": {
    "collapsed": false,
    "pycharm": {
     "name": "#%%\n"
    }
   }
  },
  {
   "cell_type": "code",
   "execution_count": null,
   "outputs": [],
   "source": [
    "def customer_embedding_model_build_v7():\n",
    "    #############\n",
    "    ## removed batch normalization, added names to embedding layers, added middle output for customers and articles\n",
    "    #######################################################\n",
    "    input_layers = list()\n",
    "\n",
    "    customer_encode_layers = list()\n",
    "    for customer_feature in customers_processed.columns:\n",
    "        vocab_size = customers_processed[customer_feature].nunique()\n",
    "        customer_input_layer = keras.layers.Input(shape=(1,), name='_'.join([\"input_customer\", customer_feature]))\n",
    "        customer_encode_layer = tf.keras.layers.CategoryEncoding(num_tokens=vocab_size, output_mode=\"one_hot\")(customer_input_layer)\n",
    "        input_layers.append(customer_input_layer)\n",
    "        customer_encode_layers.append(customer_encode_layer)\n",
    "\n",
    "    customer_encode_layer_concatenated = tf.keras.layers.concatenate(customer_encode_layers)\n",
    "    customer_embedding_layer = tf.keras.layers.Dense(32, activation = 'relu', name = 'dense_customer_l0')(customer_encode_layer_concatenated)\n",
    "\n",
    "    articles_encode_layers = list()\n",
    "    for article_feature in articles_processed.columns:\n",
    "        vocab_size = articles_processed[article_feature].nunique()\n",
    "        article_input_layer = keras.layers.Input(shape=(1,), name='_'.join([\"input_article\", article_feature]))\n",
    "        article_encode_layer = tf.keras.layers.CategoryEncoding(num_tokens=vocab_size, output_mode=\"one_hot\")(article_input_layer)\n",
    "        input_layers.append(article_input_layer)\n",
    "        articles_encode_layers.append(article_encode_layer)\n",
    "\n",
    "    article_encode_layer_concatenated = tf.keras.layers.concatenate(articles_encode_layers)\n",
    "    article_embedding_layer = tf.keras.layers.Dense(64, activation = 'relu', name = 'dense_article_l0')(article_encode_layer_concatenated)\n",
    "    article_embedding_layer = tf.keras.layers.Dense(64, activation = 'relu', name = 'dense_article_l1')(article_embedding_layer)\n",
    "\n",
    "    customer_purchases_layers = list()\n",
    "    for article_feature in articles_processed.columns:\n",
    "        vocab_size = articles_processed[article_feature].nunique()+1\n",
    "        purchase_input_layer = keras.layers.Input(shape=(None, ), name='_'.join([\"input_purchase\", article_feature]))\n",
    "        purchase_encode_layer = tf.keras.layers.Embedding(\n",
    "            input_dim=vocab_size, output_dim=int(vocab_size*2.0/3),\n",
    "            name='_'.join([\"embedding\", \"purchases\", article_feature])\n",
    "        )(purchase_input_layer)\n",
    "        input_layers.append(purchase_input_layer)\n",
    "        customer_purchases_layers.append(purchase_encode_layer)\n",
    "    purchase_input_layer = keras.layers.Input(shape=(None, 1), name=\"input_purchase_logprice\")\n",
    "    input_layers.append(purchase_input_layer)\n",
    "    customer_purchases_layers.append(purchase_input_layer)\n",
    "    purchase_input_layer = keras.layers.Input(shape=(None, ), name=\"input_purchase_sales_channel_id\")\n",
    "    purchase_encode_layer = tf.keras.layers.Embedding(input_dim=3, output_dim=2, name = \"embedding_purchases_sales_channel_id\")(purchase_input_layer)\n",
    "    input_layers.append(purchase_input_layer)\n",
    "    customer_purchases_layers.append(purchase_encode_layer)\n",
    "\n",
    "    purchase_encode_layer_concatenated = tf.keras.layers.concatenate(customer_purchases_layers)\n",
    "    purchase_embedding_layer = tf.keras.layers.GRU(64, activation = 'relu', name = 'GRU_purchase_history_l0')(purchase_encode_layer_concatenated)\n",
    "\n",
    "    articles_history_encode_layers = list()\n",
    "    for article_history_feature in [\"sales_channel_id\", \"customer_popularity\", \"total_popularity\", \"logprice\"]:\n",
    "        article_history_input_layer = keras.layers.Input(shape=(None, 1), name='_'.join([\"input_article_history\", article_history_feature]))\n",
    "        input_layers.append(article_history_input_layer)\n",
    "        articles_history_encode_layers.append(article_history_input_layer)\n",
    "\n",
    "    articles_history_concatenated = tf.keras.layers.concatenate(articles_history_encode_layers)\n",
    "    articles_history_embedding_layer = tf.keras.layers.GRU(8, activation = 'relu', name = 'GRU_articles_history_l0')(articles_history_concatenated)\n",
    "\n",
    "    customer_layer_concatenated = tf.keras.layers.concatenate([\n",
    "        customer_embedding_layer,\n",
    "        purchase_embedding_layer\n",
    "    ], name = \"middle_output_customer_layer\")\n",
    "\n",
    "    article_layer_concatenated = tf.keras.layers.concatenate([\n",
    "        article_embedding_layer,\n",
    "        articles_history_embedding_layer\n",
    "    ], name = \"middle_output_article_layer\")\n",
    "\n",
    "    x = tf.keras.layers.concatenate([\n",
    "        customer_layer_concatenated,\n",
    "        article_layer_concatenated\n",
    "    ])\n",
    "\n",
    "    x = tf.keras.layers.Dense(64, activation = 'relu', name = 'dense_t3')(x)\n",
    "    x = tf.keras.layers.Dense(32, activation = 'relu', name = 'dense_t2')(x)\n",
    "    x = tf.keras.layers.Dense(16, activation = 'relu', name = \"dense_t1\")(x)\n",
    "\n",
    "    x = tf.keras.layers.concatenate([\n",
    "        x,\n",
    "        tf.keras.layers.Dense(1, activation = 'relu')(articles_history_embedding_layer)\n",
    "    ])\n",
    "\n",
    "    outputs = [tf.keras.layers.Dense(1, activation = 'sigmoid', name=\"output_target_val\")(x)]\n",
    "\n",
    "    return keras.models.Model(inputs = input_layers, outputs = outputs)"
   ],
   "metadata": {
    "collapsed": false,
    "pycharm": {
     "name": "#%%\n"
    }
   }
  },
  {
   "cell_type": "code",
   "execution_count": null,
   "outputs": [],
   "source": [
    "model = customer_embedding_model_build_v7()\n",
    "\n",
    "model.summary()"
   ],
   "metadata": {
    "collapsed": false,
    "pycharm": {
     "name": "#%%\n"
    }
   }
  },
  {
   "cell_type": "code",
   "execution_count": null,
   "outputs": [],
   "source": [
    "old_model = model"
   ],
   "metadata": {
    "collapsed": false,
    "pycharm": {
     "name": "#%%\n"
    }
   }
  },
  {
   "cell_type": "code",
   "execution_count": null,
   "outputs": [],
   "source": [
    "old_model.summary()"
   ],
   "metadata": {
    "collapsed": false,
    "pycharm": {
     "name": "#%%\n"
    }
   }
  },
  {
   "cell_type": "code",
   "execution_count": null,
   "outputs": [],
   "source": [
    "model.compile(\n",
    "    loss={\"output_target_val\": keras.losses.BinaryCrossentropy(from_logits=False)},\n",
    "    optimizer=tf.keras.optimizers.Adam(learning_rate=.001),\n",
    "    metrics={\"output_target_val\": [\"accuracy\"]}\n",
    ")"
   ],
   "metadata": {
    "collapsed": false,
    "pycharm": {
     "name": "#%%\n"
    }
   }
  },
  {
   "cell_type": "code",
   "execution_count": null,
   "outputs": [],
   "source": [
    "SAMPLE_SIZE = dataset[1][\"output_target_val\"].shape[0]\n",
    "tf_dataset = tf.data.Dataset.from_tensor_slices(dataset)\n",
    "tf_dataset = tf_dataset.shuffle(SAMPLE_SIZE)\n",
    "test_dataset = tf_dataset.take(int(SAMPLE_SIZE*0.2))\n",
    "train_dataset = tf_dataset.skip(int(SAMPLE_SIZE*0.2))\n",
    "test_dataset = test_dataset.batch(256)\n",
    "train_dataset = train_dataset.batch(256)"
   ],
   "metadata": {
    "collapsed": false,
    "pycharm": {
     "name": "#%%\n"
    }
   }
  },
  {
   "cell_type": "code",
   "execution_count": null,
   "outputs": [],
   "source": [
    "history = model.fit(\n",
    "    train_dataset,\n",
    "    validation_data = test_dataset,\n",
    "    epochs=15\n",
    ")"
   ],
   "metadata": {
    "collapsed": false,
    "pycharm": {
     "name": "#%%\n"
    }
   }
  },
  {
   "cell_type": "code",
   "execution_count": null,
   "outputs": [],
   "source": [
    "del test_dataset, train_dataset, tf_dataset, dataset, history"
   ],
   "metadata": {
    "collapsed": false,
    "pycharm": {
     "name": "#%%\n"
    }
   }
  },
  {
   "cell_type": "code",
   "execution_count": null,
   "outputs": [],
   "source": [
    "model = keras.models.load_model(''.join([CURRENT_PATH, 'main_model']))"
   ],
   "metadata": {
    "collapsed": false,
    "pycharm": {
     "name": "#%%\n"
    }
   }
  },
  {
   "cell_type": "code",
   "execution_count": 985,
   "outputs": [
    {
     "ename": "KeyboardInterrupt",
     "evalue": "",
     "output_type": "error",
     "traceback": [
      "\u001B[0;31m---------------------------------------------------------------------------\u001B[0m",
      "\u001B[0;31mKeyboardInterrupt\u001B[0m                         Traceback (most recent call last)",
      "\u001B[0;32m/var/folders/8q/pnrnrzxs48133m1ggwh8dlhc0000gp/T/ipykernel_34521/102255451.py\u001B[0m in \u001B[0;36m<module>\u001B[0;34m\u001B[0m\n\u001B[1;32m      9\u001B[0m     \u001B[0;32mfor\u001B[0m \u001B[0mi\u001B[0m \u001B[0;32min\u001B[0m \u001B[0mrange\u001B[0m\u001B[0;34m(\u001B[0m\u001B[0;36m0\u001B[0m\u001B[0;34m,\u001B[0m \u001B[0;36m10\u001B[0m\u001B[0;34m)\u001B[0m\u001B[0;34m:\u001B[0m\u001B[0;34m\u001B[0m\u001B[0;34m\u001B[0m\u001B[0m\n\u001B[1;32m     10\u001B[0m         \u001B[0mBATCH_SIZE\u001B[0m \u001B[0;34m=\u001B[0m \u001B[0;36m256\u001B[0m\u001B[0;34m\u001B[0m\u001B[0;34m\u001B[0m\u001B[0m\n\u001B[0;32m---> 11\u001B[0;31m         \u001B[0mdataset\u001B[0m \u001B[0;34m=\u001B[0m \u001B[0mconstruct_dataset_v7\u001B[0m\u001B[0;34m(\u001B[0m\u001B[0mcurrent_week\u001B[0m\u001B[0;34m=\u001B[0m\u001B[0mn_weeks\u001B[0m\u001B[0;34m-\u001B[0m\u001B[0;36m10\u001B[0m\u001B[0;34m+\u001B[0m\u001B[0mi\u001B[0m\u001B[0;34m,\u001B[0m \u001B[0mmultiplier\u001B[0m\u001B[0;34m=\u001B[0m\u001B[0;36m1\u001B[0m\u001B[0;34m+\u001B[0m \u001B[0mmin\u001B[0m\u001B[0;34m(\u001B[0m\u001B[0mj\u001B[0m\u001B[0;34m,\u001B[0m \u001B[0;36m3\u001B[0m\u001B[0;34m)\u001B[0m\u001B[0;34m,\u001B[0m \u001B[0mlast_n_transactions\u001B[0m\u001B[0;34m=\u001B[0m\u001B[0;36m50\u001B[0m\u001B[0;34m,\u001B[0m \u001B[0mmax_size\u001B[0m \u001B[0;34m=\u001B[0m \u001B[0;36m256\u001B[0m \u001B[0;34m*\u001B[0m \u001B[0;36m256\u001B[0m\u001B[0;34m,\u001B[0m \u001B[0marticles_probabilities\u001B[0m\u001B[0;34m=\u001B[0m\u001B[0marticles_g50_probabilities\u001B[0m\u001B[0;34m)\u001B[0m\u001B[0;34m\u001B[0m\u001B[0;34m\u001B[0m\u001B[0m\n\u001B[0m\u001B[1;32m     12\u001B[0m         \u001B[0mSAMPLE_SIZE\u001B[0m \u001B[0;34m=\u001B[0m \u001B[0mdataset\u001B[0m\u001B[0;34m[\u001B[0m\u001B[0;36m1\u001B[0m\u001B[0;34m]\u001B[0m\u001B[0;34m[\u001B[0m\u001B[0;34m\"output_target_val\"\u001B[0m\u001B[0;34m]\u001B[0m\u001B[0;34m.\u001B[0m\u001B[0mshape\u001B[0m\u001B[0;34m[\u001B[0m\u001B[0;36m0\u001B[0m\u001B[0;34m]\u001B[0m\u001B[0;34m\u001B[0m\u001B[0;34m\u001B[0m\u001B[0m\n\u001B[1;32m     13\u001B[0m         \u001B[0mtf_dataset\u001B[0m \u001B[0;34m=\u001B[0m \u001B[0mtf\u001B[0m\u001B[0;34m.\u001B[0m\u001B[0mdata\u001B[0m\u001B[0;34m.\u001B[0m\u001B[0mDataset\u001B[0m\u001B[0;34m.\u001B[0m\u001B[0mfrom_tensor_slices\u001B[0m\u001B[0;34m(\u001B[0m\u001B[0mdataset\u001B[0m\u001B[0;34m)\u001B[0m\u001B[0;34m\u001B[0m\u001B[0;34m\u001B[0m\u001B[0m\n",
      "\u001B[0;32m/var/folders/8q/pnrnrzxs48133m1ggwh8dlhc0000gp/T/ipykernel_34521/490412694.py\u001B[0m in \u001B[0;36mconstruct_dataset_v7\u001B[0;34m(current_week, multiplier, last_n_transactions, test_data, max_size, articles_probabilities)\u001B[0m\n\u001B[1;32m     17\u001B[0m         target_dataset = pd.DataFrame({\n\u001B[1;32m     18\u001B[0m             \u001B[0;34m\"customer_num\"\u001B[0m\u001B[0;34m:\u001B[0m \u001B[0mrandom\u001B[0m\u001B[0;34m.\u001B[0m\u001B[0mchoices\u001B[0m\u001B[0;34m(\u001B[0m\u001B[0mtransactions_target\u001B[0m\u001B[0;34m[\u001B[0m\u001B[0;34m\"customer_num\"\u001B[0m\u001B[0;34m]\u001B[0m\u001B[0;34m.\u001B[0m\u001B[0munique\u001B[0m\u001B[0;34m(\u001B[0m\u001B[0;34m)\u001B[0m\u001B[0;34m,\u001B[0m \u001B[0mk\u001B[0m\u001B[0;34m=\u001B[0m\u001B[0mtransactions_target\u001B[0m\u001B[0;34m.\u001B[0m\u001B[0mshape\u001B[0m\u001B[0;34m[\u001B[0m\u001B[0;36m0\u001B[0m\u001B[0;34m]\u001B[0m \u001B[0;34m*\u001B[0m \u001B[0mmultiplier\u001B[0m\u001B[0;34m)\u001B[0m\u001B[0;34m,\u001B[0m\u001B[0;34m\u001B[0m\u001B[0;34m\u001B[0m\u001B[0m\n\u001B[0;32m---> 19\u001B[0;31m             \"article_num\": random.choices(df_articles_ids[\"article_num\"],\n\u001B[0m\u001B[1;32m     20\u001B[0m                                           \u001B[0mweights\u001B[0m\u001B[0;34m=\u001B[0m\u001B[0;34m(\u001B[0m\u001B[0marticles_probabilities\u001B[0m\u001B[0;34m[\u001B[0m\u001B[0mcurrent_week\u001B[0m\u001B[0;34m]\u001B[0m \u001B[0;34m>\u001B[0m \u001B[0;36m0.5\u001B[0m\u001B[0;34m)\u001B[0m \u001B[0;34m/\u001B[0m \u001B[0mnp\u001B[0m\u001B[0;34m.\u001B[0m\u001B[0msum\u001B[0m\u001B[0;34m(\u001B[0m\u001B[0marticles_probabilities\u001B[0m\u001B[0;34m[\u001B[0m\u001B[0mcurrent_week\u001B[0m\u001B[0;34m]\u001B[0m\u001B[0;34m)\u001B[0m\u001B[0;34m,\u001B[0m\u001B[0;34m\u001B[0m\u001B[0;34m\u001B[0m\u001B[0m\n\u001B[1;32m     21\u001B[0m                                           k=transactions_target.shape[0] * multiplier)\n",
      "\u001B[0;32m~/opt/anaconda3/lib/python3.9/random.py\u001B[0m in \u001B[0;36mchoices\u001B[0;34m(self, population, weights, cum_weights, k)\u001B[0m\n\u001B[1;32m    486\u001B[0m                 \u001B[0;32mreturn\u001B[0m \u001B[0;34m[\u001B[0m\u001B[0mpopulation\u001B[0m\u001B[0;34m[\u001B[0m\u001B[0mfloor\u001B[0m\u001B[0;34m(\u001B[0m\u001B[0mrandom\u001B[0m\u001B[0;34m(\u001B[0m\u001B[0;34m)\u001B[0m \u001B[0;34m*\u001B[0m \u001B[0mn\u001B[0m\u001B[0;34m)\u001B[0m\u001B[0;34m]\u001B[0m \u001B[0;32mfor\u001B[0m \u001B[0mi\u001B[0m \u001B[0;32min\u001B[0m \u001B[0m_repeat\u001B[0m\u001B[0;34m(\u001B[0m\u001B[0;32mNone\u001B[0m\u001B[0;34m,\u001B[0m \u001B[0mk\u001B[0m\u001B[0;34m)\u001B[0m\u001B[0;34m]\u001B[0m\u001B[0;34m\u001B[0m\u001B[0;34m\u001B[0m\u001B[0m\n\u001B[1;32m    487\u001B[0m             \u001B[0;32mtry\u001B[0m\u001B[0;34m:\u001B[0m\u001B[0;34m\u001B[0m\u001B[0;34m\u001B[0m\u001B[0m\n\u001B[0;32m--> 488\u001B[0;31m                 \u001B[0mcum_weights\u001B[0m \u001B[0;34m=\u001B[0m \u001B[0mlist\u001B[0m\u001B[0;34m(\u001B[0m\u001B[0m_accumulate\u001B[0m\u001B[0;34m(\u001B[0m\u001B[0mweights\u001B[0m\u001B[0;34m)\u001B[0m\u001B[0;34m)\u001B[0m\u001B[0;34m\u001B[0m\u001B[0;34m\u001B[0m\u001B[0m\n\u001B[0m\u001B[1;32m    489\u001B[0m             \u001B[0;32mexcept\u001B[0m \u001B[0mTypeError\u001B[0m\u001B[0;34m:\u001B[0m\u001B[0;34m\u001B[0m\u001B[0;34m\u001B[0m\u001B[0m\n\u001B[1;32m    490\u001B[0m                 \u001B[0;32mif\u001B[0m \u001B[0;32mnot\u001B[0m \u001B[0misinstance\u001B[0m\u001B[0;34m(\u001B[0m\u001B[0mweights\u001B[0m\u001B[0;34m,\u001B[0m \u001B[0mint\u001B[0m\u001B[0;34m)\u001B[0m\u001B[0;34m:\u001B[0m\u001B[0;34m\u001B[0m\u001B[0;34m\u001B[0m\u001B[0m\n",
      "\u001B[0;31mKeyboardInterrupt\u001B[0m: "
     ]
    }
   ],
   "source": [
    "history = None\n",
    "\n",
    "for j in range(13, 20):\n",
    "    model.compile(\n",
    "        loss={\"output_target_val\": keras.losses.BinaryCrossentropy(from_logits=False)},\n",
    "        optimizer=tf.keras.optimizers.Adam(learning_rate=.001 / (1+j)),\n",
    "        metrics={\"output_target_val\": [\"accuracy\"]}\n",
    "    )\n",
    "    for i in range(0, 10):\n",
    "        BATCH_SIZE = 256\n",
    "        dataset = construct_dataset_v7(current_week=n_weeks-10+i, multiplier=1+ min(j, 3), last_n_transactions=50, max_size = 256 * 256, articles_probabilities=articles_g50_probabilities)\n",
    "        SAMPLE_SIZE = dataset[1][\"output_target_val\"].shape[0]\n",
    "        tf_dataset = tf.data.Dataset.from_tensor_slices(dataset)\n",
    "        tf_dataset = tf_dataset.shuffle(SAMPLE_SIZE)\n",
    "        test_dataset = tf_dataset.take(int(SAMPLE_SIZE*0.2))\n",
    "        train_dataset = tf_dataset.skip(int(SAMPLE_SIZE*0.2))\n",
    "        test_dataset = test_dataset.batch(BATCH_SIZE)\n",
    "        train_dataset = train_dataset.batch(BATCH_SIZE)\n",
    "        history = model.fit(\n",
    "            train_dataset,\n",
    "            validation_data = test_dataset,\n",
    "            epochs=2\n",
    "        )\n",
    "        gc.collect()\n",
    "        print(\"( j =\", j, \", i =\",  i, \")th step finished\")\n",
    "        #model.save(CURRENT_PATH + 'main_model2')"
   ],
   "metadata": {
    "collapsed": false,
    "pycharm": {
     "name": "#%%\n"
    }
   }
  },
  {
   "cell_type": "code",
   "execution_count": 1246,
   "outputs": [
    {
     "name": "stdout",
     "output_type": "stream",
     "text": [
      "0 th dataset constructed in 45.92039108276367 seconds\n",
      "1 th dataset constructed in 43.07703900337219 seconds\n",
      "2 th dataset constructed in 43.74901795387268 seconds\n",
      "3 th dataset constructed in 43.764113903045654 seconds\n",
      "4 th dataset constructed in 44.01112198829651 seconds\n",
      "5 th dataset constructed in 44.731781005859375 seconds\n",
      "6 th dataset constructed in 45.274292945861816 seconds\n",
      "7 th dataset constructed in 45.49356698989868 seconds\n",
      "8 th dataset constructed in 46.220656871795654 seconds\n",
      "9 th dataset constructed in 46.475011110305786 seconds\n"
     ]
    },
    {
     "name": "stderr",
     "output_type": "stream",
     "text": [
      "/Users/vvborzov/opt/anaconda3/lib/python3.9/site-packages/keras/engine/functional.py:559: UserWarning: Input dict contained keys ['input_customer_num', 'input_article_num', 'input_article_history_t_weekn'] which did not match any model input. They will be ignored by the model.\n",
      "  inputs = self._flatten_to_reference_inputs(inputs)\n"
     ]
    },
    {
     "name": "stdout",
     "output_type": "stream",
     "text": [
      "2505/2505 [==============================] - 507s 196ms/step - loss: 0.1828 - accuracy: 0.9500 - val_loss: 0.1823 - val_accuracy: 0.9515\n",
      "( j = 103 )th step finished\n",
      "0 th dataset constructed in 46.61306977272034 seconds\n",
      "1 th dataset constructed in 42.75290775299072 seconds\n",
      "2 th dataset constructed in 43.68150591850281 seconds\n",
      "3 th dataset constructed in 43.427704095840454 seconds\n",
      "4 th dataset constructed in 43.12322115898132 seconds\n",
      "5 th dataset constructed in 44.21364116668701 seconds\n",
      "6 th dataset constructed in 45.0548050403595 seconds\n",
      "7 th dataset constructed in 44.72653603553772 seconds\n",
      "8 th dataset constructed in 46.85892605781555 seconds\n",
      "9 th dataset constructed in 47.06984496116638 seconds\n",
      "2505/2505 [==============================] - 495s 192ms/step - loss: 0.1822 - accuracy: 0.9500 - val_loss: 0.1849 - val_accuracy: 0.9502\n",
      "( j = 104 )th step finished\n",
      "0 th dataset constructed in 46.052908182144165 seconds\n",
      "1 th dataset constructed in 43.39331388473511 seconds\n",
      "2 th dataset constructed in 43.38473129272461 seconds\n",
      "3 th dataset constructed in 44.40272784233093 seconds\n",
      "4 th dataset constructed in 46.97696900367737 seconds\n",
      "5 th dataset constructed in 45.68975615501404 seconds\n",
      "6 th dataset constructed in 44.81489276885986 seconds\n",
      "7 th dataset constructed in 45.55744981765747 seconds\n",
      "8 th dataset constructed in 46.16600489616394 seconds\n",
      "9 th dataset constructed in 52.20635914802551 seconds\n",
      "2505/2505 [==============================] - 509s 198ms/step - loss: 0.1825 - accuracy: 0.9500 - val_loss: 0.1797 - val_accuracy: 0.9511\n",
      "( j = 105 )th step finished\n",
      "0 th dataset constructed in 46.468615770339966 seconds\n",
      "1 th dataset constructed in 43.12660622596741 seconds\n",
      "2 th dataset constructed in 42.67533206939697 seconds\n",
      "3 th dataset constructed in 43.356947898864746 seconds\n",
      "4 th dataset constructed in 43.93943190574646 seconds\n",
      "5 th dataset constructed in 44.850109815597534 seconds\n",
      "6 th dataset constructed in 44.649452209472656 seconds\n",
      "7 th dataset constructed in 45.68341898918152 seconds\n",
      "8 th dataset constructed in 46.34365701675415 seconds\n",
      "9 th dataset constructed in 46.96452713012695 seconds\n",
      "2505/2505 [==============================] - 515s 201ms/step - loss: 0.1820 - accuracy: 0.9500 - val_loss: 0.1909 - val_accuracy: 0.9488\n",
      "( j = 106 )th step finished\n",
      "0 th dataset constructed in 46.136672019958496 seconds\n",
      "1 th dataset constructed in 42.75804305076599 seconds\n",
      "2 th dataset constructed in 43.41734313964844 seconds\n",
      "3 th dataset constructed in 43.16470980644226 seconds\n",
      "4 th dataset constructed in 43.96724200248718 seconds\n",
      "5 th dataset constructed in 44.679723024368286 seconds\n",
      "6 th dataset constructed in 45.363479137420654 seconds\n",
      "7 th dataset constructed in 45.86384105682373 seconds\n",
      "8 th dataset constructed in 46.5858690738678 seconds\n",
      "9 th dataset constructed in 46.78894519805908 seconds\n",
      "2505/2505 [==============================] - 467s 181ms/step - loss: 0.1822 - accuracy: 0.9500 - val_loss: 0.1873 - val_accuracy: 0.9496\n",
      "( j = 107 )th step finished\n"
     ]
    },
    {
     "ename": "KeyboardInterrupt",
     "evalue": "",
     "output_type": "error",
     "traceback": [
      "\u001B[0;31m---------------------------------------------------------------------------\u001B[0m",
      "\u001B[0;31mKeyboardInterrupt\u001B[0m                         Traceback (most recent call last)",
      "\u001B[0;32m/var/folders/8q/pnrnrzxs48133m1ggwh8dlhc0000gp/T/ipykernel_34521/3748021254.py\u001B[0m in \u001B[0;36m<module>\u001B[0;34m\u001B[0m\n\u001B[1;32m     11\u001B[0m     \u001B[0;32mfor\u001B[0m \u001B[0mi\u001B[0m \u001B[0;32min\u001B[0m \u001B[0mrange\u001B[0m\u001B[0;34m(\u001B[0m\u001B[0;36m0\u001B[0m\u001B[0;34m,\u001B[0m \u001B[0;36m10\u001B[0m\u001B[0;34m)\u001B[0m\u001B[0;34m:\u001B[0m\u001B[0;34m\u001B[0m\u001B[0;34m\u001B[0m\u001B[0m\n\u001B[1;32m     12\u001B[0m         \u001B[0mcurrent_time\u001B[0m \u001B[0;34m=\u001B[0m \u001B[0mtime\u001B[0m\u001B[0;34m.\u001B[0m\u001B[0mtime\u001B[0m\u001B[0;34m(\u001B[0m\u001B[0;34m)\u001B[0m\u001B[0;34m\u001B[0m\u001B[0;34m\u001B[0m\u001B[0m\n\u001B[0;32m---> 13\u001B[0;31m         \u001B[0mdataset\u001B[0m \u001B[0;34m=\u001B[0m \u001B[0mconstruct_dataset_v7\u001B[0m\u001B[0;34m(\u001B[0m\u001B[0mcurrent_week\u001B[0m\u001B[0;34m=\u001B[0m\u001B[0mn_weeks\u001B[0m\u001B[0;34m-\u001B[0m\u001B[0;36m10\u001B[0m\u001B[0;34m+\u001B[0m\u001B[0mi\u001B[0m\u001B[0;34m,\u001B[0m \u001B[0mmultiplier\u001B[0m\u001B[0;34m=\u001B[0m\u001B[0;36m19\u001B[0m\u001B[0;34m,\u001B[0m \u001B[0mlast_n_transactions\u001B[0m\u001B[0;34m=\u001B[0m\u001B[0;36m50\u001B[0m\u001B[0;34m,\u001B[0m \u001B[0mmax_size\u001B[0m \u001B[0;34m=\u001B[0m \u001B[0mBATCH_SIZE\u001B[0m \u001B[0;34m*\u001B[0m \u001B[0mBATCH_SIZE\u001B[0m\u001B[0;34m,\u001B[0m \u001B[0marticles_probabilities\u001B[0m\u001B[0;34m=\u001B[0m\u001B[0marticles_g50_probabilities\u001B[0m\u001B[0;34m)\u001B[0m\u001B[0;34m\u001B[0m\u001B[0;34m\u001B[0m\u001B[0m\n\u001B[0m\u001B[1;32m     14\u001B[0m         \u001B[0mdatasets\u001B[0m\u001B[0;34m.\u001B[0m\u001B[0mappend\u001B[0m\u001B[0;34m(\u001B[0m\u001B[0mdataset\u001B[0m\u001B[0;34m)\u001B[0m\u001B[0;34m\u001B[0m\u001B[0;34m\u001B[0m\u001B[0m\n\u001B[1;32m     15\u001B[0m         \u001B[0mprint\u001B[0m\u001B[0;34m(\u001B[0m\u001B[0mi\u001B[0m\u001B[0;34m,\u001B[0m \u001B[0;34m\"th dataset constructed in\"\u001B[0m\u001B[0;34m,\u001B[0m \u001B[0mtime\u001B[0m\u001B[0;34m.\u001B[0m\u001B[0mtime\u001B[0m\u001B[0;34m(\u001B[0m\u001B[0;34m)\u001B[0m \u001B[0;34m-\u001B[0m \u001B[0mcurrent_time\u001B[0m\u001B[0;34m,\u001B[0m \u001B[0;34m\"seconds\"\u001B[0m\u001B[0;34m)\u001B[0m\u001B[0;34m\u001B[0m\u001B[0;34m\u001B[0m\u001B[0m\n",
      "\u001B[0;32m/var/folders/8q/pnrnrzxs48133m1ggwh8dlhc0000gp/T/ipykernel_34521/449505793.py\u001B[0m in \u001B[0;36mconstruct_dataset_v7\u001B[0;34m(current_week, multiplier, last_n_transactions, test_data, max_size, articles_probabilities)\u001B[0m\n\u001B[1;32m      6\u001B[0m         \u001B[0mtarget_dataset\u001B[0m\u001B[0;34m[\u001B[0m\u001B[0;34m\"target_val\"\u001B[0m\u001B[0;34m]\u001B[0m \u001B[0;34m=\u001B[0m \u001B[0;36m0\u001B[0m\u001B[0;34m\u001B[0m\u001B[0;34m\u001B[0m\u001B[0m\n\u001B[1;32m      7\u001B[0m     \u001B[0;32melse\u001B[0m\u001B[0;34m:\u001B[0m\u001B[0;34m\u001B[0m\u001B[0;34m\u001B[0m\u001B[0m\n\u001B[0;32m----> 8\u001B[0;31m         \u001B[0mtransactions_target\u001B[0m \u001B[0;34m=\u001B[0m \u001B[0mtransactions_train\u001B[0m\u001B[0;34m[\u001B[0m\u001B[0mtransactions_train\u001B[0m\u001B[0;34m[\u001B[0m\u001B[0;34m\"t_weekn\"\u001B[0m\u001B[0;34m]\u001B[0m \u001B[0;34m==\u001B[0m \u001B[0mcurrent_week\u001B[0m\u001B[0;34m]\u001B[0m\u001B[0;34m.\u001B[0m\u001B[0mcopy\u001B[0m\u001B[0;34m(\u001B[0m\u001B[0;34m)\u001B[0m\u001B[0;34m\u001B[0m\u001B[0;34m\u001B[0m\u001B[0m\n\u001B[0m\u001B[1;32m      9\u001B[0m         transactions_target = pd.merge(\n\u001B[1;32m     10\u001B[0m             \u001B[0mtransactions_target\u001B[0m\u001B[0;34m,\u001B[0m\u001B[0;34m\u001B[0m\u001B[0;34m\u001B[0m\u001B[0m\n",
      "\u001B[0;32m~/opt/anaconda3/lib/python3.9/site-packages/pandas/core/frame.py\u001B[0m in \u001B[0;36m__getitem__\u001B[0;34m(self, key)\u001B[0m\n\u001B[1;32m   3447\u001B[0m         \u001B[0;31m# Do we have a (boolean) 1d indexer?\u001B[0m\u001B[0;34m\u001B[0m\u001B[0;34m\u001B[0m\u001B[0m\n\u001B[1;32m   3448\u001B[0m         \u001B[0;32mif\u001B[0m \u001B[0mcom\u001B[0m\u001B[0;34m.\u001B[0m\u001B[0mis_bool_indexer\u001B[0m\u001B[0;34m(\u001B[0m\u001B[0mkey\u001B[0m\u001B[0;34m)\u001B[0m\u001B[0;34m:\u001B[0m\u001B[0;34m\u001B[0m\u001B[0;34m\u001B[0m\u001B[0m\n\u001B[0;32m-> 3449\u001B[0;31m             \u001B[0;32mreturn\u001B[0m \u001B[0mself\u001B[0m\u001B[0;34m.\u001B[0m\u001B[0m_getitem_bool_array\u001B[0m\u001B[0;34m(\u001B[0m\u001B[0mkey\u001B[0m\u001B[0;34m)\u001B[0m\u001B[0;34m\u001B[0m\u001B[0;34m\u001B[0m\u001B[0m\n\u001B[0m\u001B[1;32m   3450\u001B[0m \u001B[0;34m\u001B[0m\u001B[0m\n\u001B[1;32m   3451\u001B[0m         \u001B[0;31m# We are left with two options: a single key, and a collection of keys,\u001B[0m\u001B[0;34m\u001B[0m\u001B[0;34m\u001B[0m\u001B[0m\n",
      "\u001B[0;32m~/opt/anaconda3/lib/python3.9/site-packages/pandas/core/frame.py\u001B[0m in \u001B[0;36m_getitem_bool_array\u001B[0;34m(self, key)\u001B[0m\n\u001B[1;32m   3502\u001B[0m         \u001B[0mkey\u001B[0m \u001B[0;34m=\u001B[0m \u001B[0mcheck_bool_indexer\u001B[0m\u001B[0;34m(\u001B[0m\u001B[0mself\u001B[0m\u001B[0;34m.\u001B[0m\u001B[0mindex\u001B[0m\u001B[0;34m,\u001B[0m \u001B[0mkey\u001B[0m\u001B[0;34m)\u001B[0m\u001B[0;34m\u001B[0m\u001B[0;34m\u001B[0m\u001B[0m\n\u001B[1;32m   3503\u001B[0m         \u001B[0mindexer\u001B[0m \u001B[0;34m=\u001B[0m \u001B[0mkey\u001B[0m\u001B[0;34m.\u001B[0m\u001B[0mnonzero\u001B[0m\u001B[0;34m(\u001B[0m\u001B[0;34m)\u001B[0m\u001B[0;34m[\u001B[0m\u001B[0;36m0\u001B[0m\u001B[0;34m]\u001B[0m\u001B[0;34m\u001B[0m\u001B[0;34m\u001B[0m\u001B[0m\n\u001B[0;32m-> 3504\u001B[0;31m         \u001B[0;32mreturn\u001B[0m \u001B[0mself\u001B[0m\u001B[0;34m.\u001B[0m\u001B[0m_take_with_is_copy\u001B[0m\u001B[0;34m(\u001B[0m\u001B[0mindexer\u001B[0m\u001B[0;34m,\u001B[0m \u001B[0maxis\u001B[0m\u001B[0;34m=\u001B[0m\u001B[0;36m0\u001B[0m\u001B[0;34m)\u001B[0m\u001B[0;34m\u001B[0m\u001B[0;34m\u001B[0m\u001B[0m\n\u001B[0m\u001B[1;32m   3505\u001B[0m \u001B[0;34m\u001B[0m\u001B[0m\n\u001B[1;32m   3506\u001B[0m     \u001B[0;32mdef\u001B[0m \u001B[0m_getitem_multilevel\u001B[0m\u001B[0;34m(\u001B[0m\u001B[0mself\u001B[0m\u001B[0;34m,\u001B[0m \u001B[0mkey\u001B[0m\u001B[0;34m)\u001B[0m\u001B[0;34m:\u001B[0m\u001B[0;34m\u001B[0m\u001B[0;34m\u001B[0m\u001B[0m\n",
      "\u001B[0;32m~/opt/anaconda3/lib/python3.9/site-packages/pandas/core/generic.py\u001B[0m in \u001B[0;36m_take_with_is_copy\u001B[0;34m(self, indices, axis)\u001B[0m\n\u001B[1;32m   3626\u001B[0m         \u001B[0mSee\u001B[0m \u001B[0mthe\u001B[0m \u001B[0mdocstring\u001B[0m \u001B[0mof\u001B[0m\u001B[0;31m \u001B[0m\u001B[0;31m`\u001B[0m\u001B[0mtake\u001B[0m\u001B[0;31m`\u001B[0m \u001B[0;32mfor\u001B[0m \u001B[0mfull\u001B[0m \u001B[0mexplanation\u001B[0m \u001B[0mof\u001B[0m \u001B[0mthe\u001B[0m \u001B[0mparameters\u001B[0m\u001B[0;34m.\u001B[0m\u001B[0;34m\u001B[0m\u001B[0;34m\u001B[0m\u001B[0m\n\u001B[1;32m   3627\u001B[0m         \"\"\"\n\u001B[0;32m-> 3628\u001B[0;31m         \u001B[0mresult\u001B[0m \u001B[0;34m=\u001B[0m \u001B[0mself\u001B[0m\u001B[0;34m.\u001B[0m\u001B[0mtake\u001B[0m\u001B[0;34m(\u001B[0m\u001B[0mindices\u001B[0m\u001B[0;34m=\u001B[0m\u001B[0mindices\u001B[0m\u001B[0;34m,\u001B[0m \u001B[0maxis\u001B[0m\u001B[0;34m=\u001B[0m\u001B[0maxis\u001B[0m\u001B[0;34m)\u001B[0m\u001B[0;34m\u001B[0m\u001B[0;34m\u001B[0m\u001B[0m\n\u001B[0m\u001B[1;32m   3629\u001B[0m         \u001B[0;31m# Maybe set copy if we didn't actually change the index.\u001B[0m\u001B[0;34m\u001B[0m\u001B[0;34m\u001B[0m\u001B[0m\n\u001B[1;32m   3630\u001B[0m         \u001B[0;32mif\u001B[0m \u001B[0;32mnot\u001B[0m \u001B[0mresult\u001B[0m\u001B[0;34m.\u001B[0m\u001B[0m_get_axis\u001B[0m\u001B[0;34m(\u001B[0m\u001B[0maxis\u001B[0m\u001B[0;34m)\u001B[0m\u001B[0;34m.\u001B[0m\u001B[0mequals\u001B[0m\u001B[0;34m(\u001B[0m\u001B[0mself\u001B[0m\u001B[0;34m.\u001B[0m\u001B[0m_get_axis\u001B[0m\u001B[0;34m(\u001B[0m\u001B[0maxis\u001B[0m\u001B[0;34m)\u001B[0m\u001B[0;34m)\u001B[0m\u001B[0;34m:\u001B[0m\u001B[0;34m\u001B[0m\u001B[0;34m\u001B[0m\u001B[0m\n",
      "\u001B[0;32m~/opt/anaconda3/lib/python3.9/site-packages/pandas/core/generic.py\u001B[0m in \u001B[0;36mtake\u001B[0;34m(self, indices, axis, is_copy, **kwargs)\u001B[0m\n\u001B[1;32m   3613\u001B[0m         \u001B[0mself\u001B[0m\u001B[0;34m.\u001B[0m\u001B[0m_consolidate_inplace\u001B[0m\u001B[0;34m(\u001B[0m\u001B[0;34m)\u001B[0m\u001B[0;34m\u001B[0m\u001B[0;34m\u001B[0m\u001B[0m\n\u001B[1;32m   3614\u001B[0m \u001B[0;34m\u001B[0m\u001B[0m\n\u001B[0;32m-> 3615\u001B[0;31m         new_data = self._mgr.take(\n\u001B[0m\u001B[1;32m   3616\u001B[0m             \u001B[0mindices\u001B[0m\u001B[0;34m,\u001B[0m \u001B[0maxis\u001B[0m\u001B[0;34m=\u001B[0m\u001B[0mself\u001B[0m\u001B[0;34m.\u001B[0m\u001B[0m_get_block_manager_axis\u001B[0m\u001B[0;34m(\u001B[0m\u001B[0maxis\u001B[0m\u001B[0;34m)\u001B[0m\u001B[0;34m,\u001B[0m \u001B[0mverify\u001B[0m\u001B[0;34m=\u001B[0m\u001B[0;32mTrue\u001B[0m\u001B[0;34m\u001B[0m\u001B[0;34m\u001B[0m\u001B[0m\n\u001B[1;32m   3617\u001B[0m         )\n",
      "\u001B[0;32m~/opt/anaconda3/lib/python3.9/site-packages/pandas/core/internals/managers.py\u001B[0m in \u001B[0;36mtake\u001B[0;34m(self, indexer, axis, verify)\u001B[0m\n\u001B[1;32m    863\u001B[0m \u001B[0;34m\u001B[0m\u001B[0m\n\u001B[1;32m    864\u001B[0m         \u001B[0mnew_labels\u001B[0m \u001B[0;34m=\u001B[0m \u001B[0mself\u001B[0m\u001B[0;34m.\u001B[0m\u001B[0maxes\u001B[0m\u001B[0;34m[\u001B[0m\u001B[0maxis\u001B[0m\u001B[0;34m]\u001B[0m\u001B[0;34m.\u001B[0m\u001B[0mtake\u001B[0m\u001B[0;34m(\u001B[0m\u001B[0mindexer\u001B[0m\u001B[0;34m)\u001B[0m\u001B[0;34m\u001B[0m\u001B[0;34m\u001B[0m\u001B[0m\n\u001B[0;32m--> 865\u001B[0;31m         return self.reindex_indexer(\n\u001B[0m\u001B[1;32m    866\u001B[0m             \u001B[0mnew_axis\u001B[0m\u001B[0;34m=\u001B[0m\u001B[0mnew_labels\u001B[0m\u001B[0;34m,\u001B[0m\u001B[0;34m\u001B[0m\u001B[0;34m\u001B[0m\u001B[0m\n\u001B[1;32m    867\u001B[0m             \u001B[0mindexer\u001B[0m\u001B[0;34m=\u001B[0m\u001B[0mindexer\u001B[0m\u001B[0;34m,\u001B[0m\u001B[0;34m\u001B[0m\u001B[0;34m\u001B[0m\u001B[0m\n",
      "\u001B[0;32m~/opt/anaconda3/lib/python3.9/site-packages/pandas/core/internals/managers.py\u001B[0m in \u001B[0;36mreindex_indexer\u001B[0;34m(self, new_axis, indexer, axis, fill_value, allow_dups, copy, consolidate, only_slice)\u001B[0m\n\u001B[1;32m    678\u001B[0m             )\n\u001B[1;32m    679\u001B[0m         \u001B[0;32melse\u001B[0m\u001B[0;34m:\u001B[0m\u001B[0;34m\u001B[0m\u001B[0;34m\u001B[0m\u001B[0m\n\u001B[0;32m--> 680\u001B[0;31m             new_blocks = [\n\u001B[0m\u001B[1;32m    681\u001B[0m                 blk.take_nd(\n\u001B[1;32m    682\u001B[0m                     \u001B[0mindexer\u001B[0m\u001B[0;34m,\u001B[0m\u001B[0;34m\u001B[0m\u001B[0;34m\u001B[0m\u001B[0m\n",
      "\u001B[0;32m~/opt/anaconda3/lib/python3.9/site-packages/pandas/core/internals/managers.py\u001B[0m in \u001B[0;36m<listcomp>\u001B[0;34m(.0)\u001B[0m\n\u001B[1;32m    679\u001B[0m         \u001B[0;32melse\u001B[0m\u001B[0;34m:\u001B[0m\u001B[0;34m\u001B[0m\u001B[0;34m\u001B[0m\u001B[0m\n\u001B[1;32m    680\u001B[0m             new_blocks = [\n\u001B[0;32m--> 681\u001B[0;31m                 blk.take_nd(\n\u001B[0m\u001B[1;32m    682\u001B[0m                     \u001B[0mindexer\u001B[0m\u001B[0;34m,\u001B[0m\u001B[0;34m\u001B[0m\u001B[0;34m\u001B[0m\u001B[0m\n\u001B[1;32m    683\u001B[0m                     \u001B[0maxis\u001B[0m\u001B[0;34m=\u001B[0m\u001B[0;36m1\u001B[0m\u001B[0;34m,\u001B[0m\u001B[0;34m\u001B[0m\u001B[0;34m\u001B[0m\u001B[0m\n",
      "\u001B[0;32m~/opt/anaconda3/lib/python3.9/site-packages/pandas/core/internals/blocks.py\u001B[0m in \u001B[0;36mtake_nd\u001B[0;34m(self, indexer, axis, new_mgr_locs, fill_value)\u001B[0m\n\u001B[1;32m   1142\u001B[0m             \u001B[0mallow_fill\u001B[0m \u001B[0;34m=\u001B[0m \u001B[0;32mTrue\u001B[0m\u001B[0;34m\u001B[0m\u001B[0;34m\u001B[0m\u001B[0m\n\u001B[1;32m   1143\u001B[0m \u001B[0;34m\u001B[0m\u001B[0m\n\u001B[0;32m-> 1144\u001B[0;31m         new_values = algos.take_nd(\n\u001B[0m\u001B[1;32m   1145\u001B[0m             \u001B[0mvalues\u001B[0m\u001B[0;34m,\u001B[0m \u001B[0mindexer\u001B[0m\u001B[0;34m,\u001B[0m \u001B[0maxis\u001B[0m\u001B[0;34m=\u001B[0m\u001B[0maxis\u001B[0m\u001B[0;34m,\u001B[0m \u001B[0mallow_fill\u001B[0m\u001B[0;34m=\u001B[0m\u001B[0mallow_fill\u001B[0m\u001B[0;34m,\u001B[0m \u001B[0mfill_value\u001B[0m\u001B[0;34m=\u001B[0m\u001B[0mfill_value\u001B[0m\u001B[0;34m\u001B[0m\u001B[0;34m\u001B[0m\u001B[0m\n\u001B[1;32m   1146\u001B[0m         )\n",
      "\u001B[0;32m~/opt/anaconda3/lib/python3.9/site-packages/pandas/core/array_algos/take.py\u001B[0m in \u001B[0;36mtake_nd\u001B[0;34m(arr, indexer, axis, fill_value, allow_fill)\u001B[0m\n\u001B[1;32m    106\u001B[0m \u001B[0;34m\u001B[0m\u001B[0m\n\u001B[1;32m    107\u001B[0m     \u001B[0marr\u001B[0m \u001B[0;34m=\u001B[0m \u001B[0mnp\u001B[0m\u001B[0;34m.\u001B[0m\u001B[0masarray\u001B[0m\u001B[0;34m(\u001B[0m\u001B[0marr\u001B[0m\u001B[0;34m)\u001B[0m\u001B[0;34m\u001B[0m\u001B[0;34m\u001B[0m\u001B[0m\n\u001B[0;32m--> 108\u001B[0;31m     \u001B[0;32mreturn\u001B[0m \u001B[0m_take_nd_ndarray\u001B[0m\u001B[0;34m(\u001B[0m\u001B[0marr\u001B[0m\u001B[0;34m,\u001B[0m \u001B[0mindexer\u001B[0m\u001B[0;34m,\u001B[0m \u001B[0maxis\u001B[0m\u001B[0;34m,\u001B[0m \u001B[0mfill_value\u001B[0m\u001B[0;34m,\u001B[0m \u001B[0mallow_fill\u001B[0m\u001B[0;34m)\u001B[0m\u001B[0;34m\u001B[0m\u001B[0;34m\u001B[0m\u001B[0m\n\u001B[0m\u001B[1;32m    109\u001B[0m \u001B[0;34m\u001B[0m\u001B[0m\n\u001B[1;32m    110\u001B[0m \u001B[0;34m\u001B[0m\u001B[0m\n",
      "\u001B[0;32m~/opt/anaconda3/lib/python3.9/site-packages/pandas/core/array_algos/take.py\u001B[0m in \u001B[0;36m_take_nd_ndarray\u001B[0;34m(arr, indexer, axis, fill_value, allow_fill)\u001B[0m\n\u001B[1;32m    152\u001B[0m         \u001B[0marr\u001B[0m\u001B[0;34m.\u001B[0m\u001B[0mndim\u001B[0m\u001B[0;34m,\u001B[0m \u001B[0marr\u001B[0m\u001B[0;34m.\u001B[0m\u001B[0mdtype\u001B[0m\u001B[0;34m,\u001B[0m \u001B[0mout\u001B[0m\u001B[0;34m.\u001B[0m\u001B[0mdtype\u001B[0m\u001B[0;34m,\u001B[0m \u001B[0maxis\u001B[0m\u001B[0;34m=\u001B[0m\u001B[0maxis\u001B[0m\u001B[0;34m,\u001B[0m \u001B[0mmask_info\u001B[0m\u001B[0;34m=\u001B[0m\u001B[0mmask_info\u001B[0m\u001B[0;34m\u001B[0m\u001B[0;34m\u001B[0m\u001B[0m\n\u001B[1;32m    153\u001B[0m     )\n\u001B[0;32m--> 154\u001B[0;31m     \u001B[0mfunc\u001B[0m\u001B[0;34m(\u001B[0m\u001B[0marr\u001B[0m\u001B[0;34m,\u001B[0m \u001B[0mindexer\u001B[0m\u001B[0;34m,\u001B[0m \u001B[0mout\u001B[0m\u001B[0;34m,\u001B[0m \u001B[0mfill_value\u001B[0m\u001B[0;34m)\u001B[0m\u001B[0;34m\u001B[0m\u001B[0;34m\u001B[0m\u001B[0m\n\u001B[0m\u001B[1;32m    155\u001B[0m \u001B[0;34m\u001B[0m\u001B[0m\n\u001B[1;32m    156\u001B[0m     \u001B[0;32mif\u001B[0m \u001B[0mflip_order\u001B[0m\u001B[0;34m:\u001B[0m\u001B[0;34m\u001B[0m\u001B[0;34m\u001B[0m\u001B[0m\n",
      "\u001B[0;31mKeyboardInterrupt\u001B[0m: "
     ]
    }
   ],
   "source": [
    "history = None\n",
    "\n",
    "for j in range(103, 1000):\n",
    "    model.compile(\n",
    "        loss={\"output_target_val\": keras.losses.BinaryCrossentropy(from_logits=False)},\n",
    "        optimizer=tf.keras.optimizers.Adam(learning_rate=.001 / (1+j)),\n",
    "        metrics={\"output_target_val\": [\"accuracy\"]}\n",
    "    )\n",
    "    BATCH_SIZE = 256\n",
    "    datasets = []\n",
    "    for i in range(0, 10):\n",
    "        current_time = time.time()\n",
    "        dataset = construct_dataset_v7(current_week=n_weeks-10+i, multiplier=19, last_n_transactions=50, max_size = BATCH_SIZE * BATCH_SIZE, articles_probabilities=articles_g50_probabilities)\n",
    "        datasets.append(dataset)\n",
    "        print(i, \"th dataset constructed in\", time.time() - current_time, \"seconds\")\n",
    "    tf_dataset = tf.data.Dataset.from_tensor_slices(datasets[0])\n",
    "    for i in range(1, len(datasets)):\n",
    "        tf_dataset = tf_dataset.concatenate(tf.data.Dataset.from_tensor_slices(datasets[i]))\n",
    "    SAMPLE_SIZE = dataset[1][\"output_target_val\"].shape[0]\n",
    "    tf_dataset = tf_dataset.shuffle(min(SAMPLE_SIZE, 10000))\n",
    "    test_dataset = tf_dataset.take(int(SAMPLE_SIZE*0.2))\n",
    "    train_dataset = tf_dataset.skip(int(SAMPLE_SIZE*0.2))\n",
    "    test_dataset = test_dataset.batch(BATCH_SIZE)\n",
    "    train_dataset = train_dataset.batch(BATCH_SIZE)\n",
    "    history = model.fit(\n",
    "            train_dataset,\n",
    "            validation_data = test_dataset,\n",
    "            epochs=1#int(np.sqrt(j))\n",
    "        )\n",
    "    del datasets, tf_dataset, test_dataset, train_dataset\n",
    "    gc.collect()\n",
    "    print(\"( j =\", j, \")th step finished\")\n",
    "    #model.save(CURRENT_PATH + 'main_model10')"
   ],
   "metadata": {
    "collapsed": false,
    "pycharm": {
     "name": "#%%\n"
    }
   }
  },
  {
   "cell_type": "code",
   "execution_count": 1019,
   "outputs": [
    {
     "name": "stderr",
     "output_type": "stream",
     "text": [
      "WARNING:absl:Function `_wrapped_model` contains input name(s) input_customer_FN, input_customer_Active with unsupported characters which will be renamed to input_customer_fn, input_customer_active in the SavedModel.\n"
     ]
    },
    {
     "name": "stdout",
     "output_type": "stream",
     "text": [
      "INFO:tensorflow:Assets written to: ./main_model9/assets\n"
     ]
    },
    {
     "name": "stderr",
     "output_type": "stream",
     "text": [
      "INFO:tensorflow:Assets written to: ./main_model9/assets\n",
      "WARNING:absl:<keras.layers.recurrent.GRUCell object at 0x7f759d9a0cd0> has the same name 'GRUCell' as a built-in Keras object. Consider renaming <class 'keras.layers.recurrent.GRUCell'> to avoid naming conflicts when loading with `tf.keras.models.load_model`. If renaming is not possible, pass the object in the `custom_objects` parameter of the load function.\n",
      "WARNING:absl:<keras.layers.recurrent.GRUCell object at 0x7f75ae696370> has the same name 'GRUCell' as a built-in Keras object. Consider renaming <class 'keras.layers.recurrent.GRUCell'> to avoid naming conflicts when loading with `tf.keras.models.load_model`. If renaming is not possible, pass the object in the `custom_objects` parameter of the load function.\n"
     ]
    }
   ],
   "source": [
    "model.save(CURRENT_PATH + 'main_model9')"
   ],
   "metadata": {
    "collapsed": false,
    "pycharm": {
     "name": "#%%\n"
    }
   }
  },
  {
   "cell_type": "markdown",
   "source": [
    "# Тестируем целевую метрику"
   ],
   "metadata": {
    "collapsed": false
   }
  },
  {
   "cell_type": "code",
   "execution_count": 907,
   "outputs": [],
   "source": [
    "def map_at_k(df_pretendent, df_real, rank_column = \"rank\"):\n",
    "    df_pretendent_filtered = pd.merge(\n",
    "        df_pretendent,\n",
    "        pd.DataFrame({\"customer_num\": df_real[\"customer_num\"].unique()}),\n",
    "        on=\"customer_num\"\n",
    "    )\n",
    "    df_pretendent_filtered = pd.merge(\n",
    "        df_pretendent_filtered,\n",
    "        df_real.groupby(\"customer_num\").count()[[\"article_num\"]],\n",
    "        left_on=[\"customer_num\"],\n",
    "        right_index=True\n",
    "    )\n",
    "    df_pretendent_filtered[\"article_num_y\"] = np.array(df_pretendent_filtered[\"article_num_y\"] - (np.abs(df_pretendent_filtered[\"article_num_y\"] - 12) + df_pretendent_filtered[\"article_num_y\"] - 12)/2, dtype=int)\n",
    "    res = pd.merge(\n",
    "        df_pretendent_filtered,\n",
    "        df_real.groupby(by=[\"customer_num\", \"article_num\"]).count(),\n",
    "        how=\"left\",\n",
    "        left_on=[\"customer_num\", \"article_num_x\"],\n",
    "        right_index=True\n",
    "    )\n",
    "    res[\"res\"] = np.sign(res[\"t_dat\"].fillna(0))  * (res[rank_column]<=res[\"article_num_y\"]) * (1.0/res[\"article_num_y\"])\n",
    "    return np.mean(res.groupby(by=\"customer_num\")[\"res\"].sum())"
   ],
   "metadata": {
    "collapsed": false,
    "pycharm": {
     "name": "#%%\n"
    }
   }
  },
  {
   "cell_type": "markdown",
   "source": [
    "#### testing our new function"
   ],
   "metadata": {
    "collapsed": false
   }
  },
  {
   "cell_type": "code",
   "execution_count": null,
   "outputs": [],
   "source": [
    "df_pretendent = cross_join_dfs(\n",
    "    pd.DataFrame({\"customer_num\":transactions_train[transactions_train[\"t_weekn\"]==n_weeks-1][\"customer_num\"].unique()}),\n",
    "    pd.DataFrame({\n",
    "    \"article_num\":\n",
    "        transactions_train[transactions_train[\"t_weekn\"]==n_weeks-1].groupby(by=\"article_num\")[\"customer_num\"].nunique().sort_values(ascending=False).index[:12],\n",
    "    \"rank\": range(1, 13)\n",
    "}))"
   ],
   "metadata": {
    "collapsed": false,
    "pycharm": {
     "name": "#%%\n"
    }
   }
  },
  {
   "cell_type": "code",
   "execution_count": null,
   "outputs": [],
   "source": [
    "df_real = transactions_train[transactions_train[\"t_weekn\"]==n_weeks-1]"
   ],
   "metadata": {
    "collapsed": false,
    "pycharm": {
     "name": "#%%\n"
    }
   }
  },
  {
   "cell_type": "code",
   "execution_count": null,
   "outputs": [],
   "source": [
    "map_at_k(df_pretendent, df_real)"
   ],
   "metadata": {
    "collapsed": false,
    "pycharm": {
     "name": "#%%\n"
    }
   }
  },
  {
   "cell_type": "code",
   "execution_count": null,
   "outputs": [],
   "source": [
    "del df_pretendent, df_real"
   ],
   "metadata": {
    "collapsed": false,
    "pycharm": {
     "name": "#%%\n"
    }
   }
  },
  {
   "cell_type": "markdown",
   "source": [
    "#### теперь очередь за нашим предсказанием"
   ],
   "metadata": {
    "collapsed": false
   }
  },
  {
   "cell_type": "code",
   "execution_count": 1245,
   "outputs": [
    {
     "data": {
      "text/plain": "15562"
     },
     "execution_count": 1245,
     "metadata": {},
     "output_type": "execute_result"
    }
   ],
   "source": [
    "gc.collect()"
   ],
   "metadata": {
    "collapsed": false,
    "pycharm": {
     "name": "#%%\n"
    }
   }
  },
  {
   "cell_type": "code",
   "execution_count": 863,
   "outputs": [],
   "source": [
    "#model = old_model"
   ],
   "metadata": {
    "collapsed": false,
    "pycharm": {
     "name": "#%%\n"
    }
   }
  },
  {
   "cell_type": "code",
   "execution_count": null,
   "outputs": [],
   "source": [
    "#model = keras.models.load_model(\"main_model8\")"
   ],
   "metadata": {
    "collapsed": false,
    "pycharm": {
     "name": "#%%\n"
    }
   }
  },
  {
   "cell_type": "code",
   "execution_count": 1031,
   "outputs": [],
   "source": [
    "def construct_df_pretendent_quick(current_week, customers_for_test, articles_for_test, construct_dataset_fun, model):\n",
    "    model_customer = keras.Model(model.inputs, model.get_layer('middle_output_customer_layer').output)\n",
    "    dataset_customers = construct_dataset_fun(\n",
    "        current_week=current_week,\n",
    "        test_data=pd.DataFrame({\n",
    "            \"customer_num\": customers_for_test,\n",
    "            \"article_num\": 0\n",
    "        })\n",
    "    )\n",
    "    predict_customers = model_customer.predict(tf.data.Dataset.from_tensor_slices(dataset_customers).batch(256))\n",
    "    model_articles = keras.Model(model.inputs, model.get_layer('middle_output_article_layer').output)\n",
    "    dataset_articles = construct_dataset_fun(\n",
    "        current_week=current_week,\n",
    "        test_data=pd.DataFrame({\n",
    "            \"customer_num\": 0,\n",
    "            \"article_num\": articles_for_test\n",
    "        })\n",
    "    )\n",
    "    predict_articles = model_articles.predict(tf.data.Dataset.from_tensor_slices(dataset_articles).batch(256))\n",
    "    model_top = keras.Model(\n",
    "        {\n",
    "            'middle_output_customer_layer': model.get_layer('middle_output_customer_layer').output,\n",
    "            'middle_output_article_layer': model.get_layer('middle_output_article_layer').output,\n",
    "            'GRU_articles_history_l0': model.get_layer('GRU_articles_history_l0').output\n",
    "        },\n",
    "        model.get_layer('output_target_val').output)\n",
    "    local_df_pretendent = cross_join_dfs(\n",
    "        pd.DataFrame({\n",
    "            \"customer_num\": dataset_customers[0][\"input_customer_num\"],\n",
    "            \"local_customer_position\": range(dataset_customers[0][\"input_customer_num\"].shape[0])\n",
    "        }),\n",
    "        pd.DataFrame({\n",
    "            \"article_num\": dataset_articles[0][\"input_article_num\"],\n",
    "            \"local_article_position\": range(dataset_articles[0][\"input_article_num\"].shape[0])\n",
    "        })\n",
    "    )\n",
    "    x = {\n",
    "        \"middle_output_customer_layer\": predict_customers[local_df_pretendent[\"local_customer_position\"]],\n",
    "        \"middle_output_article_layer\": predict_articles[local_df_pretendent[\"local_article_position\"]],\n",
    "        'GRU_articles_history_l0': predict_articles[local_df_pretendent[\"local_article_position\"]][:, -8:]\n",
    "    }\n",
    "    local_df_pretendent[\"predict\"] = model_top.predict(tf.data.Dataset.from_tensor_slices(x).batch(256))[:,0]\n",
    "    return local_df_pretendent[[\"customer_num\", \"article_num\", \"predict\"]]"
   ],
   "metadata": {
    "collapsed": false,
    "pycharm": {
     "name": "#%%\n"
    }
   }
  },
  {
   "cell_type": "code",
   "execution_count": 1060,
   "outputs": [],
   "source": [
    "def construct_df_pretendent_quick_v2(current_week, customers_for_test, articles_for_test, construct_dataset_fun, model):\n",
    "    model_customer = keras.Model(model.inputs, model.get_layer('middle_output_customer_layer').output)\n",
    "    dataset_customers = construct_dataset_fun(\n",
    "        current_week=current_week,\n",
    "        test_data=pd.DataFrame({\n",
    "            \"customer_num\": customers_for_test,\n",
    "            \"article_num\": 0\n",
    "        })\n",
    "    )\n",
    "    print(\"dataset for customers constructed\")\n",
    "    predict_customers = model_customer.predict(tf.data.Dataset.from_tensor_slices(dataset_customers).batch(256))\n",
    "    print(\"preduct for customers calculated\")\n",
    "    model_articles = keras.Model(model.inputs, model.get_layer('middle_output_article_layer').output)\n",
    "    dataset_articles = construct_dataset_fun(\n",
    "        current_week=current_week,\n",
    "        test_data=pd.DataFrame({\n",
    "            \"customer_num\": 0,\n",
    "            \"article_num\": articles_for_test\n",
    "        })\n",
    "    )\n",
    "    predict_articles = model_articles.predict(tf.data.Dataset.from_tensor_slices(dataset_articles).batch(256))\n",
    "    model_top = keras.Model(\n",
    "        {\n",
    "            'middle_output_customer_layer': model.get_layer('middle_output_customer_layer').output,\n",
    "            'middle_output_article_layer': model.get_layer('middle_output_article_layer').output,\n",
    "            'GRU_articles_history_l0': model.get_layer('GRU_articles_history_l0').output\n",
    "        },\n",
    "        model.get_layer('output_target_val').output)\n",
    "    local_df_pretendents = list()\n",
    "    for i in range(dataset_customers[0][\"input_customer_num\"].shape[0] // 3000 + 1):\n",
    "        current_time = time.time()\n",
    "        local_df_pretendent = cross_join_dfs(\n",
    "            pd.DataFrame({\n",
    "                \"customer_num\": dataset_customers[0][\"input_customer_num\"][i*3000:min(dataset_customers[0][\"input_customer_num\"].shape[0], (i+1)*3000)],\n",
    "                \"local_customer_position\": range(i * 3000, min(dataset_customers[0][\"input_customer_num\"].shape[0], (i+1)*3000))\n",
    "            }),\n",
    "            pd.DataFrame({\n",
    "                \"article_num\": dataset_articles[0][\"input_article_num\"],\n",
    "                \"local_article_position\": range(dataset_articles[0][\"input_article_num\"].shape[0])\n",
    "            })\n",
    "        )\n",
    "        x = {\n",
    "            \"middle_output_customer_layer\": predict_customers[local_df_pretendent[\"local_customer_position\"]],\n",
    "            \"middle_output_article_layer\": predict_articles[local_df_pretendent[\"local_article_position\"]],\n",
    "            'GRU_articles_history_l0': predict_articles[local_df_pretendent[\"local_article_position\"]][:, -8:]\n",
    "        }\n",
    "        local_df_pretendent[\"predict\"] = model_top.predict(tf.data.Dataset.from_tensor_slices(x).batch(256))[:,0]\n",
    "        local_df_pretendent.sort_values(by=[\"customer_num\", \"predict\"], ascending=False, inplace=True)\n",
    "        local_df_pretendent[\"rank\"] = local_df_pretendent.groupby(by=\"customer_num\")[\"predict\"].cumcount() + 1\n",
    "        local_df_pretendent = local_df_pretendent[local_df_pretendent[\"rank\"] <= 12]\n",
    "        local_df_pretendents.append(local_df_pretendent)\n",
    "        print(i, \"in\", time.time() - current_time, \"seconds\")\n",
    "\n",
    "    return local_df_pretendents"
   ],
   "metadata": {
    "collapsed": false,
    "pycharm": {
     "name": "#%%\n"
    }
   }
  },
  {
   "cell_type": "code",
   "execution_count": 1125,
   "outputs": [],
   "source": [
    "def construct_df_pretendent_quick_v3(current_week, customers_for_test, articles_for_test, construct_dataset_fun, model, max_rank=12):\n",
    "    model_customer = keras.Model(model.inputs, model.get_layer('middle_output_customer_layer').output)\n",
    "    dataset_customers = construct_dataset_fun(\n",
    "        current_week=current_week,\n",
    "        test_data=pd.DataFrame({\n",
    "            \"customer_num\": customers_for_test,\n",
    "            \"article_num\": 0\n",
    "        })\n",
    "    )\n",
    "    print(\"dataset for customers constructed\")\n",
    "    predict_customers = model_customer.predict(tf.data.Dataset.from_tensor_slices(dataset_customers).batch(256))\n",
    "    print(\"preduct for customers calculated\")\n",
    "    model_articles = keras.Model(model.inputs, model.get_layer('middle_output_article_layer').output)\n",
    "    dataset_articles = construct_dataset_fun(\n",
    "        current_week=current_week,\n",
    "        test_data=pd.DataFrame({\n",
    "            \"customer_num\": 0,\n",
    "            \"article_num\": articles_for_test\n",
    "        })\n",
    "    )\n",
    "    predict_articles = model_articles.predict(tf.data.Dataset.from_tensor_slices(dataset_articles).batch(256))\n",
    "    model_top = keras.Model(\n",
    "        {\n",
    "            'middle_output_customer_layer': model.get_layer('middle_output_customer_layer').output,\n",
    "            'middle_output_article_layer': model.get_layer('middle_output_article_layer').output,\n",
    "            'GRU_articles_history_l0': model.get_layer('GRU_articles_history_l0').output\n",
    "        },\n",
    "        model.get_layer('output_target_val').output)\n",
    "    local_df_pretendents = list()\n",
    "    for i in range(dataset_customers[0][\"input_customer_num\"].shape[0] // 3000 + 1):\n",
    "        current_time = time.time()\n",
    "        local_df_pretendent = cross_join_dfs(\n",
    "            pd.DataFrame({\n",
    "                \"customer_num\": dataset_customers[0][\"input_customer_num\"][i*3000:min(dataset_customers[0][\"input_customer_num\"].shape[0], (i+1)*3000)],\n",
    "                \"local_customer_position\": range(i * 3000, min(dataset_customers[0][\"input_customer_num\"].shape[0], (i+1)*3000))\n",
    "            }),\n",
    "            pd.DataFrame({\n",
    "                \"article_num\": dataset_articles[0][\"input_article_num\"],\n",
    "                \"local_article_position\": range(dataset_articles[0][\"input_article_num\"].shape[0])\n",
    "            })\n",
    "        )\n",
    "        x = {\n",
    "            \"middle_output_customer_layer\": predict_customers[local_df_pretendent[\"local_customer_position\"]],\n",
    "            \"middle_output_article_layer\": predict_articles[local_df_pretendent[\"local_article_position\"]],\n",
    "            'GRU_articles_history_l0': predict_articles[local_df_pretendent[\"local_article_position\"]][:, -8:]\n",
    "        }\n",
    "        local_df_pretendent[\"predict\"] = model_top.predict(tf.data.Dataset.from_tensor_slices(x).batch(256))[:,0]\n",
    "        local_df_pretendent.sort_values(by=[\"customer_num\", \"predict\"], ascending=False, inplace=True)\n",
    "        local_df_pretendent[\"rank\"] = local_df_pretendent.groupby(by=\"customer_num\")[\"predict\"].cumcount() + 1\n",
    "        local_df_pretendent = local_df_pretendent[local_df_pretendent[\"rank\"] <= max_rank].copy()\n",
    "        local_df_pretendents.append(local_df_pretendent)\n",
    "        print(i, \"in\", time.time() - current_time, \"seconds\")\n",
    "\n",
    "    return local_df_pretendents"
   ],
   "metadata": {
    "collapsed": false,
    "pycharm": {
     "name": "#%%\n"
    }
   }
  },
  {
   "cell_type": "code",
   "execution_count": 1247,
   "outputs": [],
   "source": [
    "current_week = n_weeks"
   ],
   "metadata": {
    "collapsed": false,
    "pycharm": {
     "name": "#%%\n"
    }
   }
  },
  {
   "cell_type": "code",
   "execution_count": 1248,
   "outputs": [],
   "source": [
    "articles_for_test = np.array([i for i, x in enumerate(articles_g50_probabilities[current_week] > 0.5) if x])"
   ],
   "metadata": {
    "collapsed": false,
    "pycharm": {
     "name": "#%%\n"
    }
   }
  },
  {
   "cell_type": "code",
   "execution_count": 1249,
   "outputs": [],
   "source": [
    "customers_for_test = transactions_train[transactions_train[\"t_weekn\"]==current_week][\"customer_num\"].unique()"
   ],
   "metadata": {
    "collapsed": false,
    "pycharm": {
     "name": "#%%\n"
    }
   }
  },
  {
   "cell_type": "code",
   "execution_count": 1250,
   "outputs": [
    {
     "name": "stdout",
     "output_type": "stream",
     "text": [
      "dataset for customers constructed\n",
      "preduct for customers calculated\n",
      "0 in 28.773771047592163 seconds\n",
      "1 in 23.27600908279419 seconds\n",
      "2 in 23.398591995239258 seconds\n",
      "3 in 21.21505379676819 seconds\n",
      "4 in 24.624945878982544 seconds\n",
      "5 in 20.46595001220703 seconds\n",
      "6 in 18.150823831558228 seconds\n",
      "7 in 19.414697885513306 seconds\n",
      "8 in 17.891782999038696 seconds\n",
      "9 in 18.015785932540894 seconds\n",
      "10 in 15.251144886016846 seconds\n",
      "11 in 14.445904970169067 seconds\n",
      "12 in 13.89551305770874 seconds\n",
      "13 in 18.903637886047363 seconds\n",
      "14 in 18.602320909500122 seconds\n",
      "15 in 18.305045127868652 seconds\n",
      "16 in 18.12534999847412 seconds\n",
      "17 in 18.199127197265625 seconds\n",
      "18 in 17.604440212249756 seconds\n",
      "19 in 17.661805629730225 seconds\n",
      "20 in 17.417651891708374 seconds\n",
      "21 in 13.551955938339233 seconds\n",
      "22 in 14.339505910873413 seconds\n",
      "628.5465309619904\n"
     ]
    }
   ],
   "source": [
    "current_time = time.time()\n",
    "\n",
    "df_pretendents = construct_df_pretendent_quick_v3(current_week=current_week, customers_for_test=customers_for_test, articles_for_test=articles_for_test, construct_dataset_fun=construct_dataset_v7, model=model, max_rank=len(articles_for_test))\n",
    "\n",
    "print(time.time() - current_time)"
   ],
   "metadata": {
    "collapsed": false,
    "pycharm": {
     "name": "#%%\n"
    }
   }
  },
  {
   "cell_type": "code",
   "execution_count": 1251,
   "outputs": [],
   "source": [
    "df_pretendent = pd.concat(df_pretendents, axis = 0, ignore_index=True)"
   ],
   "metadata": {
    "collapsed": false,
    "pycharm": {
     "name": "#%%\n"
    }
   }
  },
  {
   "cell_type": "code",
   "execution_count": 1252,
   "outputs": [],
   "source": [
    "df_pretendent = df_pretendent[[\"customer_num\", \"article_num\", \"rank\", \"predict\"]]"
   ],
   "metadata": {
    "collapsed": false,
    "pycharm": {
     "name": "#%%\n"
    }
   }
  },
  {
   "cell_type": "code",
   "execution_count": 1253,
   "outputs": [],
   "source": [
    "df_pretendent[\"y\"] = np.sign(pd.merge(\n",
    "    df_pretendent,\n",
    "    transactions_train[transactions_train[\"t_weekn\"]==current_week].groupby(by=[\"customer_num\", \"article_num\"])[\"price\"].count(),\n",
    "    how=\"left\", on=[\"customer_num\", \"article_num\"]\n",
    ")[\"price\"].fillna(0))"
   ],
   "metadata": {
    "collapsed": false,
    "pycharm": {
     "name": "#%%\n"
    }
   }
  },
  {
   "cell_type": "code",
   "execution_count": 1254,
   "outputs": [],
   "source": [
    "df_pretendent[\"naive_predict\"] = pd.merge(\n",
    "    df_pretendent,\n",
    "    transactions_train[transactions_train[\"t_weekn\"] == current_week - 1].groupby(\"article_num\")[\"customer_num\"].nunique(),\n",
    "    how=\"left\", on=\"article_num\"\n",
    ")[\"customer_num_y\"].fillna(0)"
   ],
   "metadata": {
    "collapsed": false,
    "pycharm": {
     "name": "#%%\n"
    }
   }
  },
  {
   "cell_type": "code",
   "execution_count": 1255,
   "outputs": [
    {
     "name": "stderr",
     "output_type": "stream",
     "text": [
      "/var/folders/8q/pnrnrzxs48133m1ggwh8dlhc0000gp/T/ipykernel_34521/1600226398.py:1: FutureWarning: Indexing with multiple keys (implicitly converted to a tuple of keys) will be deprecated, use a list instead.\n",
      "  df_for_prop = df_pretendent.groupby(\"article_num\")[\"y\", \"predict\"].mean()\n"
     ]
    }
   ],
   "source": [
    "df_for_prop = df_pretendent.groupby(\"article_num\")[\"y\", \"predict\"].mean()\n",
    "\n",
    "df_for_prop[\"prop\"] = df_for_prop[\"y\"] / df_for_prop[\"predict\"]\n",
    "df_for_prop.drop(columns=[\"y\", \"predict\"], inplace=True)"
   ],
   "metadata": {
    "collapsed": false,
    "pycharm": {
     "name": "#%%\n"
    }
   }
  },
  {
   "cell_type": "code",
   "execution_count": 1256,
   "outputs": [],
   "source": [
    "df_pretendent = pd.merge(df_pretendent, df_for_prop, on=\"article_num\")\n",
    "\n",
    "df_pretendent[\"predict_prop\"] = df_pretendent[\"prop\"] * df_pretendent[\"predict\"]"
   ],
   "metadata": {
    "collapsed": false,
    "pycharm": {
     "name": "#%%\n"
    }
   }
  },
  {
   "cell_type": "code",
   "execution_count": 1257,
   "outputs": [
    {
     "name": "stdout",
     "output_type": "stream",
     "text": [
      "gini for article_num 67 = 0.24990167479391623\n",
      "gini for article_num 73 = 0.27457768150779915\n",
      "gini for article_num 74 = 0.4076654863152367\n",
      "gini for article_num 75 = 0.4729887089853859\n",
      "gini for article_num 367 = 0.5056193479771061\n",
      "gini for article_num 1713 = 0.4143234025075351\n",
      "gini for article_num 1714 = 0.301396779078986\n",
      "gini for article_num 1715 = 0.16079350443435647\n",
      "gini for article_num 2236 = 0.32310788601679574\n",
      "gini for article_num 2252 = 0.4678553800592302\n",
      "gini for article_num 3088 = 0.2639398909483237\n",
      "gini for article_num 3091 = 0.39550362258506855\n",
      "gini for article_num 3510 = 0.2406465587074944\n",
      "gini for article_num 3517 = 0.31723680973592683\n",
      "gini for article_num 3519 = 0.2306614221775667\n",
      "gini for article_num 3520 = 0.2428938323226575\n",
      "gini for article_num 3521 = 0.2318827224107134\n",
      "gini for article_num 7725 = 0.32244945572651407\n",
      "gini for article_num 9773 = 0.2702440334475349\n",
      "gini for article_num 9801 = 0.3493830569564145\n",
      "gini for article_num 11438 = 0.36736433455330575\n",
      "gini for article_num 11453 = 0.07607354996230398\n",
      "gini for article_num 12315 = 0.27035462541696575\n",
      "gini for article_num 12585 = 0.455125232840109\n",
      "gini for article_num 12602 = 0.4607055997732008\n",
      "gini for article_num 12724 = 0.5234459023993847\n",
      "gini for article_num 13120 = 0.35514647165132596\n",
      "gini for article_num 14253 = 0.23919645063042005\n",
      "gini for article_num 14573 = 0.2291902075879504\n",
      "gini for article_num 15988 = 0.25913205659315963\n",
      "gini for article_num 15989 = 0.364774657112489\n",
      "gini for article_num 16003 = 0.2546083649774902\n",
      "gini for article_num 16004 = 0.36893993200317476\n",
      "gini for article_num 16023 = 0.5808884690884892\n",
      "gini for article_num 16024 = 0.4422593179324814\n",
      "gini for article_num 17043 = 0.4033241551999249\n",
      "gini for article_num 17044 = 0.3354911546676611\n",
      "gini for article_num 17132 = 0.4716688294727591\n",
      "gini for article_num 17134 = 0.3126277765493053\n",
      "gini for article_num 17155 = 0.05646925925770563\n",
      "gini for article_num 17163 = 0.16135781036141328\n",
      "gini for article_num 17164 = 0.4093176035160768\n",
      "gini for article_num 17480 = 0.4988409707736978\n",
      "gini for article_num 18586 = 0.22970286559723907\n",
      "gini for article_num 24836 = 0.3038578378829975\n",
      "gini for article_num 24837 = 0.38516275871420147\n",
      "gini for article_num 24861 = 0.5724745458504623\n",
      "gini for article_num 24872 = 0.34872826679531066\n",
      "gini for article_num 25068 = 0.5371533223717371\n",
      "gini for article_num 25799 = 0.40794239723236303\n",
      "gini for article_num 27905 = 0.5793512722657028\n",
      "gini for article_num 28967 = 0.3734183850654924\n",
      "gini for article_num 32742 = 0.4912633411395879\n",
      "gini for article_num 40283 = 0.4617554358509559\n",
      "gini for article_num 42557 = 0.220759168023696\n",
      "gini for article_num 42626 = 0.16718537562766267\n",
      "gini for article_num 42634 = 0.12150303996258938\n",
      "gini for article_num 42635 = 0.22532280927006232\n",
      "gini for article_num 42636 = 0.2619283113431492\n",
      "gini for article_num 42638 = 0.1941465195153802\n",
      "gini for article_num 43695 = 0.3360474111458762\n",
      "gini for article_num 43701 = 0.35193029293796463\n",
      "gini for article_num 43711 = 0.42939995445331336\n",
      "gini for article_num 44032 = 0.39105885062348333\n",
      "gini for article_num 44049 = 0.510215091494292\n",
      "gini for article_num 44051 = 0.46740562656773\n",
      "gini for article_num 45224 = 0.45950831434825345\n",
      "gini for article_num 45359 = 0.09199093929123991\n",
      "gini for article_num 46351 = 0.44118557928207114\n",
      "gini for article_num 46366 = 0.5076876074483732\n",
      "gini for article_num 46374 = 0.4588385326038775\n",
      "gini for article_num 46378 = 0.42907373732525844\n",
      "gini for article_num 46379 = 0.3499001884000361\n",
      "gini for article_num 46382 = 0.5075036396206585\n",
      "gini for article_num 46384 = 0.510745368083602\n",
      "gini for article_num 46386 = 0.43738444583024494\n",
      "gini for article_num 46395 = 0.574169103671164\n",
      "gini for article_num 46398 = 0.4544150451285218\n",
      "gini for article_num 46414 = 0.5175201761019352\n",
      "gini for article_num 46415 = 0.4611856666275216\n",
      "gini for article_num 46425 = 0.45521352922861347\n",
      "gini for article_num 46426 = 0.2306564351677134\n",
      "gini for article_num 47381 = 0.43778648800340303\n",
      "gini for article_num 49558 = 0.22605661756813422\n",
      "gini for article_num 53892 = 0.5411323547920901\n",
      "gini for article_num 53893 = 0.514101829770091\n",
      "gini for article_num 53894 = 0.580287006866054\n",
      "gini for article_num 53896 = 0.5118785806913637\n",
      "gini for article_num 53902 = 0.5581837582021949\n",
      "gini for article_num 53904 = 0.512206416947524\n",
      "gini for article_num 53918 = 0.45653874218848967\n",
      "gini for article_num 55588 = 0.40814416291432787\n",
      "gini for article_num 56694 = 0.18922631927978584\n",
      "gini for article_num 56696 = 0.2896960164258675\n",
      "gini for article_num 56697 = 0.3528679367985792\n",
      "gini for article_num 57063 = 0.4658266217878826\n",
      "gini for article_num 57069 = 0.4673606364763807\n",
      "gini for article_num 57072 = 0.3217958282332263\n",
      "gini for article_num 57080 = 0.3300125022738576\n",
      "gini for article_num 57129 = 0.23940280914388223\n",
      "gini for article_num 57643 = 0.3947341688231143\n",
      "gini for article_num 57645 = 0.35664918030718384\n",
      "gini for article_num 57653 = 0.5525236379459595\n",
      "gini for article_num 57980 = 0.6325429297387752\n",
      "gini for article_num 57986 = 0.3175873953969539\n",
      "gini for article_num 58295 = 0.4054430063986225\n",
      "gini for article_num 58376 = 0.43998959179450425\n",
      "gini for article_num 58496 = 0.30378329059537346\n",
      "gini for article_num 58588 = 0.4798436120674623\n",
      "gini for article_num 59432 = 0.31925162407377217\n",
      "gini for article_num 59433 = 0.3004801970858004\n",
      "gini for article_num 60327 = 0.3410576059160966\n",
      "gini for article_num 60763 = 0.45021319326052156\n",
      "gini for article_num 60764 = 0.37618282824843874\n",
      "gini for article_num 60765 = 0.6018093932384931\n",
      "gini for article_num 60767 = 0.4769817902399225\n",
      "gini for article_num 62331 = 0.4212973394379653\n",
      "gini for article_num 62638 = 0.11948299014716923\n",
      "gini for article_num 62655 = 0.33737131460330194\n",
      "gini for article_num 64156 = 0.26731756177044774\n",
      "gini for article_num 64253 = 0.4447490309503057\n",
      "gini for article_num 66518 = 0.47284992718468066\n",
      "gini for article_num 66525 = 0.4464118753560933\n",
      "gini for article_num 67522 = 0.16933316232032647\n",
      "gini for article_num 67538 = 0.2557074593791562\n",
      "gini for article_num 67539 = 0.31191583308906523\n",
      "gini for article_num 67540 = 0.3492230866405215\n",
      "gini for article_num 67542 = 0.44989481930682285\n",
      "gini for article_num 67543 = 0.3722858800955564\n",
      "gini for article_num 67603 = 0.10035458178319923\n",
      "gini for article_num 67625 = 0.3560506945884305\n",
      "gini for article_num 68428 = 0.4891126683825877\n",
      "gini for article_num 69095 = 0.30988705313047293\n",
      "gini for article_num 69118 = 0.32858988717396187\n",
      "gini for article_num 69677 = -0.04085586991445056\n",
      "gini for article_num 69749 = 0.513266796447492\n",
      "gini for article_num 70114 = 0.37850517832697217\n",
      "gini for article_num 70124 = 0.39862043874674447\n",
      "gini for article_num 70194 = 0.43136563410443496\n",
      "gini for article_num 70204 = 0.2702948332825419\n",
      "gini for article_num 70320 = 0.4327208942062264\n",
      "gini for article_num 70695 = 0.4209093019635983\n",
      "gini for article_num 70699 = 0.35013493611609525\n",
      "gini for article_num 70911 = 0.3310068970854252\n",
      "gini for article_num 70917 = 0.39448263858671995\n",
      "gini for article_num 71095 = 0.2757237799493364\n",
      "gini for article_num 71101 = 0.4456553846153848\n",
      "gini for article_num 71103 = 0.4631721451019213\n",
      "gini for article_num 71106 = 0.4194079313277692\n",
      "gini for article_num 71107 = 0.3203334498878201\n",
      "gini for article_num 71109 = 0.46406761643358174\n",
      "gini for article_num 71110 = 0.39880339683624055\n",
      "gini for article_num 71304 = 0.3153752710417539\n",
      "gini for article_num 72213 = 0.38245782828215225\n",
      "gini for article_num 72351 = 0.4399701355279382\n",
      "gini for article_num 72355 = 0.1788707939412424\n",
      "gini for article_num 72356 = 0.3365694366315004\n",
      "gini for article_num 72357 = 0.27302007547247653\n",
      "gini for article_num 72380 = 0.766415741206093\n",
      "gini for article_num 72382 = 0.7993667305013927\n",
      "gini for article_num 72488 = 0.2624440037121687\n",
      "gini for article_num 72734 = 0.3784629353541451\n",
      "gini for article_num 72735 = 0.44216301024657323\n",
      "gini for article_num 72965 = 0.47753674105563126\n",
      "gini for article_num 72966 = 0.46396322434336135\n",
      "gini for article_num 73050 = 0.6029303968254704\n",
      "gini for article_num 73059 = 0.5921356324645708\n",
      "gini for article_num 73698 = 0.5114466781700204\n",
      "gini for article_num 73703 = 0.5670882000870574\n",
      "gini for article_num 74274 = 0.43329103491344245\n",
      "gini for article_num 74739 = 0.32123294350194254\n",
      "gini for article_num 74740 = 0.3703857903750145\n",
      "gini for article_num 75438 = 0.3391277699565638\n",
      "gini for article_num 75912 = 0.30402631628914856\n",
      "gini for article_num 76003 = 0.4023602475456227\n",
      "gini for article_num 76444 = 0.11672391266476967\n",
      "gini for article_num 76457 = 0.07821689595152281\n",
      "gini for article_num 76472 = 0.46248541469445836\n",
      "gini for article_num 77092 = 0.32153373012642206\n",
      "gini for article_num 77605 = 0.3388530306990103\n",
      "gini for article_num 77908 = 0.3052200940742229\n",
      "gini for article_num 77915 = 0.3619907894033325\n",
      "gini for article_num 78197 = 0.4935387121311141\n",
      "gini for article_num 78503 = 0.5162758250297372\n",
      "gini for article_num 78548 = 0.37464732705350356\n",
      "gini for article_num 78549 = 0.21423974854390426\n",
      "gini for article_num 78556 = 0.2403954700852089\n",
      "gini for article_num 78964 = 0.5470266283360572\n",
      "gini for article_num 79438 = 0.3738374428825897\n",
      "gini for article_num 79441 = 0.4704235853877692\n",
      "gini for article_num 79488 = 0.3829278494703785\n",
      "gini for article_num 79796 = 0.024036803964594622\n",
      "gini for article_num 79832 = 0.29323563053848556\n",
      "gini for article_num 80056 = 0.19628245983647208\n",
      "gini for article_num 80057 = 0.12715341932485025\n",
      "gini for article_num 80260 = 0.6867299070145891\n",
      "gini for article_num 80297 = 0.4788134933249131\n",
      "gini for article_num 80813 = 0.4184884512733129\n",
      "gini for article_num 80902 = 0.4024601247411914\n",
      "gini for article_num 80920 = 0.2710599054167475\n",
      "gini for article_num 80922 = 0.34283084394000696\n",
      "gini for article_num 80923 = 0.4329437963283187\n",
      "gini for article_num 80930 = 0.15483771378296463\n",
      "gini for article_num 80932 = 0.42196478320344966\n",
      "gini for article_num 81224 = 0.3086785774823009\n",
      "gini for article_num 81226 = 0.2933313635181507\n",
      "gini for article_num 81232 = 0.5426358157652547\n",
      "gini for article_num 81240 = 0.43127224315995183\n",
      "gini for article_num 81244 = 0.33217401997476426\n",
      "gini for article_num 81245 = 0.4527491654587541\n",
      "gini for article_num 81246 = 0.5568285845825134\n",
      "gini for article_num 81553 = 0.4323657202929807\n",
      "gini for article_num 81557 = 0.4414435898717448\n",
      "gini for article_num 81608 = 0.4317464467328662\n",
      "gini for article_num 81824 = 0.402560239953093\n",
      "gini for article_num 81825 = 0.3582080031102599\n",
      "gini for article_num 81826 = 0.3718309169278997\n",
      "gini for article_num 82628 = 0.2132864463370221\n",
      "gini for article_num 82631 = 0.2356848280669146\n",
      "gini for article_num 82790 = 0.38753682048550586\n",
      "gini for article_num 82792 = 0.40282111451540015\n",
      "gini for article_num 82793 = 0.3318813855453757\n",
      "gini for article_num 84149 = 0.4094811821709554\n",
      "gini for article_num 84150 = 0.40501877911568895\n",
      "gini for article_num 84482 = 0.2263217152798127\n",
      "gini for article_num 85252 = 0.35763834244659565\n",
      "gini for article_num 85255 = 0.45595327552855913\n",
      "gini for article_num 85336 = 0.6024264295335464\n",
      "gini for article_num 85414 = 0.42527168967728124\n",
      "gini for article_num 85873 = 0.5374131101422961\n",
      "gini for article_num 87395 = 0.23351283161942238\n",
      "gini for article_num 87467 = 0.21250694827441663\n",
      "gini for article_num 87470 = 0.13063593221301328\n",
      "gini for article_num 87475 = 0.23736172441782433\n",
      "gini for article_num 87622 = 0.42233131060914\n",
      "gini for article_num 87655 = 0.275694922163622\n",
      "gini for article_num 88269 = 0.4321667615515996\n",
      "gini for article_num 89659 = 0.15358429020051867\n",
      "gini for article_num 89660 = 0.3256928383535025\n",
      "gini for article_num 90082 = 0.3950352195048723\n",
      "gini for article_num 90223 = 0.3614139157030709\n",
      "gini for article_num 90965 = 0.48508357030932636\n",
      "gini for article_num 90966 = 0.4835544508890999\n",
      "gini for article_num 91051 = 0.489529311079109\n",
      "gini for article_num 91737 = 0.28133848656030747\n",
      "gini for article_num 91739 = 0.19502847506650367\n",
      "gini for article_num 91742 = 0.3486106657723891\n",
      "gini for article_num 92135 = 0.2789929044800701\n",
      "gini for article_num 93020 = 0.3538570379811188\n",
      "gini for article_num 93052 = 0.3209616536026507\n",
      "gini for article_num 93053 = 0.3733744594059605\n",
      "gini for article_num 93169 = 0.1807249940491653\n",
      "gini for article_num 93171 = 0.5818016539919739\n",
      "gini for article_num 93370 = 0.5826339778448146\n",
      "gini for article_num 93641 = 0.35307374617864373\n",
      "gini for article_num 93909 = 0.23345744162869853\n",
      "gini for article_num 94077 = 0.574977578271461\n",
      "gini for article_num 94309 = 0.3598417708979964\n",
      "gini for article_num 94513 = 0.5711989095012795\n",
      "gini for article_num 94656 = 0.23786368984809814\n",
      "gini for article_num 94657 = 0.20681513230972026\n",
      "gini for article_num 94670 = 0.3960711208565675\n",
      "gini for article_num 94671 = 0.10051954557522835\n",
      "gini for article_num 94672 = 0.23498629724799502\n",
      "gini for article_num 94673 = 0.23474967777080802\n",
      "gini for article_num 94674 = 0.19106121992299396\n",
      "gini for article_num 94696 = 0.2629679385870767\n",
      "gini for article_num 94697 = 0.1932502692815501\n",
      "gini for article_num 94698 = 0.11696425978627012\n",
      "gini for article_num 94699 = 0.23272700425506443\n",
      "gini for article_num 94700 = 0.2078860104644602\n",
      "gini for article_num 94806 = 0.266051268869274\n",
      "gini for article_num 94913 = 0.4808342079125114\n",
      "gini for article_num 95011 = 0.4322432751094314\n",
      "gini for article_num 95085 = 0.8794750564754483\n",
      "gini for article_num 95216 = 0.3190654157599693\n",
      "gini for article_num 95217 = 0.27923498635654065\n",
      "gini for article_num 95247 = 0.1415206884272937\n",
      "gini for article_num 95248 = 0.10501088534107406\n",
      "gini for article_num 95249 = 0.4378309181080109\n",
      "gini for article_num 95250 = -0.08979786789191657\n",
      "gini for article_num 95251 = 0.055780773237581904\n",
      "gini for article_num 95252 = 0.2293467516686012\n",
      "gini for article_num 95253 = 0.23829128305253056\n",
      "gini for article_num 95256 = 0.27381625965538636\n",
      "gini for article_num 95259 = 0.10420604523146304\n",
      "gini for article_num 95269 = 0.4245490913136649\n",
      "gini for article_num 95418 = 0.36970359137579645\n",
      "gini for article_num 95499 = 0.1971686567105746\n",
      "gini for article_num 95775 = 0.497659408841266\n",
      "gini for article_num 95784 = 0.40481848320034963\n",
      "gini for article_num 95788 = 0.45343773316805347\n",
      "gini for article_num 95789 = 0.44722777099325417\n",
      "gini for article_num 95833 = 0.237582314574043\n",
      "gini for article_num 96062 = 0.37451987881335413\n",
      "gini for article_num 96063 = 0.37282537511289027\n",
      "gini for article_num 96070 = 0.19883679093918993\n",
      "gini for article_num 96187 = 0.5985549417315847\n",
      "gini for article_num 96188 = 0.4742948531549871\n",
      "gini for article_num 96197 = 0.47160138791767414\n",
      "gini for article_num 96384 = 0.38820008997373345\n",
      "gini for article_num 96385 = 0.43161634535597093\n",
      "gini for article_num 96758 = 0.3994869726780923\n",
      "gini for article_num 96761 = 0.32271583260169723\n",
      "gini for article_num 96834 = 0.1895475201935537\n",
      "gini for article_num 96835 = 0.24561368255676452\n",
      "gini for article_num 96836 = 0.37158186105785984\n",
      "gini for article_num 97003 = 0.2949566641567105\n",
      "gini for article_num 97005 = 0.20515238260047108\n",
      "gini for article_num 97006 = 0.22391470235085942\n",
      "gini for article_num 97221 = 0.4476679568623654\n",
      "gini for article_num 97243 = 0.49237772879396013\n",
      "gini for article_num 97245 = 0.04935300189704739\n",
      "gini for article_num 97251 = 0.26176511883493836\n",
      "gini for article_num 97253 = 0.23894914078930696\n",
      "gini for article_num 97254 = 0.1801586609892345\n",
      "gini for article_num 97256 = 0.1570354045057485\n",
      "gini for article_num 97318 = 0.4626292542307988\n",
      "gini for article_num 97319 = 0.40826101888398725\n",
      "gini for article_num 97348 = 0.2227074093372834\n",
      "gini for article_num 97394 = 0.5774404387317444\n",
      "gini for article_num 97399 = 0.5359619916735694\n",
      "gini for article_num 97514 = 0.23469135360818183\n",
      "gini for article_num 97517 = 0.4030866628800285\n",
      "gini for article_num 97518 = 0.26802144108172654\n",
      "gini for article_num 97520 = 0.36564223512336724\n",
      "gini for article_num 97540 = 0.49806133587441637\n",
      "gini for article_num 97541 = 0.513651878018021\n",
      "gini for article_num 97557 = 0.40738017064236587\n",
      "gini for article_num 97560 = 0.4680923330216684\n",
      "gini for article_num 97682 = 0.33591014543242226\n",
      "gini for article_num 97684 = 0.3866676543145615\n",
      "gini for article_num 98075 = 0.2849034291762347\n",
      "gini for article_num 98152 = 0.1970170310920123\n",
      "gini for article_num 98166 = 0.25588637777317036\n",
      "gini for article_num 98235 = 0.03539069552289309\n",
      "gini for article_num 98236 = 0.12982309242502543\n",
      "gini for article_num 98237 = 0.011268654292303726\n",
      "gini for article_num 98831 = 0.4460406557918115\n",
      "gini for article_num 99011 = 0.38522194470172977\n",
      "gini for article_num 99023 = 0.2469770279923802\n",
      "gini for article_num 99024 = 0.3685575631072826\n",
      "gini for article_num 99078 = 0.17624986976058388\n",
      "gini for article_num 99164 = 0.475989332227174\n",
      "gini for article_num 99394 = 0.3343544487286514\n",
      "gini for article_num 99395 = 0.44260749086874185\n",
      "gini for article_num 99396 = 0.3394229861388989\n",
      "gini for article_num 99398 = 0.3714674301034897\n",
      "gini for article_num 99399 = 0.31585967247210833\n",
      "gini for article_num 99402 = 0.5319123294292196\n",
      "gini for article_num 99655 = 0.4218797522738036\n",
      "gini for article_num 99657 = 0.5700097229679724\n",
      "gini for article_num 99766 = 0.49451107262042937\n",
      "gini for article_num 100093 = 0.1052813447092289\n",
      "gini for article_num 100228 = 0.5103411721631437\n",
      "gini for article_num 100277 = 0.3448106798398145\n",
      "gini for article_num 100282 = 0.37232977461137273\n",
      "gini for article_num 100319 = 0.4098602169247725\n",
      "gini for article_num 100381 = 0.2888548094920793\n",
      "gini for article_num 100645 = 0.3117521316426122\n",
      "gini for article_num 100646 = 0.20565507296868346\n",
      "gini for article_num 100647 = 0.2810315319842758\n",
      "gini for article_num 100648 = 0.27355314332153013\n",
      "gini for article_num 100754 = 0.4432169577730196\n",
      "gini for article_num 100801 = 0.6389565550818923\n",
      "gini for article_num 100802 = 0.3349804234338747\n",
      "gini for article_num 100823 = 0.16113647682874932\n",
      "gini for article_num 100824 = 0.14138932712800245\n",
      "gini for article_num 100826 = 0.46353357295727915\n",
      "gini for article_num 100936 = 0.4323125499305671\n",
      "gini for article_num 100937 = 0.31742625148368564\n",
      "gini for article_num 100938 = 0.3008222680652004\n",
      "gini for article_num 100947 = 0.23573959047134196\n",
      "gini for article_num 100950 = 0.39131814092637085\n",
      "gini for article_num 100951 = 0.3089263901814798\n",
      "gini for article_num 100986 = 0.3666723679018986\n",
      "gini for article_num 100988 = 0.34659601986023514\n",
      "gini for article_num 101069 = 0.5837466427867919\n",
      "gini for article_num 101134 = 0.36489145005229107\n",
      "gini for article_num 101135 = 0.3690626789307849\n",
      "gini for article_num 101192 = 0.408672792820983\n",
      "gini for article_num 101211 = 0.3921252699115916\n",
      "gini for article_num 101212 = 0.3887466917343039\n",
      "gini for article_num 101304 = 0.19395628157496403\n",
      "gini for article_num 101366 = 0.4462902061433036\n",
      "gini for article_num 101367 = 0.42452797340736637\n",
      "gini for article_num 101368 = 0.47035962315980884\n",
      "gini for article_num 101370 = 0.37004041087695416\n",
      "gini for article_num 101373 = 0.5708690465831303\n",
      "gini for article_num 101374 = 0.356439815931028\n",
      "gini for article_num 101375 = 0.3632804232804232\n",
      "gini for article_num 101379 = 0.4895541577656459\n",
      "gini for article_num 101455 = 0.3716983413124426\n",
      "gini for article_num 101499 = 0.8325673110692426\n",
      "gini for article_num 101517 = 0.19629301839707503\n",
      "gini for article_num 101550 = 0.17681228076111832\n",
      "gini for article_num 101582 = 0.3164011219036529\n",
      "gini for article_num 101637 = 0.18856115372895954\n",
      "gini for article_num 101689 = 0.4037396316603403\n",
      "gini for article_num 101695 = 0.5228578545838236\n",
      "gini for article_num 101715 = 0.35158641615293673\n",
      "gini for article_num 101716 = 0.37531113691376805\n",
      "gini for article_num 101717 = 0.13297671033478897\n",
      "gini for article_num 101718 = 0.16271944009552586\n",
      "gini for article_num 101719 = 0.37730742726269195\n",
      "gini for article_num 101729 = 0.21938406361672058\n",
      "gini for article_num 101755 = 0.3482159048511808\n",
      "gini for article_num 101759 = 0.41931214433228625\n",
      "gini for article_num 101891 = 0.8218010433794871\n",
      "gini for article_num 101894 = 0.7695465045940733\n",
      "gini for article_num 101999 = 0.23918283190386846\n",
      "gini for article_num 102107 = 0.5560759361666452\n",
      "gini for article_num 102119 = 0.18926899543740272\n",
      "gini for article_num 102120 = 0.18026440240869412\n",
      "gini for article_num 102134 = 0.2891708226680305\n",
      "gini for article_num 102141 = 0.22437275898931608\n",
      "gini for article_num 102143 = 0.37148811911497726\n",
      "gini for article_num 102174 = 0.40410294820764303\n",
      "gini for article_num 102177 = 0.39889750438292015\n",
      "gini for article_num 102181 = 0.30757707614833363\n",
      "gini for article_num 102182 = 0.2453342106999341\n",
      "gini for article_num 102342 = 0.4723773927161048\n",
      "gini for article_num 102347 = 0.2923432665980483\n",
      "gini for article_num 102348 = 0.28953780919473804\n",
      "gini for article_num 102398 = 0.13207141220224683\n",
      "gini for article_num 102413 = 0.3873929268085827\n",
      "gini for article_num 102445 = 0.4956293508116669\n",
      "gini for article_num 102446 = 0.3069696722148021\n",
      "gini for article_num 102464 = 0.42007827691584176\n",
      "gini for article_num 102521 = 0.48532730467301777\n",
      "gini for article_num 102524 = 0.07689132319084435\n",
      "gini for article_num 102525 = 0.20617543974225017\n",
      "gini for article_num 102538 = 0.12605199888613017\n",
      "gini for article_num 102548 = 0.20427157658199246\n",
      "gini for article_num 102549 = 0.2250920255785156\n",
      "gini for article_num 102550 = 0.12189647257948222\n",
      "gini for article_num 102552 = 0.3244138961847871\n",
      "gini for article_num 102643 = 0.9354573686993422\n",
      "gini for article_num 102649 = 0.269922420464896\n",
      "gini for article_num 102701 = 0.045406054188906975\n",
      "gini for article_num 102723 = 0.4461819913779872\n",
      "gini for article_num 102725 = 0.5009770921872492\n",
      "gini for article_num 102733 = 0.5473116155308295\n",
      "gini for article_num 102746 = 0.4383976581175346\n",
      "gini for article_num 102748 = 0.2125050107125579\n",
      "gini for article_num 102749 = 0.198364491199857\n",
      "gini for article_num 102757 = 0.44932236526952973\n",
      "gini for article_num 102760 = 0.18239575996708135\n",
      "gini for article_num 102761 = 0.1544116991324902\n",
      "gini for article_num 102762 = 0.24626936313380865\n",
      "gini for article_num 102791 = 0.2509523317592759\n",
      "gini for article_num 102822 = 0.42452028190542523\n",
      "gini for article_num 102856 = 0.5069977437024378\n",
      "gini for article_num 102860 = 0.33659627459922126\n",
      "gini for article_num 102881 = 0.23944347256017906\n",
      "gini for article_num 102896 = 0.3830067916052857\n",
      "gini for article_num 102951 = 0.38979400586067836\n",
      "gini for article_num 102952 = 0.30452595452595443\n",
      "gini for article_num 103009 = 0.296166259500962\n",
      "gini for article_num 103033 = 0.45940699020538767\n",
      "gini for article_num 103047 = 0.4495780314914879\n",
      "gini for article_num 103075 = 0.14362452380426638\n",
      "gini for article_num 103104 = 0.20454557820661634\n",
      "gini for article_num 103108 = 0.5388248987242275\n",
      "gini for article_num 103109 = 0.3266168375609313\n",
      "gini for article_num 103129 = 0.3411962978652432\n",
      "gini for article_num 103143 = 0.49898134599334476\n",
      "gini for article_num 103144 = 0.4947904560737353\n",
      "gini for article_num 103168 = 0.46498321844574697\n",
      "gini for article_num 103169 = 0.6080345518195425\n",
      "gini for article_num 103180 = 0.39073646831700204\n",
      "gini for article_num 103181 = 0.30261471175519117\n",
      "gini for article_num 103187 = 0.4485539407652366\n",
      "gini for article_num 103220 = 0.2770951310178522\n",
      "gini for article_num 103302 = 0.3338017079797744\n",
      "gini for article_num 103303 = 0.39760803813837153\n",
      "gini for article_num 103304 = 0.5025904627180844\n",
      "gini for article_num 103368 = 0.47198056600257243\n",
      "gini for article_num 103413 = 0.23712855775089237\n",
      "gini for article_num 103421 = 0.12920566229878183\n",
      "gini for article_num 103422 = 0.21037439753789\n",
      "gini for article_num 103423 = 0.21703733857056662\n",
      "gini for article_num 103424 = 0.13519046062201623\n",
      "gini for article_num 103448 = 0.43411116359836166\n",
      "gini for article_num 103457 = 0.38034774839286123\n",
      "gini for article_num 103458 = 0.5260336259003171\n",
      "gini for article_num 103479 = 0.3569255511416274\n",
      "gini for article_num 103520 = 0.329432255164412\n",
      "gini for article_num 103557 = 0.3003093258297598\n",
      "gini for article_num 103665 = 0.21416607998446846\n",
      "gini for article_num 103667 = 0.3484928620413248\n",
      "gini for article_num 103668 = 0.2689730693150145\n",
      "gini for article_num 103669 = 0.44427738284489005\n",
      "gini for article_num 103703 = 0.4143314369453459\n",
      "gini for article_num 103704 = 0.44138972765809203\n",
      "gini for article_num 103793 = 0.5050355325441167\n",
      "gini for article_num 103794 = 0.35218519236160106\n",
      "gini for article_num 103795 = 0.24434906122960953\n",
      "gini for article_num 103796 = 0.16384239532259315\n",
      "gini for article_num 103797 = 0.3440369601723061\n",
      "gini for article_num 103801 = 0.6483305913259221\n",
      "gini for article_num 103862 = 0.31643679815881987\n",
      "gini for article_num 104033 = 0.2945576454197143\n",
      "gini for article_num 104045 = 0.32400423156156455\n",
      "gini for article_num 104047 = 0.4072583656899804\n",
      "gini for article_num 104048 = 0.43383017563054826\n",
      "gini for article_num 104070 = 0.3380107812157642\n",
      "gini for article_num 104072 = 0.4358813233667629\n",
      "gini for article_num 104073 = 0.32208616304992166\n",
      "gini for article_num 104114 = 0.33118337351497384\n",
      "gini for article_num 104119 = 0.24021694753495537\n",
      "gini for article_num 104120 = 0.33226014571554385\n",
      "gini for article_num 104147 = 0.21149191627915043\n",
      "gini for article_num 104148 = 0.3242868428496557\n",
      "gini for article_num 104149 = 0.18989387957317527\n",
      "gini for article_num 104157 = 0.38296441809614024\n",
      "gini for article_num 104207 = 0.35380289309800017\n",
      "gini for article_num 104215 = 0.48734397108153305\n",
      "gini for article_num 104224 = 0.2649008814567615\n",
      "gini for article_num 104257 = 0.39451798310546016\n",
      "gini for article_num 104259 = 0.4501119280292456\n",
      "gini for article_num 104302 = 0.44419035850462585\n",
      "gini for article_num 104314 = 0.34736397811721487\n",
      "gini for article_num 104321 = 0.12483246020113503\n",
      "gini for article_num 104360 = 0.4316595818764779\n",
      "gini for article_num 104362 = 0.51216016324994\n",
      "gini for article_num 104402 = 0.40353953155847155\n",
      "gini for article_num 104430 = 0.5454005867095375\n",
      "gini for article_num 104431 = 0.7732947789428171\n",
      "gini for article_num 104432 = 0.3459670754344817\n",
      "gini for article_num 104433 = 0.2337038396814699\n",
      "gini for article_num 104434 = 0.35713965174332474\n",
      "gini for article_num 104445 = 0.6069335323125975\n",
      "gini for article_num 104447 = 0.07580991403841719\n",
      "gini for article_num 104466 = 0.25355350771029883\n",
      "gini for article_num 104505 = 0.3767607494429632\n",
      "gini for article_num 104507 = 0.19388976338211217\n",
      "gini for article_num 104511 = 0.4600855113163762\n",
      "gini for article_num 104526 = 0.34762717067829385\n",
      "gini for article_num 104527 = 0.4505818160150499\n",
      "gini for article_num 104553 = 0.449111527002203\n",
      "gini for article_num 104554 = 0.5372831438591137\n",
      "gini for article_num 104555 = 0.20323764857760773\n",
      "gini for article_num 104569 = 0.5417124291546989\n",
      "gini for article_num 104570 = 0.5302999155122152\n",
      "gini for article_num 104578 = 0.46759290148526356\n",
      "gini for article_num 104633 = 0.19794691601812042\n",
      "gini for article_num 104642 = 0.20251990116813778\n",
      "gini for article_num 104698 = 0.4139657414260842\n",
      "gini for article_num 104707 = 0.5254205542884787\n",
      "gini for article_num 104739 = 0.43467264195588107\n",
      "gini for article_num 104839 = 0.4281473884014053\n",
      "gini for article_num 104840 = 0.40721292376834084\n",
      "gini for article_num 104858 = 0.17256933071861802\n",
      "gini for article_num 104931 = 0.50377449128822\n",
      "gini for article_num 104946 = 0.325488468322787\n",
      "gini for article_num 104947 = 0.17547761521596716\n",
      "gini for article_num 104951 = 0.4234608301567191\n",
      "gini for article_num 104961 = 0.465431319637883\n",
      "gini for article_num 104986 = 0.392028379509882\n",
      "gini for article_num 104987 = 0.5363453960886697\n",
      "gini for article_num 105011 = 0.5090448331631843\n",
      "gini for article_num 105013 = 0.5337864445174048\n",
      "gini for article_num 105058 = 0.6779477344126885\n",
      "gini for article_num 105059 = 0.805809436304141\n",
      "gini for article_num 105077 = 0.19074078509328674\n",
      "gini for article_num 105108 = 0.44218581129911927\n",
      "gini for article_num 105109 = 0.49462290604251113\n",
      "gini for article_num 105146 = 0.4175603610712324\n",
      "gini for article_num 105179 = 0.415592834687287\n",
      "gini for article_num 105180 = 0.4189761220877941\n",
      "gini for article_num 105181 = 0.3347434213161926\n",
      "gini for article_num 105258 = 0.3974585930340875\n",
      "gini for article_num 105270 = 0.45527716401799223\n",
      "gini for article_num 105271 = 0.47136232166993364\n",
      "gini for article_num 105277 = 0.3801554450989717\n",
      "gini for article_num 105305 = 0.2971428364004447\n",
      "gini for article_num 105306 = 0.40778108996407547\n",
      "gini for article_num 105314 = 0.4122832565167389\n",
      "gini for article_num 105444 = 0.779338850130705\n"
     ]
    }
   ],
   "source": [
    "for article_num in articles_for_test:\n",
    "    fpr, tpr, _ = metrics.roc_curve(\n",
    "        df_pretendent[\"y\"][df_pretendent[\"article_num\"] == article_num]\n",
    "        ,  df_pretendent[\"predict\"][df_pretendent[\"article_num\"] == article_num]\n",
    "    )\n",
    "\n",
    "    print(\"gini for article_num\", article_num, \"=\", metrics.auc(fpr, tpr)*2 - 1)"
   ],
   "metadata": {
    "collapsed": false,
    "pycharm": {
     "name": "#%%\n"
    }
   }
  },
  {
   "cell_type": "code",
   "execution_count": 1258,
   "outputs": [
    {
     "name": "stdout",
     "output_type": "stream",
     "text": [
      "gini our model = 0.4312864418979738\n",
      "gini naive model = 0.24695283268568158\n",
      "best model = 0.47193923998659937\n"
     ]
    },
    {
     "data": {
      "text/plain": "<Figure size 432x288 with 1 Axes>",
      "image/png": "[encoded data removed]"
     },
     "metadata": {
      "needs_background": "light"
     },
     "output_type": "display_data"
    }
   ],
   "source": [
    "fpr, tpr, _ = metrics.roc_curve(\n",
    "    df_pretendent[\"y\"]\n",
    "    ,  df_pretendent[\"predict\"]\n",
    ")\n",
    "\n",
    "print(\"gini our model =\", metrics.auc(fpr, tpr)*2 - 1)\n",
    "\n",
    "fpr2, tpr2, _ = metrics.roc_curve(\n",
    "    df_pretendent[\"y\"]\n",
    "    ,  df_pretendent[\"naive_predict\"]\n",
    ")\n",
    "\n",
    "print(\"gini naive model =\", metrics.auc(fpr2, tpr2)*2 - 1)\n",
    "\n",
    "fpr3, tpr3, _ = metrics.roc_curve(\n",
    "    df_pretendent[\"y\"]\n",
    "    ,  df_pretendent[\"predict_prop\"]\n",
    ")\n",
    "\n",
    "print(\"best model =\", metrics.auc(fpr3, tpr3)*2 - 1)\n",
    "#create ROC curve\n",
    "plt.plot(fpr,tpr)\n",
    "plt.plot(fpr2,tpr2, \"r\")\n",
    "plt.plot(fpr3,tpr3, \"g\")\n",
    "plt.ylabel('True Positive Rate')\n",
    "plt.xlabel('False Positive Rate')\n",
    "plt.show()"
   ],
   "metadata": {
    "collapsed": false,
    "pycharm": {
     "name": "#%%\n"
    }
   }
  },
  {
   "cell_type": "code",
   "execution_count": 1259,
   "outputs": [],
   "source": [
    "df_pretendent.sort_values(by=[\"customer_num\", \"naive_predict\"], ascending=False, inplace=True)"
   ],
   "metadata": {
    "collapsed": false,
    "pycharm": {
     "name": "#%%\n"
    }
   }
  },
  {
   "cell_type": "code",
   "execution_count": 1260,
   "outputs": [],
   "source": [
    "df_pretendent[\"naive_rank\"] = df_pretendent.groupby(\"customer_num\")[\"article_num\"].cumcount()+1"
   ],
   "metadata": {
    "collapsed": false,
    "pycharm": {
     "name": "#%%\n"
    }
   }
  },
  {
   "cell_type": "code",
   "execution_count": 1261,
   "outputs": [],
   "source": [
    "df_pretendent.sort_values(by=[\"customer_num\", \"predict_prop\"], ascending=False, inplace=True)"
   ],
   "metadata": {
    "collapsed": false,
    "pycharm": {
     "name": "#%%\n"
    }
   }
  },
  {
   "cell_type": "code",
   "execution_count": 1262,
   "outputs": [],
   "source": [
    "df_pretendent[\"prop_rank\"] = df_pretendent.groupby(\"customer_num\")[\"article_num\"].cumcount()+1"
   ],
   "metadata": {
    "collapsed": false,
    "pycharm": {
     "name": "#%%\n"
    }
   }
  },
  {
   "cell_type": "code",
   "execution_count": 1263,
   "outputs": [
    {
     "name": "stderr",
     "output_type": "stream",
     "text": [
      "/var/folders/8q/pnrnrzxs48133m1ggwh8dlhc0000gp/T/ipykernel_34521/3662792287.py:1: FutureWarning: Indexing with multiple keys (implicitly converted to a tuple of keys) will be deprecated, use a list instead.\n",
      "  df_pretendent.groupby(\"rank\")[\"y\", \"predict\"].mean().iloc[:12, :]\n"
     ]
    },
    {
     "data": {
      "text/plain": "             y   predict\nrank                    \n1     0.013018  0.314378\n2     0.012264  0.278718\n3     0.010727  0.258043\n4     0.009799  0.243079\n5     0.008437  0.231003\n6     0.008611  0.221047\n7     0.007639  0.212202\n8     0.007610  0.204744\n9     0.007393  0.197752\n10    0.007016  0.191470\n11    0.006277  0.185706\n12    0.006784  0.180652",
      "text/html": "<div>\n<style scoped>\n    .dataframe tbody tr th:only-of-type {\n        vertical-align: middle;\n    }\n\n    .dataframe tbody tr th {\n        vertical-align: top;\n    }\n\n    .dataframe thead th {\n        text-align: right;\n    }\n</style>\n<table border=\"1\" class=\"dataframe\">\n  <thead>\n    <tr style=\"text-align: right;\">\n      <th></th>\n      <th>y</th>\n      <th>predict</th>\n    </tr>\n    <tr>\n      <th>rank</th>\n      <th></th>\n      <th></th>\n    </tr>\n  </thead>\n  <tbody>\n    <tr>\n      <th>1</th>\n      <td>0.013018</td>\n      <td>0.314378</td>\n    </tr>\n    <tr>\n      <th>2</th>\n      <td>0.012264</td>\n      <td>0.278718</td>\n    </tr>\n    <tr>\n      <th>3</th>\n      <td>0.010727</td>\n      <td>0.258043</td>\n    </tr>\n    <tr>\n      <th>4</th>\n      <td>0.009799</td>\n      <td>0.243079</td>\n    </tr>\n    <tr>\n      <th>5</th>\n      <td>0.008437</td>\n      <td>0.231003</td>\n    </tr>\n    <tr>\n      <th>6</th>\n      <td>0.008611</td>\n      <td>0.221047</td>\n    </tr>\n    <tr>\n      <th>7</th>\n      <td>0.007639</td>\n      <td>0.212202</td>\n    </tr>\n    <tr>\n      <th>8</th>\n      <td>0.007610</td>\n      <td>0.204744</td>\n    </tr>\n    <tr>\n      <th>9</th>\n      <td>0.007393</td>\n      <td>0.197752</td>\n    </tr>\n    <tr>\n      <th>10</th>\n      <td>0.007016</td>\n      <td>0.191470</td>\n    </tr>\n    <tr>\n      <th>11</th>\n      <td>0.006277</td>\n      <td>0.185706</td>\n    </tr>\n    <tr>\n      <th>12</th>\n      <td>0.006784</td>\n      <td>0.180652</td>\n    </tr>\n  </tbody>\n</table>\n</div>"
     },
     "execution_count": 1263,
     "metadata": {},
     "output_type": "execute_result"
    }
   ],
   "source": [
    "df_pretendent.groupby(\"rank\")[\"y\", \"predict\"].mean().iloc[:12, :]"
   ],
   "metadata": {
    "collapsed": false,
    "pycharm": {
     "name": "#%%\n"
    }
   }
  },
  {
   "cell_type": "code",
   "execution_count": 1264,
   "outputs": [
    {
     "name": "stderr",
     "output_type": "stream",
     "text": [
      "/var/folders/8q/pnrnrzxs48133m1ggwh8dlhc0000gp/T/ipykernel_34521/368622858.py:1: FutureWarning: Indexing with multiple keys (implicitly converted to a tuple of keys) will be deprecated, use a list instead.\n",
      "  df_pretendent.groupby(\"article_num\")[\"y\", \"predict\"].mean().sort_values(by=\"y\", ascending=False)\n"
     ]
    },
    {
     "data": {
      "text/plain": "                    y   predict\narticle_num                    \n104553       0.011061  0.167610\n104072       0.008248  0.174485\n104554       0.007726  0.086574\n104527       0.007437  0.027621\n95499        0.006973  0.067096\n...               ...       ...\n100319       0.000290  0.017815\n100801       0.000261  0.013660\n79796        0.000261  0.032973\n57980        0.000246  0.035939\n46366        0.000203  0.019750\n\n[580 rows x 2 columns]",
      "text/html": "<div>\n<style scoped>\n    .dataframe tbody tr th:only-of-type {\n        vertical-align: middle;\n    }\n\n    .dataframe tbody tr th {\n        vertical-align: top;\n    }\n\n    .dataframe thead th {\n        text-align: right;\n    }\n</style>\n<table border=\"1\" class=\"dataframe\">\n  <thead>\n    <tr style=\"text-align: right;\">\n      <th></th>\n      <th>y</th>\n      <th>predict</th>\n    </tr>\n    <tr>\n      <th>article_num</th>\n      <th></th>\n      <th></th>\n    </tr>\n  </thead>\n  <tbody>\n    <tr>\n      <th>104553</th>\n      <td>0.011061</td>\n      <td>0.167610</td>\n    </tr>\n    <tr>\n      <th>104072</th>\n      <td>0.008248</td>\n      <td>0.174485</td>\n    </tr>\n    <tr>\n      <th>104554</th>\n      <td>0.007726</td>\n      <td>0.086574</td>\n    </tr>\n    <tr>\n      <th>104527</th>\n      <td>0.007437</td>\n      <td>0.027621</td>\n    </tr>\n    <tr>\n      <th>95499</th>\n      <td>0.006973</td>\n      <td>0.067096</td>\n    </tr>\n    <tr>\n      <th>...</th>\n      <td>...</td>\n      <td>...</td>\n    </tr>\n    <tr>\n      <th>100319</th>\n      <td>0.000290</td>\n      <td>0.017815</td>\n    </tr>\n    <tr>\n      <th>100801</th>\n      <td>0.000261</td>\n      <td>0.013660</td>\n    </tr>\n    <tr>\n      <th>79796</th>\n      <td>0.000261</td>\n      <td>0.032973</td>\n    </tr>\n    <tr>\n      <th>57980</th>\n      <td>0.000246</td>\n      <td>0.035939</td>\n    </tr>\n    <tr>\n      <th>46366</th>\n      <td>0.000203</td>\n      <td>0.019750</td>\n    </tr>\n  </tbody>\n</table>\n<p>580 rows × 2 columns</p>\n</div>"
     },
     "execution_count": 1264,
     "metadata": {},
     "output_type": "execute_result"
    }
   ],
   "source": [
    "df_pretendent.groupby(\"article_num\")[\"y\", \"predict\"].mean().sort_values(by=\"y\", ascending=False)"
   ],
   "metadata": {
    "collapsed": false,
    "pycharm": {
     "name": "#%%\n"
    }
   }
  },
  {
   "cell_type": "code",
   "execution_count": 1265,
   "outputs": [
    {
     "name": "stderr",
     "output_type": "stream",
     "text": [
      "/var/folders/8q/pnrnrzxs48133m1ggwh8dlhc0000gp/T/ipykernel_34521/3110080104.py:1: FutureWarning: Indexing with multiple keys (implicitly converted to a tuple of keys) will be deprecated, use a list instead.\n",
      "  df_pretendent.groupby(\"article_num\")[\"y\", \"predict\"].mean().sort_values(by=\"predict\", ascending=False).plot.scatter(x=\"predict\", y=\"y\", s=1)\n"
     ]
    },
    {
     "data": {
      "text/plain": "<AxesSubplot:xlabel='predict', ylabel='y'>"
     },
     "execution_count": 1265,
     "metadata": {},
     "output_type": "execute_result"
    },
    {
     "data": {
      "text/plain": "<Figure size 432x288 with 1 Axes>",
      "image/png": "[encoded data removed]"
     },
     "metadata": {
      "needs_background": "light"
     },
     "output_type": "display_data"
    }
   ],
   "source": [
    "df_pretendent.groupby(\"article_num\")[\"y\", \"predict\"].mean().sort_values(by=\"predict\", ascending=False).plot.scatter(x=\"predict\", y=\"y\", s=1)"
   ],
   "metadata": {
    "collapsed": false,
    "pycharm": {
     "name": "#%%\n"
    }
   }
  },
  {
   "cell_type": "code",
   "execution_count": 1266,
   "outputs": [
    {
     "name": "stderr",
     "output_type": "stream",
     "text": [
      "/var/folders/8q/pnrnrzxs48133m1ggwh8dlhc0000gp/T/ipykernel_34521/1013666978.py:1: FutureWarning: Indexing with multiple keys (implicitly converted to a tuple of keys) will be deprecated, use a list instead.\n",
      "  df_pretendent.groupby(\"article_num\")[\"y\", \"predict_prop\"].mean().sort_values(by=\"predict_prop\", ascending=False).plot.scatter(x=\"predict_prop\", y=\"y\", s=1)\n"
     ]
    },
    {
     "data": {
      "text/plain": "<AxesSubplot:xlabel='predict_prop', ylabel='y'>"
     },
     "execution_count": 1266,
     "metadata": {},
     "output_type": "execute_result"
    },
    {
     "data": {
      "text/plain": "<Figure size 432x288 with 1 Axes>",
      "image/png": "[encoded data removed]"
     },
     "metadata": {
      "needs_background": "light"
     },
     "output_type": "display_data"
    }
   ],
   "source": [
    "df_pretendent.groupby(\"article_num\")[\"y\", \"predict_prop\"].mean().sort_values(by=\"predict_prop\", ascending=False).plot.scatter(x=\"predict_prop\", y=\"y\", s=1)"
   ],
   "metadata": {
    "collapsed": false,
    "pycharm": {
     "name": "#%%\n"
    }
   }
  },
  {
   "cell_type": "code",
   "execution_count": 1267,
   "outputs": [],
   "source": [
    "df_pretendent[\"g200_predict\"] = articles_g200_probabilities[current_week][df_pretendent[\"article_num\"]]"
   ],
   "metadata": {
    "collapsed": false,
    "pycharm": {
     "name": "#%%\n"
    }
   }
  },
  {
   "cell_type": "code",
   "execution_count": 1268,
   "outputs": [
    {
     "name": "stderr",
     "output_type": "stream",
     "text": [
      "/var/folders/8q/pnrnrzxs48133m1ggwh8dlhc0000gp/T/ipykernel_34521/207241107.py:1: FutureWarning: Indexing with multiple keys (implicitly converted to a tuple of keys) will be deprecated, use a list instead.\n",
      "  df_pretendent.groupby(\"article_num\")[\"y\", \"g200_predict\"].mean().plot.scatter(x=\"g200_predict\", y=\"y\", s=1)\n"
     ]
    },
    {
     "data": {
      "text/plain": "<AxesSubplot:xlabel='g200_predict', ylabel='y'>"
     },
     "execution_count": 1268,
     "metadata": {},
     "output_type": "execute_result"
    },
    {
     "data": {
      "text/plain": "<Figure size 432x288 with 1 Axes>",
      "image/png": "[encoded data removed]"
     },
     "metadata": {
      "needs_background": "light"
     },
     "output_type": "display_data"
    }
   ],
   "source": [
    "df_pretendent.groupby(\"article_num\")[\"y\", \"g200_predict\"].mean().plot.scatter(x=\"g200_predict\", y=\"y\", s=1)"
   ],
   "metadata": {
    "collapsed": false,
    "pycharm": {
     "name": "#%%\n"
    }
   }
  },
  {
   "cell_type": "code",
   "execution_count": 1269,
   "outputs": [
    {
     "name": "stderr",
     "output_type": "stream",
     "text": [
      "/var/folders/8q/pnrnrzxs48133m1ggwh8dlhc0000gp/T/ipykernel_34521/4235189654.py:1: FutureWarning: Indexing with multiple keys (implicitly converted to a tuple of keys) will be deprecated, use a list instead.\n",
      "  df_pretendent.groupby(\"article_num\")[\"y\", \"predict\"].mean().sort_values(by=\"predict\", ascending=False)\n"
     ]
    },
    {
     "data": {
      "text/plain": "                    y   predict\narticle_num                    \n95217        0.005538  0.176896\n104072       0.008248  0.174485\n67522        0.006059  0.169080\n104553       0.011061  0.167610\n104073       0.004494  0.144092\n...               ...       ...\n101373       0.000464  0.017080\n100801       0.000261  0.013660\n58588        0.000913  0.012459\n102521       0.000783  0.011726\n102182       0.001464  0.011193\n\n[580 rows x 2 columns]",
      "text/html": "<div>\n<style scoped>\n    .dataframe tbody tr th:only-of-type {\n        vertical-align: middle;\n    }\n\n    .dataframe tbody tr th {\n        vertical-align: top;\n    }\n\n    .dataframe thead th {\n        text-align: right;\n    }\n</style>\n<table border=\"1\" class=\"dataframe\">\n  <thead>\n    <tr style=\"text-align: right;\">\n      <th></th>\n      <th>y</th>\n      <th>predict</th>\n    </tr>\n    <tr>\n      <th>article_num</th>\n      <th></th>\n      <th></th>\n    </tr>\n  </thead>\n  <tbody>\n    <tr>\n      <th>95217</th>\n      <td>0.005538</td>\n      <td>0.176896</td>\n    </tr>\n    <tr>\n      <th>104072</th>\n      <td>0.008248</td>\n      <td>0.174485</td>\n    </tr>\n    <tr>\n      <th>67522</th>\n      <td>0.006059</td>\n      <td>0.169080</td>\n    </tr>\n    <tr>\n      <th>104553</th>\n      <td>0.011061</td>\n      <td>0.167610</td>\n    </tr>\n    <tr>\n      <th>104073</th>\n      <td>0.004494</td>\n      <td>0.144092</td>\n    </tr>\n    <tr>\n      <th>...</th>\n      <td>...</td>\n      <td>...</td>\n    </tr>\n    <tr>\n      <th>101373</th>\n      <td>0.000464</td>\n      <td>0.017080</td>\n    </tr>\n    <tr>\n      <th>100801</th>\n      <td>0.000261</td>\n      <td>0.013660</td>\n    </tr>\n    <tr>\n      <th>58588</th>\n      <td>0.000913</td>\n      <td>0.012459</td>\n    </tr>\n    <tr>\n      <th>102521</th>\n      <td>0.000783</td>\n      <td>0.011726</td>\n    </tr>\n    <tr>\n      <th>102182</th>\n      <td>0.001464</td>\n      <td>0.011193</td>\n    </tr>\n  </tbody>\n</table>\n<p>580 rows × 2 columns</p>\n</div>"
     },
     "execution_count": 1269,
     "metadata": {},
     "output_type": "execute_result"
    }
   ],
   "source": [
    "df_pretendent.groupby(\"article_num\")[\"y\", \"predict\"].mean().sort_values(by=\"predict\", ascending=False)"
   ],
   "metadata": {
    "collapsed": false,
    "pycharm": {
     "name": "#%%\n"
    }
   }
  },
  {
   "cell_type": "code",
   "execution_count": 1270,
   "outputs": [
    {
     "data": {
      "text/plain": "t_weekn\n102      42\n103    1052\n104     444\nName: customer_num, dtype: int64"
     },
     "execution_count": 1270,
     "metadata": {},
     "output_type": "execute_result"
    }
   ],
   "source": [
    "transactions_train[transactions_train[\"article_num\"] == 103108].groupby(\"t_weekn\")[\"customer_num\"].nunique()"
   ],
   "metadata": {
    "collapsed": false,
    "pycharm": {
     "name": "#%%\n"
    }
   }
  },
  {
   "cell_type": "code",
   "execution_count": 1271,
   "outputs": [
    {
     "data": {
      "text/plain": "0.010232404414751088"
     },
     "execution_count": 1271,
     "metadata": {},
     "output_type": "execute_result"
    }
   ],
   "source": [
    "map_at_k(\n",
    "    df_pretendent[df_pretendent[\"prop_rank\"]<=12],\n",
    "    transactions_train[transactions_train[\"t_weekn\"]==n_weeks],\n",
    "    rank_column=\"rank\"\n",
    ")"
   ],
   "metadata": {
    "collapsed": false,
    "pycharm": {
     "name": "#%%\n"
    }
   }
  },
  {
   "cell_type": "code",
   "execution_count": 1272,
   "outputs": [
    {
     "data": {
      "text/plain": "0.011531160622979127"
     },
     "execution_count": 1272,
     "metadata": {},
     "output_type": "execute_result"
    }
   ],
   "source": [
    "map_at_k(\n",
    "    df_pretendent[df_pretendent[\"rank\"]<=12],\n",
    "    transactions_train[transactions_train[\"t_weekn\"]==n_weeks],\n",
    "    rank_column=\"rank\"\n",
    ")"
   ],
   "metadata": {
    "collapsed": false,
    "pycharm": {
     "name": "#%%\n"
    }
   }
  },
  {
   "cell_type": "code",
   "execution_count": 1273,
   "outputs": [
    {
     "data": {
      "text/plain": "0.00813898760052937"
     },
     "execution_count": 1273,
     "metadata": {},
     "output_type": "execute_result"
    }
   ],
   "source": [
    "map_at_k(\n",
    "    df_pretendent[df_pretendent[\"naive_rank\"]<=12],\n",
    "    transactions_train[transactions_train[\"t_weekn\"]==current_week],\n",
    "    rank_column=\"naive_rank\"\n",
    ")"
   ],
   "metadata": {
    "collapsed": false,
    "pycharm": {
     "name": "#%%\n"
    }
   }
  },
  {
   "cell_type": "code",
   "execution_count": 1274,
   "outputs": [],
   "source": [
    "del df_pretendent, df_for_prop, df_pretendents"
   ],
   "metadata": {
    "collapsed": false,
    "pycharm": {
     "name": "#%%\n"
    }
   }
  },
  {
   "cell_type": "markdown",
   "source": [
    "#### Итоговое предсказание для n_weeks+1"
   ],
   "metadata": {
    "collapsed": false,
    "pycharm": {
     "name": "#%% md\n"
    }
   }
  },
  {
   "cell_type": "code",
   "execution_count": null,
   "outputs": [],
   "source": [
    "current_week = n_weeks + 1\n",
    "articles_for_test = np.array([i for i, x in enumerate(articles_g50_probabilities[current_week] > 0.5) if x])\n",
    "customers_for_test = df_customers_ids.copy()"
   ],
   "metadata": {
    "collapsed": false,
    "pycharm": {
     "name": "#%%\n"
    }
   }
  },
  {
   "cell_type": "code",
   "execution_count": null,
   "outputs": [],
   "source": [
    "current_time = time.time()\n",
    "\n",
    "df_pretendent = construct_df_pretendent_quick_v2(current_week=current_week,\n",
    "                                                 customers_for_test=customers_for_test[\"customer_num\"],\n",
    "                                                 articles_for_test=articles_for_test,\n",
    "                                                 construct_dataset_fun=construct_dataset_v7, model=model)\n",
    "\n",
    "print(time.time() - current_time)\n",
    "df_pretendent2 = pd.concat(df_pretendent, axis=0, ignore_index=True)\n",
    "df_pretendent2 = df_pretendent2[[\"customer_num\", \"article_num\", \"rank\"]]\n",
    "df_pretendent2 = pd.merge(\n",
    "    pd.merge(df_pretendent2, df_customers_ids, on=\"customer_num\"),\n",
    "    df_articles_ids, on=\"article_num\"\n",
    ")\n",
    "df_pretendent2.sort_values(by=[\"customer_num\", \"rank\"], inplace=True)\n",
    "df_pretendent2[\"article_id\"] = df_pretendent2[\"article_id\"].astype(str)\n",
    "result = df_pretendent2.groupby(\"customer_id\")[\"article_id\"].apply(' '.join).reset_index()\n",
    "result.rename(columns={\"article_id\": \"prediction\"}, inplace=True)\n",
    "result.to_csv(\"submission001.csv\", index=False)"
   ],
   "metadata": {
    "collapsed": false,
    "pycharm": {
     "name": "#%%\n"
    }
   }
  },
  {
   "cell_type": "markdown",
   "source": [
    "# Архив"
   ],
   "metadata": {
    "collapsed": false
   }
  },
  {
   "cell_type": "markdown",
   "source": [
    "#### transfer learning"
   ],
   "metadata": {
    "collapsed": false
   }
  },
  {
   "cell_type": "code",
   "execution_count": null,
   "outputs": [],
   "source": [
    "mymap = {\n",
    "    \"dense_article_l0\": \"dense_20\",\n",
    "    \"dense_purchase_history_l0\": \"dense_22\",\n",
    "    \"dense_customer_l0\": \"dense_19\",\n",
    "    \"dense_article_l1\": \"dense_21\",\n",
    "    \"dense_purchase_history_l1\": \"dense_23\",\n",
    "    \"dense_t2\": \"dense_25\",\n",
    "    \"dense_t1\": \"dense_26\",\n",
    "    \"output_target_val\": \"output_target_val\"\n",
    "}\n",
    "\n",
    "for key in mymap.keys():\n",
    "    model.get_layer(key).set_weights(old_model.get_layer(mymap[key]).get_weights())\n",
    "\n",
    "model.get_layer(\"dense_t3\").set_weights(\n",
    "    [np.concatenate(\n",
    "        [old_model.get_layer(\"dense_24\").get_weights()[0],\n",
    "         model.get_layer(\"dense_t3\").get_weights()[0][-8:,:]],\n",
    "        axis=0\n",
    "    ),\n",
    "        old_model.get_layer(\"dense_24\").get_weights()[1]]\n",
    ")"
   ],
   "metadata": {
    "collapsed": false,
    "pycharm": {
     "name": "#%%\n"
    }
   }
  }
 ],
 "metadata": {
  "kernelspec": {
   "display_name": "Python 3",
   "language": "python",
   "name": "python3"
  },
  "language_info": {
   "codemirror_mode": {
    "name": "ipython",
    "version": 2
   },
   "file_extension": ".py",
   "mimetype": "text/x-python",
   "name": "python",
   "nbconvert_exporter": "python",
   "pygments_lexer": "ipython2",
   "version": "2.7.6"
  }
 },
 "nbformat": 4,
 "nbformat_minor": 0
}